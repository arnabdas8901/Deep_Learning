{
  "nbformat": 4,
  "nbformat_minor": 0,
  "metadata": {
    "colab": {
      "name": "IDL_Project_Assignment_Task6.ipynb",
      "provenance": []
    },
    "kernelspec": {
      "name": "python3",
      "display_name": "Python 3"
    },
    "accelerator": "GPU"
  },
  "cells": [
    {
      "cell_type": "markdown",
      "metadata": {
        "id": "jdwk7ZofSqeA"
      },
      "source": [
        "################################################\n",
        "\n",
        "Owner: Arnab Das\n",
        "\n",
        "Dataset: glue-CoLA\n",
        "\n",
        "##############################################"
      ]
    },
    {
      "cell_type": "markdown",
      "metadata": {
        "id": "Mota4BW9bq5q"
      },
      "source": [
        "## Task 6: BERT fine-tuning for classification"
      ]
    },
    {
      "cell_type": "markdown",
      "metadata": {
        "id": "irSxGAsMrKPS"
      },
      "source": [
        "### Index:\n",
        "* Importing pretrained Bert encoder checkpoint\n",
        "* Defining the tokenizer\n",
        "* Defining input encoding \n",
        "* Making BERT encoder object\n",
        "* Defining the classification model\n",
        "* Model training\n",
        "* Testing the classification task and results\n",
        "* Question & answers"
      ]
    },
    {
      "cell_type": "code",
      "metadata": {
        "id": "Y7c6Q1bmVBx8",
        "colab": {
          "base_uri": "https://localhost:8080/",
          "height": 212
        },
        "outputId": "be1e2689-8f6f-4d55-a393-eda05ae288b4"
      },
      "source": [
        "!pip install -q tf-nightly\n",
        "!pip install -q tf-models-nightly"
      ],
      "execution_count": null,
      "outputs": [
        {
          "output_type": "stream",
          "text": [
            "\u001b[K     |████████████████████████████████| 341.4MB 41kB/s \n",
            "\u001b[K     |████████████████████████████████| 9.2MB 59.0MB/s \n",
            "\u001b[K     |████████████████████████████████| 460kB 58.3MB/s \n",
            "\u001b[K     |████████████████████████████████| 983kB 8.4MB/s \n",
            "\u001b[K     |████████████████████████████████| 358kB 30.4MB/s \n",
            "\u001b[K     |████████████████████████████████| 102kB 12.4MB/s \n",
            "\u001b[K     |████████████████████████████████| 1.1MB 17.6MB/s \n",
            "\u001b[K     |████████████████████████████████| 36.6MB 130kB/s \n",
            "\u001b[K     |████████████████████████████████| 174kB 52.4MB/s \n",
            "\u001b[?25h  Building wheel for py-cpuinfo (setup.py) ... \u001b[?25l\u001b[?25hdone\n",
            "  Building wheel for seqeval (setup.py) ... \u001b[?25l\u001b[?25hdone\n"
          ],
          "name": "stdout"
        }
      ]
    },
    {
      "cell_type": "markdown",
      "metadata": {
        "id": "Yt3NAmPOcEDp"
      },
      "source": [
        "> The task is to do BERT fine tuning using a custom classifier on top of BERT encoder following tutorial [TF Tutorial on BERT fine-tuning](https://www.tensorflow.org/official_models/fine_tuning_bert)."
      ]
    },
    {
      "cell_type": "code",
      "metadata": {
        "id": "kOfgKz3wSmaS"
      },
      "source": [
        "import os\n",
        "\n",
        "import numpy as np\n",
        "import matplotlib.pyplot as plt\n",
        "\n",
        "import tensorflow as tf\n",
        "\n",
        "import tensorflow_hub as hub\n",
        "import tensorflow_datasets as tfds\n",
        "tfds.disable_progress_bar()\n",
        "\n",
        "from official.modeling import tf_utils\n",
        "from official import nlp\n",
        "from official.nlp import bert\n",
        "\n",
        "# Load the required submodules\n",
        "import official.nlp.optimization\n",
        "import official.nlp.bert.bert_models\n",
        "import official.nlp.bert.configs\n",
        "import official.nlp.bert.run_classifier\n",
        "import official.nlp.bert.tokenization\n",
        "import official.nlp.data.classifier_data_lib\n",
        "import official.nlp.modeling.losses\n",
        "import official.nlp.modeling.models\n",
        "import official.nlp.modeling.networks"
      ],
      "execution_count": null,
      "outputs": []
    },
    {
      "cell_type": "code",
      "metadata": {
        "id": "P2UViRsceU2r"
      },
      "source": [
        "from tensorflow import keras\n",
        "from keras.models import Sequential\n",
        "from keras.layers import Dense, Conv2D, Flatten, Dropout, MaxPooling2D, BatchNormalization, Activation, Conv2DTranspose, Input, AveragePooling2D, concatenate"
      ],
      "execution_count": null,
      "outputs": []
    },
    {
      "cell_type": "code",
      "metadata": {
        "id": "3yNqBddDXJB0",
        "colab": {
          "base_uri": "https://localhost:8080/",
          "height": 87
        },
        "outputId": "6b9d3c8e-664b-445a-b379-c8af9d194148"
      },
      "source": [
        "gs_folder_bert = \"gs://cloud-tpu-checkpoints/bert/keras_bert/uncased_L-12_H-768_A-12\"\n",
        "tf.io.gfile.listdir(gs_folder_bert)"
      ],
      "execution_count": null,
      "outputs": [
        {
          "output_type": "execute_result",
          "data": {
            "text/plain": [
              "['bert_config.json',\n",
              " 'bert_model.ckpt.data-00000-of-00001',\n",
              " 'bert_model.ckpt.index',\n",
              " 'vocab.txt']"
            ]
          },
          "metadata": {
            "tags": []
          },
          "execution_count": 3
        }
      ]
    },
    {
      "cell_type": "code",
      "metadata": {
        "id": "U7a-J5u8XQFK"
      },
      "source": [
        "hub_url_bert = \"https://tfhub.dev/tensorflow/bert_en_uncased_L-12_H-768_A-12/2\""
      ],
      "execution_count": null,
      "outputs": []
    },
    {
      "cell_type": "code",
      "metadata": {
        "id": "WJtcgXHqXU2S",
        "colab": {
          "base_uri": "https://localhost:8080/",
          "height": 161
        },
        "outputId": "9a8e1364-c62d-4d3c-893f-c9f87591b952"
      },
      "source": [
        "glue, info = tfds.load('glue/cola', with_info=True,\n",
        "                       # It's small, load the whole dataset\n",
        "                       batch_size=-1)"
      ],
      "execution_count": null,
      "outputs": [
        {
          "output_type": "stream",
          "text": [
            "\u001b[1mDownloading and preparing dataset glue/cola/1.0.0 (download: 368.14 KiB, generated: Unknown size, total: 368.14 KiB) to /root/tensorflow_datasets/glue/cola/1.0.0...\u001b[0m\n"
          ],
          "name": "stdout"
        },
        {
          "output_type": "stream",
          "text": [
            "/usr/local/lib/python3.6/dist-packages/urllib3/connectionpool.py:847: InsecureRequestWarning: Unverified HTTPS request is being made. Adding certificate verification is strongly advised. See: https://urllib3.readthedocs.io/en/latest/advanced-usage.html#ssl-warnings\n",
            "  InsecureRequestWarning)\n"
          ],
          "name": "stderr"
        },
        {
          "output_type": "stream",
          "text": [
            "Shuffling and writing examples to /root/tensorflow_datasets/glue/cola/1.0.0.incompleteP2E8I3/glue-train.tfrecord\n",
            "Shuffling and writing examples to /root/tensorflow_datasets/glue/cola/1.0.0.incompleteP2E8I3/glue-validation.tfrecord\n",
            "Shuffling and writing examples to /root/tensorflow_datasets/glue/cola/1.0.0.incompleteP2E8I3/glue-test.tfrecord\n",
            "\u001b[1mDataset glue downloaded and prepared to /root/tensorflow_datasets/glue/cola/1.0.0. Subsequent calls will reuse this data.\u001b[0m\n"
          ],
          "name": "stdout"
        }
      ]
    },
    {
      "cell_type": "code",
      "metadata": {
        "id": "ZuW7wsIhXZpr",
        "colab": {
          "base_uri": "https://localhost:8080/",
          "height": 34
        },
        "outputId": "04edfa25-a051-4a30-a072-caf4e2270b6d"
      },
      "source": [
        "# Set up tokenizer to generate Tensorflow dataset\n",
        "tokenizer = bert.tokenization.FullTokenizer(\n",
        "    vocab_file=os.path.join(gs_folder_bert, \"vocab.txt\"),\n",
        "     do_lower_case=True)\n",
        "\n",
        "print(\"Vocab size:\", len(tokenizer.vocab))"
      ],
      "execution_count": null,
      "outputs": [
        {
          "output_type": "stream",
          "text": [
            "Vocab size: 30522\n"
          ],
          "name": "stdout"
        }
      ]
    },
    {
      "cell_type": "code",
      "metadata": {
        "id": "0c_R3Secjqmh",
        "colab": {
          "base_uri": "https://localhost:8080/",
          "height": 34
        },
        "outputId": "1a43ac87-4cac-4d5f-86a4-904dd9426231"
      },
      "source": [
        "tokens = tokenizer.tokenize(\"Hello BertEncoder!\")\n",
        "print(tokens)"
      ],
      "execution_count": null,
      "outputs": [
        {
          "output_type": "stream",
          "text": [
            "['hello', 'bert', '##en', '##code', '##r', '!']\n"
          ],
          "name": "stdout"
        }
      ]
    },
    {
      "cell_type": "code",
      "metadata": {
        "id": "7N8wai8xYrNT"
      },
      "source": [
        "def encode_sentence(s):\n",
        "   tokens = list(tokenizer.tokenize(s.numpy()))\n",
        "   tokens.append('[SEP]')\n",
        "   return tokenizer.convert_tokens_to_ids(tokens)"
      ],
      "execution_count": null,
      "outputs": []
    },
    {
      "cell_type": "code",
      "metadata": {
        "id": "exjmjbjcY05y"
      },
      "source": [
        "glue_train = glue['train']\n",
        "sentence1 = tf.ragged.constant([\n",
        "    encode_sentence(s) for s in glue_train[\"sentence\"]])"
      ],
      "execution_count": null,
      "outputs": []
    },
    {
      "cell_type": "code",
      "metadata": {
        "id": "oXYDGfbQZH6D",
        "colab": {
          "base_uri": "https://localhost:8080/",
          "height": 264
        },
        "outputId": "cb09b9a5-15e0-440c-8d8f-bf12837d1d6d"
      },
      "source": [
        "cls = [tokenizer.convert_tokens_to_ids(['[CLS]'])]*sentence1.shape[0]\n",
        "input_word_ids = tf.concat([cls, sentence1], axis=-1)\n",
        "_ = plt.pcolormesh(input_word_ids.to_tensor())"
      ],
      "execution_count": null,
      "outputs": [
        {
          "output_type": "display_data",
          "data": {
            "image/png": "[encoded data removed]",
            "text/plain": [
              "<Figure size 432x288 with 1 Axes>"
            ]
          },
          "metadata": {
            "tags": [],
            "needs_background": "light"
          }
        }
      ]
    },
    {
      "cell_type": "code",
      "metadata": {
        "id": "N2tgtdR6Zbky",
        "colab": {
          "base_uri": "https://localhost:8080/",
          "height": 282
        },
        "outputId": "8d388ee3-1cfc-4582-f6d9-c35e0ecfed75"
      },
      "source": [
        "input_mask = tf.ones_like(input_word_ids).to_tensor()\n",
        "\n",
        "plt.pcolormesh(input_mask)"
      ],
      "execution_count": null,
      "outputs": [
        {
          "output_type": "execute_result",
          "data": {
            "text/plain": [
              "<matplotlib.collections.QuadMesh at 0x7f67501a24e0>"
            ]
          },
          "metadata": {
            "tags": []
          },
          "execution_count": 15
        },
        {
          "output_type": "display_data",
          "data": {
            "image/png": "[encoded data removed]",
            "text/plain": [
              "<Figure size 432x288 with 1 Axes>"
            ]
          },
          "metadata": {
            "tags": [],
            "needs_background": "light"
          }
        }
      ]
    },
    {
      "cell_type": "code",
      "metadata": {
        "id": "AT3zNHZdZolC",
        "colab": {
          "base_uri": "https://localhost:8080/",
          "height": 282
        },
        "outputId": "24f8de0c-c297-4ab1-c463-fa4aee20e1c9"
      },
      "source": [
        "type_cls = tf.zeros_like(cls)\n",
        "type_s1 = tf.ones_like(sentence1)\n",
        "input_type_ids = tf.concat([type_cls, type_s1], axis=-1).to_tensor()\n",
        "\n",
        "plt.pcolormesh(input_type_ids)"
      ],
      "execution_count": null,
      "outputs": [
        {
          "output_type": "execute_result",
          "data": {
            "text/plain": [
              "<matplotlib.collections.QuadMesh at 0x7f672aa384a8>"
            ]
          },
          "metadata": {
            "tags": []
          },
          "execution_count": 17
        },
        {
          "output_type": "display_data",
          "data": {
            "image/png": "[encoded data removed]",
            "text/plain": [
              "<Figure size 432x288 with 1 Axes>"
            ]
          },
          "metadata": {
            "tags": [],
            "needs_background": "light"
          }
        }
      ]
    },
    {
      "cell_type": "markdown",
      "metadata": {
        "id": "mtQmyes6ceYA"
      },
      "source": [
        "#### Putting it all together"
      ]
    },
    {
      "cell_type": "code",
      "metadata": {
        "id": "hEL6-lFPbbdr"
      },
      "source": [
        "def encode_sentence(s, tokenizer):\n",
        "   tokens = list(tokenizer.tokenize(s))\n",
        "   tokens.append('[SEP]')\n",
        "   return tokenizer.convert_tokens_to_ids(tokens)\n",
        "\n",
        "def bert_encode(glue_dict, tokenizer):\n",
        "  num_examples = len(glue_dict[\"sentence\"])\n",
        "  \n",
        "  sentence = tf.ragged.constant([\n",
        "      encode_sentence(s, tokenizer)\n",
        "      for s in np.array(glue_dict[\"sentence\"])])\n",
        "\n",
        "  cls = [tokenizer.convert_tokens_to_ids(['[CLS]'])]*sentence.shape[0]\n",
        "  input_word_ids = tf.concat([cls, sentence], axis=-1)\n",
        "\n",
        "  input_mask = tf.ones_like(input_word_ids).to_tensor()\n",
        "\n",
        "  type_cls = tf.zeros_like(cls)\n",
        "  type_s = tf.ones_like(sentence)\n",
        "  input_type_ids = tf.concat(\n",
        "      [type_cls, type_s], axis=-1).to_tensor()\n",
        "\n",
        "  inputs = {\n",
        "      'input_word_ids': input_word_ids.to_tensor(),\n",
        "      'input_mask': input_mask,\n",
        "      'input_type_ids': input_type_ids}\n",
        "\n",
        "  return inputs"
      ],
      "execution_count": null,
      "outputs": []
    },
    {
      "cell_type": "code",
      "metadata": {
        "id": "dTJUFmIgbrrb"
      },
      "source": [
        "glue_train = bert_encode(glue['train'], tokenizer)\n",
        "glue_train_labels = glue['train']['label']\n",
        "\n",
        "glue_validation = bert_encode(glue['validation'], tokenizer)\n",
        "glue_validation_labels = glue['validation']['label']\n",
        "\n",
        "glue_test = bert_encode(glue['test'], tokenizer)\n",
        "glue_test_labels  = glue['test']['label']"
      ],
      "execution_count": null,
      "outputs": []
    },
    {
      "cell_type": "code",
      "metadata": {
        "id": "hgcEWnZGcVpU",
        "colab": {
          "base_uri": "https://localhost:8080/",
          "height": 87
        },
        "outputId": "3620cfbc-598e-4b6b-b899-65454f53c6b0"
      },
      "source": [
        "for key, value in glue_train.items():\n",
        "  print(f'{key:15s} shape: {value.shape}')\n",
        "\n",
        "print(f'glue_train_labels shape: {glue_train_labels.shape}')"
      ],
      "execution_count": null,
      "outputs": [
        {
          "output_type": "stream",
          "text": [
            "input_word_ids  shape: (8551, 47)\n",
            "input_mask      shape: (8551, 47)\n",
            "input_type_ids  shape: (8551, 47)\n",
            "glue_train_labels shape: (8551,)\n"
          ],
          "name": "stdout"
        }
      ]
    },
    {
      "cell_type": "code",
      "metadata": {
        "id": "Fs78sti9ceJ8",
        "colab": {
          "base_uri": "https://localhost:8080/",
          "height": 212
        },
        "outputId": "b5213e44-278a-41c4-bfbf-ee0561c6e68c"
      },
      "source": [
        "import json\n",
        "\n",
        "bert_config_file = os.path.join(gs_folder_bert, \"bert_config.json\")\n",
        "config_dict = json.loads(tf.io.gfile.GFile(bert_config_file).read())\n",
        "\n",
        "bert_config = bert.configs.BertConfig.from_dict(config_dict)\n",
        "\n",
        "config_dict"
      ],
      "execution_count": null,
      "outputs": [
        {
          "output_type": "execute_result",
          "data": {
            "text/plain": [
              "{'attention_probs_dropout_prob': 0.1,\n",
              " 'hidden_act': 'gelu',\n",
              " 'hidden_dropout_prob': 0.1,\n",
              " 'hidden_size': 768,\n",
              " 'initializer_range': 0.02,\n",
              " 'intermediate_size': 3072,\n",
              " 'max_position_embeddings': 512,\n",
              " 'num_attention_heads': 12,\n",
              " 'num_hidden_layers': 12,\n",
              " 'type_vocab_size': 2,\n",
              " 'vocab_size': 30522}"
            ]
          },
          "metadata": {
            "tags": []
          },
          "execution_count": 25
        }
      ]
    },
    {
      "cell_type": "markdown",
      "metadata": {
        "id": "7fzc-hu7ckIX"
      },
      "source": [
        "### Custom classifier model:\n",
        "* Obviously first layer is BERT encoder\n",
        "* Afterwards there are few droppot and dense layers for the classifiction task.\n",
        "* the encoder outputs to arrays, array at index 1 is fed to downstream layers."
      ]
    },
    {
      "cell_type": "code",
      "metadata": {
        "id": "vXdrUD7Ld9OT"
      },
      "source": [
        "class MyModel(tf.keras.Model):\n",
        "\n",
        "  def __init__(self, encoder):\n",
        "    super(MyModel, self).__init__()\n",
        "    self.encoder = encoder\n",
        "    self.dout=Dropout(0.2)\n",
        "    self.fc_1 = Dense(768, activation='relu')\n",
        "    self.dout2=Dropout(0.2)\n",
        "    self.fc_2 = Dense(128, activation='relu')\n",
        "    self.classfier = Dense(2, activation='softmax')\n",
        "\n",
        "  def call(self, inputs):\n",
        "    x = self.encoder(inputs)\n",
        "    x = self.dout(x[1])\n",
        "    x = self.fc_1(x)\n",
        "    x = self.dout2(x)\n",
        "    x = self.fc_2(x)\n",
        "    return self.classfier(x)"
      ],
      "execution_count": null,
      "outputs": []
    },
    {
      "cell_type": "code",
      "metadata": {
        "id": "Ow3pPqn9e4Qk"
      },
      "source": [
        "bert_encoder = bert.bert_models.get_transformer_encoder(bert_config,)"
      ],
      "execution_count": null,
      "outputs": []
    },
    {
      "cell_type": "code",
      "metadata": {
        "id": "RsHPzzBmfSMb",
        "colab": {
          "base_uri": "https://localhost:8080/",
          "height": 34
        },
        "outputId": "6a39057f-59d4-4517-b724-0f31e7d9f952"
      },
      "source": [
        "checkpoint = tf.train.Checkpoint(model=bert_encoder)\n",
        "checkpoint.restore(\n",
        "    os.path.join(gs_folder_bert, 'bert_model.ckpt')).assert_consumed()"
      ],
      "execution_count": null,
      "outputs": [
        {
          "output_type": "execute_result",
          "data": {
            "text/plain": [
              "<tensorflow.python.training.tracking.util.CheckpointLoadStatus at 0x7f6720fe12e8>"
            ]
          },
          "metadata": {
            "tags": []
          },
          "execution_count": 41
        }
      ]
    },
    {
      "cell_type": "code",
      "metadata": {
        "id": "iOmbfMz-fm9j"
      },
      "source": [
        "bert_classifier = MyModel(bert_encoder)"
      ],
      "execution_count": null,
      "outputs": []
    },
    {
      "cell_type": "code",
      "metadata": {
        "id": "tPyfV0TBf2H8"
      },
      "source": [
        "# Set up epochs and steps\n",
        "epochs = 5\n",
        "batch_size = 32\n",
        "eval_batch_size = 32\n",
        "\n",
        "train_data_size = len(glue_train_labels)\n",
        "steps_per_epoch = int(train_data_size / batch_size)\n",
        "num_train_steps = steps_per_epoch * epochs\n",
        "warmup_steps = int(epochs * train_data_size * 0.1 / batch_size)\n",
        "\n",
        "# creates an optimizer with learning rate schedule\n",
        "optimizer = nlp.optimization.create_optimizer(\n",
        "    2e-5, num_train_steps=num_train_steps, num_warmup_steps=warmup_steps)"
      ],
      "execution_count": null,
      "outputs": []
    },
    {
      "cell_type": "markdown",
      "metadata": {
        "id": "EV4Z4jxmdDhL"
      },
      "source": [
        "#### Model training."
      ]
    },
    {
      "cell_type": "code",
      "metadata": {
        "id": "pQLkVWkcf8NL",
        "colab": {
          "base_uri": "https://localhost:8080/",
          "height": 212
        },
        "outputId": "4608faf5-633f-4528-e992-12fc44ee76cc"
      },
      "source": [
        "metrics = [tf.keras.metrics.SparseCategoricalAccuracy('accuracy', dtype=tf.float32)]\n",
        "loss = tf.keras.losses.SparseCategoricalCrossentropy(from_logits=False)\n",
        "\n",
        "bert_classifier.compile(\n",
        "    optimizer=optimizer,\n",
        "    loss=loss,\n",
        "    metrics=metrics)\n",
        "\n",
        "bert_classifier.fit(\n",
        "      glue_train, glue_train_labels,\n",
        "      validation_data=(glue_validation, glue_validation_labels),\n",
        "      batch_size=32,\n",
        "      epochs=epochs)"
      ],
      "execution_count": null,
      "outputs": [
        {
          "output_type": "stream",
          "text": [
            "Epoch 1/5\n",
            "268/268 [==============================] - 2794s 10s/step - loss: 0.6086 - accuracy: 0.6894 - val_loss: 0.4783 - val_accuracy: 0.7958\n",
            "Epoch 2/5\n",
            "268/268 [==============================] - 2557s 10s/step - loss: 0.3997 - accuracy: 0.8317 - val_loss: 0.4184 - val_accuracy: 0.8255\n",
            "Epoch 3/5\n",
            "268/268 [==============================] - 2597s 10s/step - loss: 0.2532 - accuracy: 0.9060 - val_loss: 0.5008 - val_accuracy: 0.8207\n",
            "Epoch 4/5\n",
            "268/268 [==============================] - 2532s 9s/step - loss: 0.1812 - accuracy: 0.9367 - val_loss: 0.6625 - val_accuracy: 0.8236\n",
            "Epoch 5/5\n",
            "268/268 [==============================] - 2509s 9s/step - loss: 0.1240 - accuracy: 0.9580 - val_loss: 0.6829 - val_accuracy: 0.8313\n"
          ],
          "name": "stdout"
        },
        {
          "output_type": "execute_result",
          "data": {
            "text/plain": [
              "<tensorflow.python.keras.callbacks.History at 0x7f67231246d8>"
            ]
          },
          "metadata": {
            "tags": []
          },
          "execution_count": 46
        }
      ]
    },
    {
      "cell_type": "markdown",
      "metadata": {
        "id": "sJ5qIdnJdHMY"
      },
      "source": [
        "#### Evalutaion:\n",
        "* Used own sample o test.\n",
        "* The test split of the data set is incomeplete, as the labels are having only -1s. We can only predct with the dataset."
      ]
    },
    {
      "cell_type": "code",
      "metadata": {
        "id": "Vfm_imdvV3Hg"
      },
      "source": [
        "my_examples = bert_encode(\n",
        "    glue_dict = {\n",
        "        'sentence':[\n",
        "            'Imagination is more important than knowledge.',\n",
        "            'Arnab is a good boy. ain''t he?', 'Arnab good is are boy.'],\n",
        "    },\n",
        "    tokenizer=tokenizer)"
      ],
      "execution_count": null,
      "outputs": []
    },
    {
      "cell_type": "code",
      "metadata": {
        "id": "NbSzLO89W5Qo",
        "colab": {
          "base_uri": "https://localhost:8080/",
          "height": 105
        },
        "outputId": "b2402c80-0b35-4f4d-9bcb-7b1b76c9417b"
      },
      "source": [
        "result = bert_classifier(my_examples, training=False)\n",
        "print(result)\n",
        "result = tf.argmax(result, axis=-1).numpy()\n",
        "print(\"Final result of own example is\",result)"
      ],
      "execution_count": null,
      "outputs": [
        {
          "output_type": "stream",
          "text": [
            "tf.Tensor(\n",
            "[[0.00255049 0.99744946]\n",
            " [0.00494097 0.995059  ]\n",
            " [0.9944723  0.00552767]], shape=(3, 2), dtype=float32)\n",
            "Final result of own example is [1 1 0]\n"
          ],
          "name": "stdout"
        }
      ]
    },
    {
      "cell_type": "code",
      "metadata": {
        "id": "FoAIbN0udYtZ",
        "colab": {
          "base_uri": "https://localhost:8080/",
          "height": 34
        },
        "outputId": "e338412c-43d7-4760-f8ec-1182464c1e47"
      },
      "source": [
        "testResult = bert_classifier(glue_test, training = False)\n",
        "testResult = tf.argmax(testResult, axis=-1).numpy()\n",
        "print(\"Final test result of test split is\",testResult)"
      ],
      "execution_count": null,
      "outputs": [
        {
          "output_type": "stream",
          "text": [
            "Final test result of test split is [1 1 1 ... 0 1 1]\n"
          ],
          "name": "stdout"
        }
      ]
    },
    {
      "cell_type": "code",
      "metadata": {
        "id": "UZEzWZhao876",
        "colab": {
          "base_uri": "https://localhost:8080/",
          "height": 52
        },
        "outputId": "795f3f07-31f7-44c7-fab6-76c0619983c0"
      },
      "source": [
        "print(bert_encoder(my_examples)[0].shape)\n",
        "print(bert_encoder(my_examples)[1].shape)"
      ],
      "execution_count": null,
      "outputs": [
        {
          "output_type": "stream",
          "text": [
            "(3, 14, 768)\n",
            "(3, 768)\n"
          ],
          "name": "stdout"
        }
      ]
    },
    {
      "cell_type": "code",
      "metadata": {
        "id": "v69GgmRFqmSa",
        "colab": {
          "base_uri": "https://localhost:8080/",
          "height": 34
        },
        "outputId": "0e12bf5c-2eee-48d7-d52d-d6d8bc3c5654"
      },
      "source": [
        "bert_classifier.layers[0].trainable"
      ],
      "execution_count": null,
      "outputs": [
        {
          "output_type": "execute_result",
          "data": {
            "text/plain": [
              "True"
            ]
          },
          "metadata": {
            "tags": []
          },
          "execution_count": 122
        }
      ]
    },
    {
      "cell_type": "markdown",
      "metadata": {
        "id": "XptERoVBezLh"
      },
      "source": [
        "## Questions & Answers:\n",
        "1. **What is the tutorial classifying when using the GLUE MRPC data set?**\n",
        "> The tutorial classifies whether each pair captures a paraphrase/semantic equivalence relationship or not.\n",
        "\n",
        "2. **In addition to the input itself, the tutorial feeds two binary tensors for input mask and input type to the model.\n",
        "Is this necessary for the data set single sentence classification?**\n",
        "> input mask is necessary. Bert encoder uses bidirectional LSTM with self attention. So, its important for the encoder to know where the real tokens are and where are the paddings in a given input squence(first sentence). Whereas input type id mask differentiates between the tokens for first and second sentence. In our task it is optional.\n",
        "\n",
        "3. **How does the tokenization in BERT differ from the one in the previous Task 5?**\n",
        "> Its not just a word based tokenizer. Its different form the previous one in following ways-\n",
        ">* First of all, as the tutorial says, its a python based tokennizer, not a tensorflow layer.\n",
        ">* the tokenizer makes all the words lower case.\n",
        ">* divide words into smaller sub-word units, like our example ['hello', 'bert', '##en', '##code', '##r', '!'], When it breaks a word it add '##' in front\n",
        ">* it encodes punctuation marks.\n",
        ">* It also has special encoding for [CLS] and [SEP]\n",
        ">* Theory says, the vocabulary is initialized with all the individual characters in the language, and then the most frequent/likely combinations of the existing words in the vocabulary are iteratively added.\n",
        "\n",
        "4. **What is a [CLS] token and what is it used for?**\n",
        "> This is the first token to the sequence it indicates whether this is a classification task. so if this is there, the encoder outputs a list of two array. First array consisists of embedding of each token of each sequence. The spae is (batchSize, maxlen, 768). And the second array consists a embedding for the whole sequence for downstream classification task.The shape is (batchSize, 768). This second part can be used in downstream classification task to make it faster.\n",
        "\n",
        "5. **Which part of the BERT encoding is used for the classification?**\n",
        "> The second part of the BERT encoding is used for classification. The encoder outputs a list of two array. First array consisists of embedding of each token of each sequence. The spae is (batchSize, maxlen, 768). And the second array consists a embedding for the whole sequence for downstream classification task.The shape is (batchSize, 768). This second part can be used in downstream classification task to make it faster.\n",
        "\n",
        "6. **Are the BERT encoder weights also fine-tuned to the task?**\n",
        "> Yes, the encoder weights also get fine tuned.\n"
      ]
    }
  ]
}