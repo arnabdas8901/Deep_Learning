{
  "nbformat": 4,
  "nbformat_minor": 0,
  "metadata": {
    "colab": {
      "name": "Assignment6_suubmission.ipynb",
      "provenance": []
    },
    "kernelspec": {
      "name": "python3",
      "display_name": "Python 3"
    },
    "accelerator": "GPU"
  },
  "cells": [
    {
      "cell_type": "markdown",
      "metadata": {
        "id": "hMcXLk5jQlPZ"
      },
      "source": [
        "################################################\n",
        "\n",
        "Owner: Arnab Das\n",
        "\n",
        "##############################################"
      ]
    },
    {
      "cell_type": "markdown",
      "metadata": {
        "id": "RubtNGdkXnDY"
      },
      "source": [
        "## tf.Keras implementation of variable length sequence RNN\n",
        "\n",
        "Here we implemented RNN using tf.keras layers. This RNN model is capable of taking variable length sequence input\n",
        "\n",
        "There are few parts of this notebook\n",
        "<font color='blue'>\n",
        "*  Data Preperation\n",
        "*  Model definition\n",
        "*  Custom training loop\n",
        "*  Text generations\n",
        "</font> \n",
        "\n",
        "Our design choices for this implementation are :- \n",
        "> * Synchronous RNN architecture\n",
        "* Hidden to Hidden connection\n",
        "* 2 RNN layers\n",
        "* Variable sequence length\n",
        "* Maximum character sequence of 500\n",
        "* Batch size 128\n",
        "* tf.keras.layers.LSTM as RNN layers\n",
        "* Number of hidden unit per layer is 512\n",
        "* Epochs 10\n",
        "* Softmax cross entropy loss function\n",
        "* Custom loss calculation using mask\n",
        "* Adam optimizer\n",
        "\n",
        "\n",
        "\n"
      ]
    },
    {
      "cell_type": "code",
      "metadata": {
        "id": "5utWDk53N6jI",
        "colab": {
          "base_uri": "https://localhost:8080/",
          "height": 35
        },
        "outputId": "2604141c-2d65-4cc1-f877-51efda35e537"
      },
      "source": [
        "#Changing directory to mounted drive folder\n",
        "import os\n",
        "os.chdir('/content/drive/My Drive/Colab Notebooks/IDL_Assignment6/')\n",
        "os.getcwd()"
      ],
      "execution_count": null,
      "outputs": [
        {
          "output_type": "execute_result",
          "data": {
            "text/plain": [
              "'/content/drive/My Drive/Colab Notebooks/IDL_Assignment6'"
            ]
          },
          "metadata": {
            "tags": []
          },
          "execution_count": 1
        }
      ]
    },
    {
      "cell_type": "code",
      "metadata": {
        "id": "MnPDXL9GOgLv"
      },
      "source": [
        "#Importing necessary libraries\n",
        "from prepare_data2 import parse_seq\n",
        "import pickle\n",
        "import tensorflow as tf\n",
        "import pandas as pd\n",
        "import numpy as np"
      ],
      "execution_count": null,
      "outputs": []
    },
    {
      "cell_type": "markdown",
      "metadata": {
        "id": "U1kySJfKZzee"
      },
      "source": [
        "### <font color='blue'>Data Preperation </font>\n",
        "> We have used the supplied python file to generate the varibale length sequence. Also we are forcing the script to trancate any sequence bigger than 500 characters."
      ]
    },
    {
      "cell_type": "code",
      "metadata": {
        "id": "6q4aO0NPOhn2",
        "colab": {
          "base_uri": "https://localhost:8080/",
          "height": 1000
        },
        "outputId": "d28d478c-b51b-4fe0-b726-f9dffc73a574"
      },
      "source": [
        "!python prepare_data2.py Input.txt skp \\\\n\\\\n+ -m 500"
      ],
      "execution_count": null,
      "outputs": [
        {
          "output_type": "stream",
          "text": [
            "2020-06-05 10:19:40.712268: I tensorflow/stream_executor/platform/default/dso_loader.cc:44] Successfully opened dynamic library libcudart.so.10.1\n",
            "Split input into 31022 sequences...\n",
            "Longest sequence is 3094 characters. If this seems unreasonable, consider using the maxlen argument!\n",
            "Removing sequences longer than 500 characters...\n",
            "29429 sequences remaining.\n",
            "Longest remaining sequence has length 499.\n",
            "Removing length-0 sequences...\n",
            "29429 sequences remaining.\n",
            "Serialized 100 sequences...\n",
            "Serialized 200 sequences...\n",
            "Serialized 300 sequences...\n",
            "Serialized 400 sequences...\n",
            "Serialized 500 sequences...\n",
            "Serialized 600 sequences...\n",
            "Serialized 700 sequences...\n",
            "Serialized 800 sequences...\n",
            "Serialized 900 sequences...\n",
            "Serialized 1000 sequences...\n",
            "Serialized 1100 sequences...\n",
            "Serialized 1200 sequences...\n",
            "Serialized 1300 sequences...\n",
            "Serialized 1400 sequences...\n",
            "Serialized 1500 sequences...\n",
            "Serialized 1600 sequences...\n",
            "Serialized 1700 sequences...\n",
            "Serialized 1800 sequences...\n",
            "Serialized 1900 sequences...\n",
            "Serialized 2000 sequences...\n",
            "Serialized 2100 sequences...\n",
            "Serialized 2200 sequences...\n",
            "Serialized 2300 sequences...\n",
            "Serialized 2400 sequences...\n",
            "Serialized 2500 sequences...\n",
            "Serialized 2600 sequences...\n",
            "Serialized 2700 sequences...\n",
            "Serialized 2800 sequences...\n",
            "Serialized 2900 sequences...\n",
            "Serialized 3000 sequences...\n",
            "Serialized 3100 sequences...\n",
            "Serialized 3200 sequences...\n",
            "Serialized 3300 sequences...\n",
            "Serialized 3400 sequences...\n",
            "Serialized 3500 sequences...\n",
            "Serialized 3600 sequences...\n",
            "Serialized 3700 sequences...\n",
            "Serialized 3800 sequences...\n",
            "Serialized 3900 sequences...\n",
            "Serialized 4000 sequences...\n",
            "Serialized 4100 sequences...\n",
            "Serialized 4200 sequences...\n",
            "Serialized 4300 sequences...\n",
            "Serialized 4400 sequences...\n",
            "Serialized 4500 sequences...\n",
            "Serialized 4600 sequences...\n",
            "Serialized 4700 sequences...\n",
            "Serialized 4800 sequences...\n",
            "Serialized 4900 sequences...\n",
            "Serialized 5000 sequences...\n",
            "Serialized 5100 sequences...\n",
            "Serialized 5200 sequences...\n",
            "Serialized 5300 sequences...\n",
            "Serialized 5400 sequences...\n",
            "Serialized 5500 sequences...\n",
            "Serialized 5600 sequences...\n",
            "Serialized 5700 sequences...\n",
            "Serialized 5800 sequences...\n",
            "Serialized 5900 sequences...\n",
            "Serialized 6000 sequences...\n",
            "Serialized 6100 sequences...\n",
            "Serialized 6200 sequences...\n",
            "Serialized 6300 sequences...\n",
            "Serialized 6400 sequences...\n",
            "Serialized 6500 sequences...\n",
            "Serialized 6600 sequences...\n",
            "Serialized 6700 sequences...\n",
            "Serialized 6800 sequences...\n",
            "Serialized 6900 sequences...\n",
            "Serialized 7000 sequences...\n",
            "Serialized 7100 sequences...\n",
            "Serialized 7200 sequences...\n",
            "Serialized 7300 sequences...\n",
            "Serialized 7400 sequences...\n",
            "Serialized 7500 sequences...\n",
            "Serialized 7600 sequences...\n",
            "Serialized 7700 sequences...\n",
            "Serialized 7800 sequences...\n",
            "Serialized 7900 sequences...\n",
            "Serialized 8000 sequences...\n",
            "Serialized 8100 sequences...\n",
            "Serialized 8200 sequences...\n",
            "Serialized 8300 sequences...\n",
            "Serialized 8400 sequences...\n",
            "Serialized 8500 sequences...\n",
            "Serialized 8600 sequences...\n",
            "Serialized 8700 sequences...\n",
            "Serialized 8800 sequences...\n",
            "Serialized 8900 sequences...\n",
            "Serialized 9000 sequences...\n",
            "Serialized 9100 sequences...\n",
            "Serialized 9200 sequences...\n",
            "Serialized 9300 sequences...\n",
            "Serialized 9400 sequences...\n",
            "Serialized 9500 sequences...\n",
            "Serialized 9600 sequences...\n",
            "Serialized 9700 sequences...\n",
            "Serialized 9800 sequences...\n",
            "Serialized 9900 sequences...\n",
            "Serialized 10000 sequences...\n",
            "Serialized 10100 sequences...\n",
            "Serialized 10200 sequences...\n",
            "Serialized 10300 sequences...\n",
            "Serialized 10400 sequences...\n",
            "Serialized 10500 sequences...\n",
            "Serialized 10600 sequences...\n",
            "Serialized 10700 sequences...\n",
            "Serialized 10800 sequences...\n",
            "Serialized 10900 sequences...\n",
            "Serialized 11000 sequences...\n",
            "Serialized 11100 sequences...\n",
            "Serialized 11200 sequences...\n",
            "Serialized 11300 sequences...\n",
            "Serialized 11400 sequences...\n",
            "Serialized 11500 sequences...\n",
            "Serialized 11600 sequences...\n",
            "Serialized 11700 sequences...\n",
            "Serialized 11800 sequences...\n",
            "Serialized 11900 sequences...\n",
            "Serialized 12000 sequences...\n",
            "Serialized 12100 sequences...\n",
            "Serialized 12200 sequences...\n",
            "Serialized 12300 sequences...\n",
            "Serialized 12400 sequences...\n",
            "Serialized 12500 sequences...\n",
            "Serialized 12600 sequences...\n",
            "Serialized 12700 sequences...\n",
            "Serialized 12800 sequences...\n",
            "Serialized 12900 sequences...\n",
            "Serialized 13000 sequences...\n",
            "Serialized 13100 sequences...\n",
            "Serialized 13200 sequences...\n",
            "Serialized 13300 sequences...\n",
            "Serialized 13400 sequences...\n",
            "Serialized 13500 sequences...\n",
            "Serialized 13600 sequences...\n",
            "Serialized 13700 sequences...\n",
            "Serialized 13800 sequences...\n",
            "Serialized 13900 sequences...\n",
            "Serialized 14000 sequences...\n",
            "Serialized 14100 sequences...\n",
            "Serialized 14200 sequences...\n",
            "Serialized 14300 sequences...\n",
            "Serialized 14400 sequences...\n",
            "Serialized 14500 sequences...\n",
            "Serialized 14600 sequences...\n",
            "Serialized 14700 sequences...\n",
            "Serialized 14800 sequences...\n",
            "Serialized 14900 sequences...\n",
            "Serialized 15000 sequences...\n",
            "Serialized 15100 sequences...\n",
            "Serialized 15200 sequences...\n",
            "Serialized 15300 sequences...\n",
            "Serialized 15400 sequences...\n",
            "Serialized 15500 sequences...\n",
            "Serialized 15600 sequences...\n",
            "Serialized 15700 sequences...\n",
            "Serialized 15800 sequences...\n",
            "Serialized 15900 sequences...\n",
            "Serialized 16000 sequences...\n",
            "Serialized 16100 sequences...\n",
            "Serialized 16200 sequences...\n",
            "Serialized 16300 sequences...\n",
            "Serialized 16400 sequences...\n",
            "Serialized 16500 sequences...\n",
            "Serialized 16600 sequences...\n",
            "Serialized 16700 sequences...\n",
            "Serialized 16800 sequences...\n",
            "Serialized 16900 sequences...\n",
            "Serialized 17000 sequences...\n",
            "Serialized 17100 sequences...\n",
            "Serialized 17200 sequences...\n",
            "Serialized 17300 sequences...\n",
            "Serialized 17400 sequences...\n",
            "Serialized 17500 sequences...\n",
            "Serialized 17600 sequences...\n",
            "Serialized 17700 sequences...\n",
            "Serialized 17800 sequences...\n",
            "Serialized 17900 sequences...\n",
            "Serialized 18000 sequences...\n",
            "Serialized 18100 sequences...\n",
            "Serialized 18200 sequences...\n",
            "Serialized 18300 sequences...\n",
            "Serialized 18400 sequences...\n",
            "Serialized 18500 sequences...\n",
            "Serialized 18600 sequences...\n",
            "Serialized 18700 sequences...\n",
            "Serialized 18800 sequences...\n",
            "Serialized 18900 sequences...\n",
            "Serialized 19000 sequences...\n",
            "Serialized 19100 sequences...\n",
            "Serialized 19200 sequences...\n",
            "Serialized 19300 sequences...\n",
            "Serialized 19400 sequences...\n",
            "Serialized 19500 sequences...\n",
            "Serialized 19600 sequences...\n",
            "Serialized 19700 sequences...\n",
            "Serialized 19800 sequences...\n",
            "Serialized 19900 sequences...\n",
            "Serialized 20000 sequences...\n",
            "Serialized 20100 sequences...\n",
            "Serialized 20200 sequences...\n",
            "Serialized 20300 sequences...\n",
            "Serialized 20400 sequences...\n",
            "Serialized 20500 sequences...\n",
            "Serialized 20600 sequences...\n",
            "Serialized 20700 sequences...\n",
            "Serialized 20800 sequences...\n",
            "Serialized 20900 sequences...\n",
            "Serialized 21000 sequences...\n",
            "Serialized 21100 sequences...\n",
            "Serialized 21200 sequences...\n",
            "Serialized 21300 sequences...\n",
            "Serialized 21400 sequences...\n",
            "Serialized 21500 sequences...\n",
            "Serialized 21600 sequences...\n",
            "Serialized 21700 sequences...\n",
            "Serialized 21800 sequences...\n",
            "Serialized 21900 sequences...\n",
            "Serialized 22000 sequences...\n",
            "Serialized 22100 sequences...\n",
            "Serialized 22200 sequences...\n",
            "Serialized 22300 sequences...\n",
            "Serialized 22400 sequences...\n",
            "Serialized 22500 sequences...\n",
            "Serialized 22600 sequences...\n",
            "Serialized 22700 sequences...\n",
            "Serialized 22800 sequences...\n",
            "Serialized 22900 sequences...\n",
            "Serialized 23000 sequences...\n",
            "Serialized 23100 sequences...\n",
            "Serialized 23200 sequences...\n",
            "Serialized 23300 sequences...\n",
            "Serialized 23400 sequences...\n",
            "Serialized 23500 sequences...\n",
            "Serialized 23600 sequences...\n",
            "Serialized 23700 sequences...\n",
            "Serialized 23800 sequences...\n",
            "Serialized 23900 sequences...\n",
            "Serialized 24000 sequences...\n",
            "Serialized 24100 sequences...\n",
            "Serialized 24200 sequences...\n",
            "Serialized 24300 sequences...\n",
            "Serialized 24400 sequences...\n",
            "Serialized 24500 sequences...\n",
            "Serialized 24600 sequences...\n",
            "Serialized 24700 sequences...\n",
            "Serialized 24800 sequences...\n",
            "Serialized 24900 sequences...\n",
            "Serialized 25000 sequences...\n",
            "Serialized 25100 sequences...\n",
            "Serialized 25200 sequences...\n",
            "Serialized 25300 sequences...\n",
            "Serialized 25400 sequences...\n",
            "Serialized 25500 sequences...\n",
            "Serialized 25600 sequences...\n",
            "Serialized 25700 sequences...\n",
            "Serialized 25800 sequences...\n",
            "Serialized 25900 sequences...\n",
            "Serialized 26000 sequences...\n",
            "Serialized 26100 sequences...\n",
            "Serialized 26200 sequences...\n",
            "Serialized 26300 sequences...\n",
            "Serialized 26400 sequences...\n",
            "Serialized 26500 sequences...\n",
            "Serialized 26600 sequences...\n",
            "Serialized 26700 sequences...\n",
            "Serialized 26800 sequences...\n",
            "Serialized 26900 sequences...\n",
            "Serialized 27000 sequences...\n",
            "Serialized 27100 sequences...\n",
            "Serialized 27200 sequences...\n",
            "Serialized 27300 sequences...\n",
            "Serialized 27400 sequences...\n",
            "Serialized 27500 sequences...\n",
            "Serialized 27600 sequences...\n",
            "Serialized 27700 sequences...\n",
            "Serialized 27800 sequences...\n",
            "Serialized 27900 sequences...\n",
            "Serialized 28000 sequences...\n",
            "Serialized 28100 sequences...\n",
            "Serialized 28200 sequences...\n",
            "Serialized 28300 sequences...\n",
            "Serialized 28400 sequences...\n",
            "Serialized 28500 sequences...\n",
            "Serialized 28600 sequences...\n",
            "Serialized 28700 sequences...\n",
            "Serialized 28800 sequences...\n",
            "Serialized 28900 sequences...\n",
            "Serialized 29000 sequences...\n",
            "Serialized 29100 sequences...\n",
            "Serialized 29200 sequences...\n",
            "Serialized 29300 sequences...\n",
            "Serialized 29400 sequences...\n"
          ],
          "name": "stdout"
        }
      ]
    },
    {
      "cell_type": "code",
      "metadata": {
        "id": "M5cVlBjlOoXF",
        "colab": {
          "base_uri": "https://localhost:8080/",
          "height": 74
        },
        "outputId": "f497863c-304d-4a7d-99f8-8d4f5e1c5aee"
      },
      "source": [
        "# this is just a datasets of \"bytes\" (not understandable)\n",
        "data = tf.data.TFRecordDataset(\"skp.tfrecords\")\n",
        "\n",
        "# this maps a parser function that properly interprets the bytes over the dataset\n",
        "# (with fixed sequence length 200)\n",
        "# if you change the sequence length in preprocessing you also need to change it here\n",
        "data = data.map(lambda x: parse_seq(x))\n",
        "\n",
        "# a map from characters to indices\n",
        "vocab = pickle.load(open(\"skp_vocab\", mode=\"rb\"))\n",
        "vocab_size = len(vocab)\n",
        "# inverse mapping: indices to characters\n",
        "ind_to_ch = {ind: ch for (ch, ind) in vocab.items()}\n",
        "print(vocab)\n",
        "print(vocab_size)"
      ],
      "execution_count": null,
      "outputs": [
        {
          "output_type": "stream",
          "text": [
            "{'Q': 3, '$': 4, 'q': 5, '&': 6, 'w': 7, 'i': 8, 'p': 9, 'o': 10, 'G': 11, '3': 12, '[': 13, 'P': 14, 'N': 15, ',': 16, '.': 17, 'O': 18, ' ': 19, 'c': 20, 'R': 21, 'f': 22, 'L': 23, 'X': 24, ']': 25, 'I': 26, 'x': 27, 'u': 28, 'A': 29, 'E': 30, 't': 31, 'v': 32, 'V': 33, 'j': 34, 'U': 35, 'y': 36, 's': 37, 'C': 38, 'm': 39, 'W': 40, 'g': 41, 'K': 42, '-': 43, ':': 44, 'M': 45, 'D': 46, 'z': 47, 'n': 48, 'Y': 49, ';': 50, 'J': 51, 'B': 52, '\\n': 53, '!': 54, '?': 55, 'a': 56, \"'\": 57, 'T': 58, 'h': 59, 'b': 60, 'Z': 61, 'F': 62, 'r': 63, 'S': 64, 'H': 65, 'e': 66, 'l': 67, 'd': 68, 'k': 69, '<PAD>': 0, '<S>': 1, '</S>': 2}\n",
            "70\n"
          ],
          "name": "stdout"
        }
      ]
    },
    {
      "cell_type": "code",
      "metadata": {
        "id": "VmbGKBxuFs-P"
      },
      "source": [
        "# declaring hyper parameters\n",
        "batch_size  = 128\n",
        "maxLen = 500\n",
        "epochs = 10"
      ],
      "execution_count": null,
      "outputs": []
    },
    {
      "cell_type": "markdown",
      "metadata": {
        "id": "lwptNW4qahh2"
      },
      "source": [
        "### <font color='blue'>Model Definition</font>\n",
        "We are using a tf.keras sequential model. Our model is having 3 layers, 2 RNN and one dense layer. Each RNN layer is having 512 cells. We are using a stateful RNN\n",
        "\n",
        "Mark the input shape if the RNN.\n",
        "\n",
        "```\n",
        "(batch_size,maxLen-1,vocab_size)\n",
        "```\n",
        "first axis is for the batch. As we will not use the last character as the input the time axis is of value maxLen -1 an the final axis is for the one hot encoding of each character\n"
      ]
    },
    {
      "cell_type": "code",
      "metadata": {
        "id": "S8wgg3PmRFtw"
      },
      "source": [
        "myRNN = tf.keras.Sequential()\n",
        "myRNN.add(tf.keras.layers.LSTM(512,return_sequences= True, stateful=True, batch_size= batch_size, batch_input_shape = (batch_size,maxLen-1,vocab_size)))\n",
        "myRNN.add(tf.keras.layers.LSTM(512,return_sequences= True, stateful=True))\n",
        "myRNN.add(tf.keras.layers.Dense(vocab_size))"
      ],
      "execution_count": null,
      "outputs": []
    },
    {
      "cell_type": "markdown",
      "metadata": {
        "id": "i5ZFBUKBbuCI"
      },
      "source": [
        "Data is now shuffeled and batched. As suggested we have used padded batch to automatically pad zero to the end of the sequences with less characters"
      ]
    },
    {
      "cell_type": "code",
      "metadata": {
        "id": "j79gDkLOFoc8"
      },
      "source": [
        "data = data.shuffle(100000).padded_batch(batch_size,maxLen, drop_remainder=True)"
      ],
      "execution_count": null,
      "outputs": []
    },
    {
      "cell_type": "code",
      "metadata": {
        "id": "wtFGiLhnQ2yu"
      },
      "source": [
        "# Defining the optimizer\n",
        "opt = tf.keras.optimizers.Adam()"
      ],
      "execution_count": null,
      "outputs": []
    },
    {
      "cell_type": "markdown",
      "metadata": {
        "id": "qakliKF7chbU"
      },
      "source": [
        "### <font color='blue'>Custom training loop.</font>\n",
        "As we are using stateful RNN, before each batch run we are reseting the stored states of the model."
      ]
    },
    {
      "cell_type": "code",
      "metadata": {
        "id": "P7LtZ5dGGWJ4",
        "colab": {
          "base_uri": "https://localhost:8080/",
          "height": 199
        },
        "outputId": "a6a849ed-6b24-4207-c439-40798aa5004c"
      },
      "source": [
        "for epoch in range(epochs):\n",
        "  epochLoss = 0\n",
        "  batchCount = 0\n",
        "  for batch in data:\n",
        "    myRNN.reset_states()\n",
        "    batchCount +=1\n",
        "    #Counting nozero characters for each sequence and also we are subtracting 1 to remove the '</s>' character training\n",
        "    nonZeroTensor = tf.math.count_nonzero(batch, axis=1)-1\n",
        "    #Creating mask from the count\n",
        "    batchMask = tf.sequence_mask(nonZeroTensor,maxlen=maxLen-1,dtype=tf.dtypes.float32)\n",
        "    inputSeq = batch[:,:-1]\n",
        "    #The ground truh or the Y label is nothing but the same input sequence shifter by one character\n",
        "    groundTruth = batch[:,1:]\n",
        "    #One hot encoding of the input\n",
        "    encodedInput = tf.one_hot(inputSeq, vocab_size)\n",
        "    #Custom training and applying gradient per batch\n",
        "    with tf.GradientTape() as tape:\n",
        "      prediction = myRNN(encodedInput)\n",
        "      lossMatrix = tf.nn.sparse_softmax_cross_entropy_with_logits(groundTruth,prediction)\n",
        "      #Calculating masked loss\n",
        "      maskedLoss = tf.math.multiply(lossMatrix,batchMask)\n",
        "      #Summed loss for all characters in a batch\n",
        "      batchLoss = tf.reduce_sum(maskedLoss)\n",
        "      #avg loss per character\n",
        "      scalerLoss = batchLoss / float(tf.reduce_sum(nonZeroTensor))\n",
        "    epochLoss += scalerLoss    \n",
        "    grads = tape.gradient(scalerLoss, myRNN.trainable_variables)\n",
        "    opt.apply_gradients(zip(grads, myRNN.trainable_variables))\n",
        "  print(\"Epoch = {}, Avg loss = {:.2f}\".format(epoch+1,epochLoss/batchCount))  "
      ],
      "execution_count": null,
      "outputs": [
        {
          "output_type": "stream",
          "text": [
            "Epoch = 1, Avg loss = 2.91\n",
            "Epoch = 2, Avg loss = 2.16\n",
            "Epoch = 3, Avg loss = 1.87\n",
            "Epoch = 4, Avg loss = 1.69\n",
            "Epoch = 5, Avg loss = 1.57\n",
            "Epoch = 6, Avg loss = 1.48\n",
            "Epoch = 7, Avg loss = 1.42\n",
            "Epoch = 8, Avg loss = 1.37\n",
            "Epoch = 9, Avg loss = 1.33\n",
            "Epoch = 10, Avg loss = 1.29\n"
          ],
          "name": "stdout"
        }
      ]
    },
    {
      "cell_type": "code",
      "metadata": {
        "id": "FQ3oCnX9AO7Z",
        "colab": {
          "base_uri": "https://localhost:8080/",
          "height": 272
        },
        "outputId": "393199f0-3153-437e-a2cc-456b5b1c6952"
      },
      "source": [
        "# Printing the summary of the model\n",
        "myRNN.summary()"
      ],
      "execution_count": null,
      "outputs": [
        {
          "output_type": "stream",
          "text": [
            "Model: \"sequential\"\n",
            "_________________________________________________________________\n",
            "Layer (type)                 Output Shape              Param #   \n",
            "=================================================================\n",
            "lstm (LSTM)                  (128, 499, 512)           1193984   \n",
            "_________________________________________________________________\n",
            "lstm_1 (LSTM)                (128, 499, 512)           2099200   \n",
            "_________________________________________________________________\n",
            "dense (Dense)                (128, 499, 70)            35910     \n",
            "=================================================================\n",
            "Total params: 3,329,094\n",
            "Trainable params: 3,329,094\n",
            "Non-trainable params: 0\n",
            "_________________________________________________________________\n"
          ],
          "name": "stdout"
        }
      ]
    },
    {
      "cell_type": "markdown",
      "metadata": {
        "id": "-6GEQuS5ePiv"
      },
      "source": [
        "### <font color='blue'>Text generation</font>\n",
        "As we have used stateful RNN, it is not possible to change the batch size. Here we have applied a simple trick. We are preparing a np zero array of 128x1x70 as input. As you can see we use sequence length of 1.\n",
        "and we only chnage the input for the first sequence of the batch. and also take output of the first sequence and modify the first sequence for the next input. this way we can still use the same RNN model.\n",
        "\n",
        "One more thing as we have also reduced the sequence length, tensor flow given warning for that. For the purpose of this text generation, we have supressed the warnings of the logger.\n",
        "\n",
        "We are generating 10 different sequence of variable length."
      ]
    },
    {
      "cell_type": "code",
      "metadata": {
        "id": "2v7ejZmPrUE-",
        "colab": {
          "base_uri": "https://localhost:8080/",
          "height": 1000
        },
        "outputId": "b502af67-d2d0-4067-d9f9-bb0af57fa02d"
      },
      "source": [
        "tf.get_logger().setLevel(\"ERROR\")\n",
        "for i in range (10):\n",
        "  myRNN.reset_states()\n",
        "  finalString = \"\"\n",
        "  char = np.zeros((batch_size,1,vocab_size),dtype= 'float32')\n",
        "  char[0][0][1] = 1\n",
        "  print(\"Seq = {}\".format(i+1))\n",
        "  while(True):\n",
        "    predLogits = myRNN(char)\n",
        "    predLogitSingleChar = predLogits[0][0] \n",
        "    prob = np.exp(predLogitSingleChar) / np.sum(np.exp(predLogitSingleChar))\n",
        "    # Random choice of output character based on output discrete probability\n",
        "    idx = np.random.choice(range(vocab_size), p=prob.ravel())\n",
        "    char = np.zeros((batch_size,1,vocab_size),dtype= 'float32')\n",
        "    char[0][0][idx] = 1\n",
        "    outPutChar = ind_to_ch[idx]\n",
        "    if(outPutChar =='</S>') :\n",
        "      break\n",
        "    finalString += outPutChar\n",
        "  print(finalString)\n",
        "  print('\\n') "
      ],
      "execution_count": null,
      "outputs": [
        {
          "output_type": "stream",
          "text": [
            "Seq = 1\n",
            "HELENA:\n",
            "Richard, anled friends: do you hole till I'll are\n",
            "his hase of France. You, sir, sir?\n",
            "\n",
            "\n",
            "Seq = 2\n",
            "CEROMEN:\n",
            "Here, my lodd Yoth should be well nighted flood.\n",
            "\n",
            "\n",
            "Seq = 3\n",
            "ANGELO:\n",
            "The things, at the gentleman was to thee.\n",
            "\n",
            "\n",
            "Seq = 4\n",
            "BERGAR:\n",
            "My lord is this hit man.\n",
            "\n",
            "\n",
            "Seq = 5\n",
            "ANTONIO:\n",
            "It like him you blagged, as much undeed:\n",
            "She's neightest, would I die and my busy;\n",
            "And not a brovice of his softice let\n",
            "As a new spoke om nothing but like:\n",
            "Do Lord Capsiul Melorchin.\n",
            "\n",
            "\n",
            "Seq = 6\n",
            "PARDISA:\n",
            "'Tis this, I kill: then Seek-pather banish'd\n",
            "His highness instruction, and such my swords to-n'em\n",
            "Where's either throne away the partty dows.\n",
            "\n",
            "\n",
            "Seq = 7\n",
            "DROMIO OF EPHESUS:\n",
            "Qual, sort than your father?\n",
            "\n",
            "\n",
            "Seq = 8\n",
            "SILVIA:\n",
            "By your eyes' and tuty the towfreal's poak;\n",
            "Draw her hath been pasposed by debignilunes:\n",
            "As far is sall that e'er-hour of fhoot,\n",
            "Ell on law's any fair quintrious fortune,\n",
            "Whiles notis falsta as great bodried; and,\n",
            "Where things can de answer in Eansa--\n",
            "Williness to the great of Planence that heed one?\n",
            "\n",
            "\n",
            "Seq = 9\n",
            "GLOUCESTER:\n",
            "King more to you, better:\n",
            "Yer, thou roce off's enile-patience.\n",
            "\n",
            "\n",
            "Seq = 10\n",
            "Citizens:\n",
            "My haintyiar salved will I stand thee thinks\n",
            "And 'now a man that, hands.\n",
            "\n",
            "\n"
          ],
          "name": "stdout"
        }
      ]
    },
    {
      "cell_type": "markdown",
      "metadata": {
        "id": "h93-Gie7kmbG"
      },
      "source": [
        "\n",
        "\n",
        "---\n"
      ]
    },
    {
      "cell_type": "markdown",
      "metadata": {
        "id": "3hbDIHAbkbwP"
      },
      "source": [
        "#### Bonus Section: Attempt to calculate probability of a sequence\n",
        "Not very sure we are doing the right thing here. \n",
        "We are picking the second sequence from the input. as this is short\n",
        "\n",
        "```\n",
        "All:\n",
        "Speak, speak.\n",
        "```\n",
        "We will run the sequence to our model and then from output logits calculate the probability of the sequence by multiplying $$log P(x_i|x_{i-1})$$\n",
        "Then we will change the sequence to \n",
        "```\n",
        "All:\n",
        "Spook, speak.\n",
        "```\n",
        "And repeat the same thing"
      ]
    },
    {
      "cell_type": "code",
      "metadata": {
        "id": "jWEKPw4Ukk5F",
        "colab": {
          "base_uri": "https://localhost:8080/",
          "height": 54
        },
        "outputId": "99cc5a6d-ef85-4f7a-851b-2031980f7d48"
      },
      "source": [
        "newData = tf.data.TFRecordDataset(\"skp.tfrecords\")\n",
        "mapData = newData.map(lambda x: parse_seq(x))\n",
        "batchData = mapData.padded_batch(batch_size,maxLen, drop_remainder=True)\n",
        "charList = []\n",
        "for batch in batchData:\n",
        "  ##Picked the second shot sequence\n",
        "  secondSeq = batch[1]\n",
        "  nzCount = tf.math.count_nonzero(secondSeq)\n",
        "  print(secondSeq[:nzCount])\n",
        "  #Only considering nonzero sequence\n",
        "  for items in secondSeq[:nzCount].numpy():\n",
        "    charList.append(ind_to_ch[items])\n",
        "  print(charList)\n",
        "  break"
      ],
      "execution_count": null,
      "outputs": [
        {
          "output_type": "stream",
          "text": [
            "tf.Tensor([ 1 29 67 67 44 53 64  9 66 56 69 16 19 37  9 66 56 69 17  2], shape=(20,), dtype=int32)\n",
            "['<S>', 'A', 'l', 'l', ':', '\\n', 'S', 'p', 'e', 'a', 'k', ',', ' ', 's', 'p', 'e', 'a', 'k', '.', '</S>']\n"
          ],
          "name": "stdout"
        }
      ]
    },
    {
      "cell_type": "code",
      "metadata": {
        "id": "yCvvhDr9pTAG",
        "colab": {
          "base_uri": "https://localhost:8080/",
          "height": 35
        },
        "outputId": "75c0bd21-ec7f-4536-a53e-87ac96e85530"
      },
      "source": [
        " myRNN.reset_states()\n",
        " Prob = 0\n",
        " for chars in range(len(charList)-1):\n",
        "   dummyBatch = np.zeros((batch_size,1,vocab_size),dtype= 'float32')\n",
        "   dummyBatch[0][0][vocab[charList[chars]]] = 1\n",
        "   logits = myRNN(dummyBatch)\n",
        "   dscrtProb = np.exp(logits[0,0]) / np.sum(np.exp(logits[0,0]))\n",
        "   logProb = np.log(dscrtProb)\n",
        "\n",
        "   Prob += logProb[vocab[charList[chars+1]]]\n",
        "print(Prob)"
      ],
      "execution_count": null,
      "outputs": [
        {
          "output_type": "stream",
          "text": [
            "-21.10419415216893\n"
          ],
          "name": "stdout"
        }
      ]
    },
    {
      "cell_type": "code",
      "metadata": {
        "id": "TP84HHD5sY3u",
        "colab": {
          "base_uri": "https://localhost:8080/",
          "height": 35
        },
        "outputId": "f9e44854-7dcb-40be-d739-6c768b6fea93"
      },
      "source": [
        "#With changed charlist -- changed speak with spook\n",
        "changedCharList = ['<S>', 'A', 'l', 'l', ':', '\\n', 'S', 'p', 'o', 'o', 'k', ',', ' ', 's', 'p', 'e', 'a', 'k', '.', '</S>']\n",
        "myRNN.reset_states()\n",
        "Prob = 0\n",
        "for chars in range(len(changedCharList)-1):\n",
        "  dummyBatch = np.zeros((batch_size,1,vocab_size),dtype= 'float32')\n",
        "  dummyBatch[0][0][vocab[changedCharList[chars]]] = 1\n",
        "  logits = myRNN(dummyBatch)\n",
        "  dscrtProb = np.exp(logits[0,0]) / np.sum(np.exp(logits[0,0]))\n",
        "  logProb = np.log(dscrtProb)\n",
        "\n",
        "  Prob += logProb[vocab[changedCharList[chars+1]]]\n",
        "print(Prob)"
      ],
      "execution_count": null,
      "outputs": [
        {
          "output_type": "stream",
          "text": [
            "-30.59061598032713\n"
          ],
          "name": "stdout"
        }
      ]
    }
  ]
}