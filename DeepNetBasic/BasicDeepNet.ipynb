{
  "nbformat": 4,
  "nbformat_minor": 0,
  "metadata": {
    "colab": {
      "name": "DL_Assignment1_Final.ipynb",
      "provenance": []
    },
    "kernelspec": {
      "name": "python3",
      "display_name": "Python 3"
    }
  },
  "cells": [
    {
      "cell_type": "markdown",
      "metadata": {
        "id": "4tjuAWSGEkIc"
      },
      "source": [
        "## Image classfication on MNIST data set using Deep Net\n",
        "##############################################\n",
        "\n",
        "Owner: Arnab Das\n",
        "\n",
        "Dataset: MNIST\n",
        "\n",
        "##############################################\n",
        "### Following steps are performed\n",
        "\n",
        "\n",
        "*   Get the dataset and preprocess the image \n",
        "*   Break the dataset with minibatch size of 128\n",
        "*   Do the forward pass\n",
        "*   Calculate the loss and update the prameters\n",
        "*   check the test data accuracy\n",
        "\n"
      ]
    },
    {
      "cell_type": "code",
      "metadata": {
        "id": "V9rhHQ5FEOxL"
      },
      "source": [
        "import tensorflow as tf\n",
        "import numpy as np\n",
        "import matplotlib.pyplot as plt\n",
        "from matplotlib.ticker import MaxNLocator"
      ],
      "execution_count": null,
      "outputs": []
    },
    {
      "cell_type": "markdown",
      "metadata": {
        "id": "rGpaRnd1V7Rv"
      },
      "source": [
        "#### Provided class to prerocess the data and normalize the pixel values by dividing 255"
      ]
    },
    {
      "cell_type": "code",
      "metadata": {
        "id": "K05O1abfFlZN"
      },
      "source": [
        "class MNISTDataset:\n",
        "    \"\"\"'Bare minimum' class to wrap MNIST numpy arrays into a dataset.\"\"\"\n",
        "    def __init__(self, train_imgs, train_lbs, test_imgs, test_lbls, batch_size,\n",
        "                 to01=True, shuffle=True, seed=None):\n",
        "        \"\"\"\n",
        "        Use seed optionally to always get the same shuffling (-> reproducible\n",
        "        results).\n",
        "        \"\"\"\n",
        "        self.batch_size = batch_size\n",
        "        self.train_data = train_imgs\n",
        "        self.train_labels = train_lbs.astype(np.int32)\n",
        "        self.test_data = test_imgs\n",
        "        self.test_labels = test_lbls.astype(np.int32)\n",
        "\n",
        "        if to01:\n",
        "            # int in [0, 255] -> float in [0, 1]\n",
        "            self.train_data = self.train_data.astype(np.float32) / 255\n",
        "            self.test_data = self.test_data.astype(np.float32) / 255\n",
        "\n",
        "        self.size = self.train_data.shape[0]\n",
        "\n",
        "        if seed:\n",
        "            np.random.seed(seed)\n",
        "        if shuffle:\n",
        "            self.shuffle_train()\n",
        "        self.shuffle = shuffle\n",
        "        self.current_pos = 0\n",
        "\n",
        "    def next_batch(self):\n",
        "        \"\"\"Either gets the next batch, or optionally shuffles and starts a\n",
        "        new epoch.\"\"\"\n",
        "        end_pos = self.current_pos + self.batch_size\n",
        "        if end_pos < self.size:\n",
        "            batch = (self.train_data[self.current_pos:end_pos],\n",
        "                     self.train_labels[self.current_pos:end_pos])\n",
        "            self.current_pos += self.batch_size\n",
        "        else:\n",
        "            # we return what's left (-> possibly smaller batch!) and prepare\n",
        "            # the start of a new epoch\n",
        "            batch = (self.train_data[self.current_pos:self.size],\n",
        "                     self.train_labels[self.current_pos:self.size])\n",
        "            if self.shuffle:\n",
        "                self.shuffle_train()\n",
        "            self.current_pos = 0\n",
        "            #print(\"Starting new epoch...\")\n",
        "        return batch\n",
        "\n",
        "    def shuffle_train(self):\n",
        "        shuffled_inds = np.arange(self.train_data.shape[0])\n",
        "        np.random.shuffle(shuffled_inds)\n",
        "        self.train_data = self.train_data[shuffled_inds]\n",
        "        self.train_labels = self.train_labels[shuffled_inds]\n"
      ],
      "execution_count": null,
      "outputs": []
    },
    {
      "cell_type": "code",
      "metadata": {
        "id": "g3_5wKIpNagU"
      },
      "source": [
        "class makeDataset:\n",
        "  def __init__(self, train_imgs, train_lbs, test_imgs, test_lbls, batch_size, repeat= True):\n",
        "    self.batch_size = batch_size\n",
        "    self.train_data = train_imgs\n",
        "    self.train_labels = train_lbs.astype(np.int32)\n",
        "    self.test_data = test_imgs\n",
        "    self.test_labels = test_lbls.astype(np.int32)\n",
        "\n",
        "    self.train_data = (train_images.astype(np.float32) / 255.).reshape((-1, 784))\n",
        "    self.test_data = (test_images.astype(np.float32) / 255.).reshape((-1, 784))\n",
        "\n",
        "    self.train_dataset = tf.data.Dataset.from_tensor_slices((self.train_data, self.train_labels))\n",
        "    self.test_dataset = tf.data.Dataset.from_tensor_slices((self.test_data, self.test_labels))\n",
        "\n",
        "    if repeat:\n",
        "      self.doRepeat()\n",
        "\n",
        "    self.shuffleData()  \n",
        "    self.makeBatch()\n",
        "\n",
        "\n",
        "  def doRepeat(self):\n",
        "    self.train_dataset = self.train_dataset.repeat(2)\n",
        "\n",
        "  def shuffleData(self):  \n",
        "    self.train_dataset = self.train_dataset.shuffle(2*self.batch_size)\n",
        "    self.test_dataset = self.test_dataset.shuffle(2*self.batch_size)\n",
        "\n",
        "  def makeBatch(self):  \n",
        "    self.train_dataset = self.train_dataset.batch(self.batch_size)"
      ],
      "execution_count": null,
      "outputs": []
    },
    {
      "cell_type": "markdown",
      "metadata": {
        "id": "b6nyXNygWDTJ"
      },
      "source": [
        "#### Following the blogpost http://blog.ai.ovgu.de/posts/jens/2019/002_tf20_basic_mnist/index.html \n",
        "\n",
        "\n",
        "*   Priting the size of each image\n",
        "*   Printing the size of reshaped image or imput \n",
        "*   Potting example if an image from training set\n",
        "\n",
        "\n"
      ]
    },
    {
      "cell_type": "code",
      "metadata": {
        "id": "_1LiN8BsFtLv",
        "colab": {
          "base_uri": "https://localhost:8080/",
          "height": 333
        },
        "outputId": "4643c5ed-88b5-4e5d-cfce-d4e0191fa049"
      },
      "source": [
        "mnist = tf.keras.datasets.mnist\n",
        "(train_images, train_labels), (test_images, test_labels) = mnist.load_data()\n",
        "\n",
        "print(\"Size of the dataset image is = {}\".format(train_images[0].shape))\n",
        "plt.imshow(train_images[0],cmap=\"Greys_r\")\n",
        "\n",
        "data = MNISTDataset(train_images.reshape([-1, 784]), train_labels, \n",
        "                    test_images.reshape([-1, 784]), test_labels,\n",
        "                    batch_size=128)\n",
        "\n",
        "print(\"Size of the processed dataset image is = {}\".format(data.train_data[0].shape))"
      ],
      "execution_count": null,
      "outputs": [
        {
          "output_type": "stream",
          "text": [
            "Downloading data from https://storage.googleapis.com/tensorflow/tf-keras-datasets/mnist.npz\n",
            "11493376/11490434 [==============================] - 0s 0us/step\n",
            "Size of the dataset image is = (28, 28)\n",
            "Size of the processed dataset image is = (784,)\n"
          ],
          "name": "stdout"
        },
        {
          "output_type": "display_data",
          "data": {
            "image/png": "[encoded data removed]",
            "text/plain": [
              "<Figure size 432x288 with 1 Axes>"
            ]
          },
          "metadata": {
            "tags": [],
            "needs_background": "light"
          }
        }
      ]
    },
    {
      "cell_type": "code",
      "metadata": {
        "id": "M3XEf4afQO7i"
      },
      "source": [
        "mnist = tf.keras.datasets.mnist\n",
        "(train_images, train_labels), (test_images, test_labels) = mnist.load_data()\n",
        "\n",
        "data = makeDataset(train_images, train_labels, \n",
        "                    test_images, test_labels,\n",
        "                    batch_size=128,repeat=False)"
      ],
      "execution_count": null,
      "outputs": []
    },
    {
      "cell_type": "markdown",
      "metadata": {
        "id": "l296HHZUWiux"
      },
      "source": [
        "#### Defining model parameters as tf variables for forward pass and also some hyper parameters"
      ]
    },
    {
      "cell_type": "code",
      "metadata": {
        "id": "ru_OlqAkHdzh"
      },
      "source": [
        "def initializeParam(step, hid,learning_rate = 0.1):\n",
        "  train_steps = step\n",
        "  learning_rate = learning_rate\n",
        "\n",
        "  W1 = tf.Variable(np.random.randn(784, hid).astype(np.float32)*0.1)\n",
        "  b1 = tf.Variable(np.zeros(hid, dtype=np.float32))\n",
        "  W2 = tf.Variable(np.random.randn(hid, 10).astype(np.float32)*0.1)\n",
        "  b2 = tf.Variable(np.zeros(10, dtype=np.float32))\n",
        "  W = (W1,W2)\n",
        "  b = (b1,b2)\n",
        "  return train_steps,learning_rate, W,b "
      ],
      "execution_count": null,
      "outputs": []
    },
    {
      "cell_type": "markdown",
      "metadata": {
        "id": "0J5-oIBAWz74"
      },
      "source": [
        "### Training phase"
      ]
    },
    {
      "cell_type": "code",
      "metadata": {
        "id": "376NfZcZHhWS"
      },
      "source": [
        "def train(train_steps,learning_rate,W,b):\n",
        "  Losses = []\n",
        "  Accuracy = []\n",
        "  W1,W2 = W\n",
        "  b1,b2 = b\n",
        "  for step in range(train_steps):\n",
        "      img_batch, lbl_batch = data.next_batch()\n",
        "      with tf.GradientTape() as tape:\n",
        "          Z1 = tf.matmul(img_batch, W1) + b1\n",
        "          H1 = tf.nn.relu(Z1)\n",
        "          logits = tf.matmul(H1, W2) + b2\n",
        "          xent = tf.reduce_mean(tf.nn.sparse_softmax_cross_entropy_with_logits(\n",
        "              logits=logits, labels=lbl_batch))\n",
        "      Losses.append(xent)    \n",
        "      grads = tape.gradient(xent, [W1, b1, W2, b2])\n",
        "      W1.assign_sub(learning_rate * grads[0])\n",
        "      b1.assign_sub(learning_rate * grads[1])\n",
        "      W2.assign_sub(learning_rate * grads[2])\n",
        "      b2.assign_sub(learning_rate * grads[3])\n",
        "\n",
        "      preds = tf.argmax(logits, axis=1, output_type=tf.int32)\n",
        "      acc = tf.reduce_mean(tf.cast(tf.equal(preds, lbl_batch),\n",
        "                              tf.float32))\n",
        "      Accuracy.append(\"{}\".format(acc*100))\n",
        "      \n",
        "      #if not step % 1000:    \n",
        "          #print(\"Loss: {} Accuracy: {}\".format(xent, acc))\n",
        "  return Losses,Accuracy    "
      ],
      "execution_count": null,
      "outputs": []
    },
    {
      "cell_type": "markdown",
      "metadata": {
        "id": "ydJV6QHQef3W"
      },
      "source": [
        "### Visualizing the Training loss and test accuracy vs test steps \n",
        "\n",
        "Help taken from \n",
        "https://chrisalbon.com/deep_learning/keras/visualize_loss_history/ and\n",
        "https://matplotlib.org/api/ticker_api.html#matplotlib.ticker.MultipleLocator"
      ]
    },
    {
      "cell_type": "code",
      "metadata": {
        "id": "zdL0KhiIYkZK"
      },
      "source": [
        "def visualizeTraining(Losses,Accuracy):\n",
        "  plt.plot(range(1, train_steps + 1), Losses, 'r--')\n",
        "  plt.title('Training loss vs steps')\n",
        "  plt.legend(['Training Loss'])\n",
        "  plt.xlabel('Step')\n",
        "  plt.ylabel('Loss')\n",
        "  plt.show();\n",
        "  ax = plt.figure().gca()\n",
        "  ax.plot(range(1, train_steps + 1), Accuracy, 'b-')\n",
        "  ax.yaxis.set_major_locator(MaxNLocator(integer=True, min_n_ticks = 20))\n",
        "  plt.title('Training Accuracy vs steps')\n",
        "  plt.legend(['Training Accuracy'])\n",
        "  plt.xlabel('Step')\n",
        "  plt.ylabel('Accuracy')\n",
        "  plt.show();"
      ],
      "execution_count": null,
      "outputs": []
    },
    {
      "cell_type": "markdown",
      "metadata": {
        "id": "pvtShcnTW5Aa"
      },
      "source": [
        "### Applying the model on test set and claculating test accuracy"
      ]
    },
    {
      "cell_type": "code",
      "metadata": {
        "id": "7mx_3PZsLCdE"
      },
      "source": [
        "def testModel(W,b):\n",
        "  W1,W2 = W\n",
        "  b1,b2 = b\n",
        "  out1 = tf.matmul(data.test_data, W1) + b1\n",
        "  act1 = tf.nn.relu(out1)  \n",
        "  test_preds = tf.argmax(tf.matmul(act1, W2) + b2, axis=1,\n",
        "                        output_type=tf.int32)\n",
        "  acc = tf.reduce_mean(tf.cast(tf.equal(test_preds, data.test_labels),\n",
        "                              tf.float32))\n",
        "  print(\"Test accuracy of the model is = {}%\".format(acc*100))\n",
        "  final_acc = \"{:.2f}\".format(acc*100)\n",
        "  return test_preds,final_acc"
      ],
      "execution_count": null,
      "outputs": []
    },
    {
      "cell_type": "markdown",
      "metadata": {
        "id": "JChNG_HKN6RY"
      },
      "source": [
        "#### Finding the First miclassified image and plotiing the same\n",
        "#### Also printing predicted class and actual class\n",
        "\n",
        "\n"
      ]
    },
    {
      "cell_type": "code",
      "metadata": {
        "id": "dcAx3BPaMc8W"
      },
      "source": [
        "def visualizeMissclasification(test_preds):  \n",
        "  first_missclass= np.where(tf.equal(test_preds, data.test_labels) == False)[0][1]\n",
        "  plt.imshow(test_images[first_missclass],cmap=\"Greys_r\")\n",
        "  print(\"Actual label is {}, where as predicted label is {}\".format(data.test_labels[first_missclass],test_preds[first_missclass]))"
      ],
      "execution_count": null,
      "outputs": []
    },
    {
      "cell_type": "markdown",
      "metadata": {
        "id": "X-eeRT-fCVun"
      },
      "source": [
        "#### Applying the complete model on a two layer NN. Hidden layer consists of 32 units with ReLU activation where as output later is having 10 units."
      ]
    },
    {
      "cell_type": "code",
      "metadata": {
        "id": "6EkBW90Q-ANB",
        "colab": {
          "base_uri": "https://localhost:8080/",
          "height": 855
        },
        "outputId": "a3514f6c-b7fd-4e9d-822b-f3563073a6bd"
      },
      "source": [
        "train_steps,learning_rate, W,b = initializeParam(6000,hid = 32)\n",
        "Losses,Accuracy = train(train_steps,learning_rate,W,b)\n",
        "visualizeTraining(Losses,Accuracy)\n",
        "test_preds,final_acc = testModel(W,b)\n",
        "visualizeMissclasification(test_preds)"
      ],
      "execution_count": null,
      "outputs": [
        {
          "output_type": "display_data",
          "data": {
            "image/png": "[encoded data removed]",
            "text/plain": [
              "<Figure size 432x288 with 1 Axes>"
            ]
          },
          "metadata": {
            "tags": [],
            "needs_background": "light"
          }
        },
        {
          "output_type": "display_data",
          "data": {
            "image/png": "[encoded data removed]",
            "text/plain": [
              "<Figure size 432x288 with 1 Axes>"
            ]
          },
          "metadata": {
            "tags": [],
            "needs_background": "light"
          }
        },
        {
          "output_type": "stream",
          "text": [
            "Test accuracy of the model is = 95.8800048828125%\n",
            "Actual label is 2, where as predicted label is 4\n"
          ],
          "name": "stdout"
        },
        {
          "output_type": "display_data",
          "data": {
            "image/png": "[encoded data removed]",
            "text/plain": [
              "<Figure size 432x288 with 1 Axes>"
            ]
          },
          "metadata": {
            "tags": [],
            "needs_background": "light"
          }
        }
      ]
    },
    {
      "cell_type": "markdown",
      "metadata": {
        "id": "7fCgY1uXDPG-"
      },
      "source": [
        "Comparetive study of performance behavior by varying number of units in the hidden layer"
      ]
    },
    {
      "cell_type": "code",
      "metadata": {
        "id": "i8_5Bq4QlpoV",
        "colab": {
          "base_uri": "https://localhost:8080/",
          "height": 551
        },
        "outputId": "86d64e7e-a22c-43cb-b8c7-4fec751ad816"
      },
      "source": [
        "AccsVsHUnit = []\n",
        "for hUnit in [10,20,32,64,128,256, 512,1024]:\n",
        "  print(\"Number of units in the hidden layer is = {}\".format(hUnit))\n",
        "  train_steps,learning_rate, W,b = initializeParam(5000,hid = hUnit)\n",
        "  Losses,Accuracy = train(train_steps,learning_rate,W,b)\n",
        "  test_preds,final_acc = testModel(W,b)\n",
        "  AccsVsHUnit.append(final_acc)\n",
        "\n",
        "plt.plot([10,20,32,64,128,256,512,1024], AccsVsHUnit, 'b+')\n",
        "plt.legend(['Testing Accuracy'])\n",
        "plt.xlabel('No of Hidden unit')\n",
        "plt.ylabel('Test Acc')\n",
        "plt.show();"
      ],
      "execution_count": null,
      "outputs": [
        {
          "output_type": "stream",
          "text": [
            "Number of units in the hidden layer is = 10\n",
            "Test accuracy of the model is = 92.43000030517578%\n",
            "Number of units in the hidden layer is = 20\n",
            "Test accuracy of the model is = 94.3499984741211%\n",
            "Number of units in the hidden layer is = 32\n",
            "Test accuracy of the model is = 95.41000366210938%\n",
            "Number of units in the hidden layer is = 64\n",
            "Test accuracy of the model is = 96.17000579833984%\n",
            "Number of units in the hidden layer is = 128\n",
            "Test accuracy of the model is = 96.63999938964844%\n",
            "Number of units in the hidden layer is = 256\n",
            "Test accuracy of the model is = 96.93000030517578%\n",
            "Number of units in the hidden layer is = 512\n",
            "Test accuracy of the model is = 97.29999542236328%\n",
            "Number of units in the hidden layer is = 1024\n",
            "Test accuracy of the model is = 97.56999969482422%\n"
          ],
          "name": "stdout"
        },
        {
          "output_type": "display_data",
          "data": {
            "image/png": "[encoded data removed]",
            "text/plain": [
              "<Figure size 432x288 with 1 Axes>"
            ]
          },
          "metadata": {
            "tags": [],
            "needs_background": "light"
          }
        }
      ]
    },
    {
      "cell_type": "markdown",
      "metadata": {
        "id": "PiXTuS86Q8B4"
      },
      "source": [
        "\n",
        "\n",
        "---\n",
        "\n",
        "\n",
        "## Extending the Model to 3 layer(2 Hidden + Output Layer) NN."
      ]
    },
    {
      "cell_type": "code",
      "metadata": {
        "id": "9wRTwgs2N5zD",
        "colab": {
          "base_uri": "https://localhost:8080/",
          "height": 119
        },
        "outputId": "dd981592-1a8e-45f1-b26e-d61524580d54"
      },
      "source": [
        "train_steps = 5000\n",
        "learning_rate = 0.1\n",
        "W1 = tf.Variable(np.random.randn(784, 1024).astype(np.float32)*0.1)\n",
        "b1 = tf.Variable(np.zeros(1024, dtype=np.float32))\n",
        "W2 = tf.Variable(np.random.randn(1024, 256).astype(np.float32)*0.1)\n",
        "b2 = tf.Variable(np.zeros(256, dtype=np.float32))\n",
        "W3 = tf.Variable(np.random.randn(256, 10).astype(np.float32)*0.1)\n",
        "b3 = tf.Variable(np.zeros(10, dtype=np.float32))\n",
        "\n",
        "for step in range(train_steps):\n",
        "  img_batch, lbl_batch = data.next_batch()\n",
        "  with tf.GradientTape() as tape:\n",
        "    Z1 = tf.matmul(img_batch, W1) + b1\n",
        "    H1 = tf.nn.relu(Z1)\n",
        "    Z2 = tf.matmul(H1, W2) + b2\n",
        "    H2 = tf.nn.relu(Z2)\n",
        "    logits = tf.matmul(H2, W3) + b3\n",
        "    xent = tf.reduce_mean(tf.nn.sparse_softmax_cross_entropy_with_logits(\n",
        "              logits=logits, labels=lbl_batch))    \n",
        "    grads = tape.gradient(xent, [W1, b1, W2, b2, W3, b3])\n",
        "    W1.assign_sub(learning_rate * grads[0])\n",
        "    b1.assign_sub(learning_rate * grads[1])\n",
        "    W2.assign_sub(learning_rate * grads[2])\n",
        "    b2.assign_sub(learning_rate * grads[3])\n",
        "    W3.assign_sub(learning_rate * grads[4])\n",
        "    b3.assign_sub(learning_rate * grads[5])\n",
        "\n",
        "    preds = tf.argmax(logits, axis=1, output_type=tf.int32)\n",
        "    acc = tf.reduce_mean(tf.cast(tf.equal(preds, lbl_batch),\n",
        "                              tf.float32))\n",
        "      \n",
        "    if not step % 1000:\n",
        "      print(\"Loss: {} Accuracy: {}\".format(xent, acc))\n",
        "\n",
        "out1 = tf.matmul(data.test_data, W1) + b1\n",
        "act1 = tf.nn.relu(out1)\n",
        "out2 = tf.matmul(act1, W2) + b2\n",
        "act2 = tf.nn.relu(out2)   \n",
        "test_preds = tf.argmax(tf.matmul(act2, W3) + b3, axis=1,\n",
        "                        output_type=tf.int32)\n",
        "acc = tf.reduce_mean(tf.cast(tf.equal(test_preds, data.test_labels),\n",
        "                              tf.float32))\n",
        "print(\"Test accuracy of the model is = {}%\".format(acc*100))\n",
        "final_acc = \"{}\".format(acc*100)\n"
      ],
      "execution_count": null,
      "outputs": [
        {
          "output_type": "stream",
          "text": [
            "Loss: 3.906895160675049 Accuracy: 0.0859375\n",
            "Loss: 0.09910843521356583 Accuracy: 0.96875\n",
            "Loss: 0.05457227677106857 Accuracy: 0.984375\n",
            "Loss: 0.02727457694709301 Accuracy: 0.9921875\n",
            "Loss: 0.013405030593276024 Accuracy: 1.0\n",
            "Test accuracy of the model is = 97.54999542236328%\n"
          ],
          "name": "stdout"
        }
      ]
    },
    {
      "cell_type": "markdown",
      "metadata": {
        "id": "JmMisFTz3ggt"
      },
      "source": [
        "### Training 2 layer NN on Sigmoid unit in hidden layer"
      ]
    },
    {
      "cell_type": "code",
      "metadata": {
        "id": "jqdnCP3I3WOB"
      },
      "source": [
        "def train_sigmoid(train_steps,learning_rate,W,b):\n",
        "  Losses = []\n",
        "  Accuracy = []\n",
        "  W1,W2 = W\n",
        "  b1,b2 = b\n",
        "  for step in range(train_steps):\n",
        "      img_batch, lbl_batch = data.next_batch()\n",
        "      with tf.GradientTape() as tape:\n",
        "          hidden_out = tf.matmul(img_batch, W1) + b1\n",
        "          activation = tf.nn.sigmoid(hidden_out)\n",
        "          logits = tf.matmul(activation, W2) + b2\n",
        "          xent = tf.reduce_mean(tf.nn.sparse_softmax_cross_entropy_with_logits(\n",
        "              logits=logits, labels=lbl_batch))\n",
        "      Losses.append(xent)    \n",
        "      grads = tape.gradient(xent, [W1, b1, W2, b2])\n",
        "      W1.assign_sub(learning_rate * grads[0])\n",
        "      b1.assign_sub(learning_rate * grads[1])\n",
        "      W2.assign_sub(learning_rate * grads[2])\n",
        "      b2.assign_sub(learning_rate * grads[3])\n",
        "\n",
        "      preds = tf.argmax(logits, axis=1, output_type=tf.int32)\n",
        "      acc = tf.reduce_mean(tf.cast(tf.equal(preds, lbl_batch),\n",
        "                              tf.float32))\n",
        "      Accuracy.append(\"{}\".format(acc*100))\n",
        "      \n",
        "      #if not step % 1000:    \n",
        "          #print(\"Loss: {} Accuracy: {}\".format(xent, acc))\n",
        "  return Losses,Accuracy    "
      ],
      "execution_count": null,
      "outputs": []
    },
    {
      "cell_type": "markdown",
      "metadata": {
        "id": "UsEXTYE63wRt"
      },
      "source": [
        "#### Testing function on Sigmoid hidden unit"
      ]
    },
    {
      "cell_type": "code",
      "metadata": {
        "id": "WGeeP62d3s5N"
      },
      "source": [
        "def testModel_sigmoid(W,b):\n",
        "  W1,W2 = W\n",
        "  b1,b2 = b\n",
        "  out1 = tf.matmul(data.test_data, W1) + b1\n",
        "  act1 = tf.nn.sigmoid(out1)  \n",
        "  test_preds = tf.argmax(tf.matmul(act1, W2) + b2, axis=1,\n",
        "                        output_type=tf.int32)\n",
        "  acc = tf.reduce_mean(tf.cast(tf.equal(test_preds, data.test_labels),\n",
        "                              tf.float32))\n",
        "  print(\"Test accuracy of the model is = {}%\".format(acc*100))\n",
        "  final_acc = \"{:.2f}\".format(acc*100)\n",
        "  return test_preds,float(final_acc)"
      ],
      "execution_count": null,
      "outputs": []
    },
    {
      "cell_type": "code",
      "metadata": {
        "id": "mrDFw1lz4KlY",
        "colab": {
          "base_uri": "https://localhost:8080/",
          "height": 855
        },
        "outputId": "169ac968-410b-4c7a-cc46-63c3cce8ec89"
      },
      "source": [
        "train_steps,learning_rate, W,b = initializeParam(6000,hid = 32)\n",
        "Losses,Accuracy = train_sigmoid(train_steps,learning_rate,W,b)\n",
        "visualizeTraining(Losses,Accuracy)\n",
        "test_preds,final_acc = testModel_sigmoid(W,b)\n",
        "visualizeMissclasification(test_preds)"
      ],
      "execution_count": null,
      "outputs": [
        {
          "output_type": "display_data",
          "data": {
            "image/png": "[encoded data removed]",
            "text/plain": [
              "<Figure size 432x288 with 1 Axes>"
            ]
          },
          "metadata": {
            "tags": [],
            "needs_background": "light"
          }
        },
        {
          "output_type": "display_data",
          "data": {
            "image/png": "[encoded data removed]",
            "text/plain": [
              "<Figure size 432x288 with 1 Axes>"
            ]
          },
          "metadata": {
            "tags": [],
            "needs_background": "light"
          }
        },
        {
          "output_type": "stream",
          "text": [
            "Test accuracy of the model is = 93.55000305175781%\n",
            "Actual label is 4, where as predicted label is 6\n"
          ],
          "name": "stdout"
        },
        {
          "output_type": "display_data",
          "data": {
            "image/png": "[encoded data removed]",
            "text/plain": [
              "<Figure size 432x288 with 1 Axes>"
            ]
          },
          "metadata": {
            "tags": [],
            "needs_background": "light"
          }
        }
      ]
    },
    {
      "cell_type": "markdown",
      "metadata": {
        "id": "hdJYULku4v4T"
      },
      "source": [
        "**visualization using different number of sigoid hidden units**"
      ]
    },
    {
      "cell_type": "code",
      "metadata": {
        "id": "ZP1fDnGH40yr",
        "colab": {
          "base_uri": "https://localhost:8080/",
          "height": 567
        },
        "outputId": "6dc034bf-f588-4802-f47f-601e5dbbc2d4"
      },
      "source": [
        "AccsVsHUnit_sigmoid = []\n",
        "for hUnit in [10,20,32,64,128,256, 512,1024]:\n",
        "  print(\"Number of units in the hidden layer is = {}\".format(hUnit))\n",
        "  train_steps,learning_rate, W,b = initializeParam(5000,hid = hUnit)\n",
        "  Losses,Accuracy = train_sigmoid(train_steps,learning_rate,W,b)\n",
        "  test_preds,final_acc = testModel_sigmoid(W,b)\n",
        "  AccsVsHUnit_sigmoid.append(final_acc)\n",
        "\n",
        "fig, ax = plt.subplots()\n",
        "ax.scatter([10,20,32,64,128,256,512,1024], AccsVsHUnit_sigmoid, color='blue')\n",
        "ax.legend(['Testing Accuracy'])\n",
        "ax.set_title('Varying Sigmoid units vs Accuray')\n",
        "ax.set_xlabel('No of Hidden unit')\n",
        "ax.set_ylabel('Test Acc')\n",
        "plt.show();"
      ],
      "execution_count": null,
      "outputs": [
        {
          "output_type": "stream",
          "text": [
            "Number of units in the hidden layer is = 10\n",
            "Test accuracy of the model is = 91.50999450683594%\n",
            "Number of units in the hidden layer is = 20\n",
            "Test accuracy of the model is = 92.9000015258789%\n",
            "Number of units in the hidden layer is = 32\n",
            "Test accuracy of the model is = 93.08000183105469%\n",
            "Number of units in the hidden layer is = 64\n",
            "Test accuracy of the model is = 93.33000183105469%\n",
            "Number of units in the hidden layer is = 128\n",
            "Test accuracy of the model is = 93.1500015258789%\n",
            "Number of units in the hidden layer is = 256\n",
            "Test accuracy of the model is = 93.0999984741211%\n",
            "Number of units in the hidden layer is = 512\n",
            "Test accuracy of the model is = 93.0199966430664%\n",
            "Number of units in the hidden layer is = 1024\n",
            "Test accuracy of the model is = 93.18000030517578%\n"
          ],
          "name": "stdout"
        },
        {
          "output_type": "display_data",
          "data": {
            "image/png": "[encoded data removed]",
            "text/plain": [
              "<Figure size 432x288 with 1 Axes>"
            ]
          },
          "metadata": {
            "tags": [],
            "needs_background": "light"
          }
        }
      ]
    },
    {
      "cell_type": "markdown",
      "metadata": {
        "id": "rSZADye662ro"
      },
      "source": [
        "**Observations**\n",
        "\n",
        "** It is observed from the above experiments that,\n",
        "\n",
        "1. when SIGMOID activation is used for hidden layer the accuracy is less when \n",
        "compared to the ReLU activation\n",
        "\n",
        "2. when SIGMOID activation is used and by varying the number of hidden units the accuracy is first increased and then a decreasing trend is obserbved\n",
        "\n",
        "3. In case of ReLU units the accuracy goes up with the number of neurons\n",
        "**"
      ]
    },
    {
      "cell_type": "code",
      "metadata": {
        "id": "ROyZBQgVZs5x",
        "colab": {
          "base_uri": "https://localhost:8080/",
          "height": 102
        },
        "outputId": "e5a0e0c7-3a63-48da-8039-7b3ddd64b02b"
      },
      "source": [
        "np.random.randn(5, 2)"
      ],
      "execution_count": null,
      "outputs": [
        {
          "output_type": "execute_result",
          "data": {
            "text/plain": [
              "array([[-1.64819275,  0.02838865],\n",
              "       [ 0.56842459,  1.03179078],\n",
              "       [-0.32884209,  2.04525489],\n",
              "       [ 0.82792431,  0.02772747],\n",
              "       [-1.75231841,  0.94331163]])"
            ]
          },
          "metadata": {
            "tags": []
          },
          "execution_count": 9
        }
      ]
    }
  ]
}