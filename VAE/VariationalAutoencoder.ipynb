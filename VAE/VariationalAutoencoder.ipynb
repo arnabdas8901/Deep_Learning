{
  "nbformat": 4,
  "nbformat_minor": 0,
  "metadata": {
    "colab": {
      "name": "Assignment5_Submission.ipynb",
      "provenance": [],
      "collapsed_sections": []
    },
    "kernelspec": {
      "name": "python3",
      "display_name": "Python 3"
    },
    "language_info": {
      "name": "python"
    },
    "accelerator": "GPU"
  },
  "cells": [
    {
      "cell_type": "markdown",
      "metadata": {
        "id": "3pQ9iJAW-k-F"
      },
      "source": [
        "# **Variational Autoencoders:**\n",
        "\n",
        "################################################\n",
        "\n",
        "Owner: Arnab Das\n",
        "\n",
        "Dataset: mnist\n",
        "\n",
        "##############################################"
      ]
    },
    {
      "cell_type": "code",
      "metadata": {
        "id": "5Jurcb0N-eke"
      },
      "source": [
        "# TensorFlow and tf.keras\n",
        "import os\n",
        "import tensorflow as tf\n",
        "from tensorflow import keras\n",
        "from tensorflow.keras.layers import Dense, Conv2D, Flatten, Dropout, MaxPooling2D, BatchNormalization, Activation, Input, AveragePooling2D, Concatenate, concatenate, Softmax, ReLU, Reshape, UpSampling2D, Conv2DTranspose\n",
        "from tensorflow.keras.preprocessing.image import ImageDataGenerator\n",
        "from tensorflow.keras import Model\n",
        "\n",
        "# Helper libraries\n",
        "import numpy as np\n",
        "import matplotlib.pyplot as plt\n",
        "import keras.backend as K"
      ],
      "execution_count": null,
      "outputs": []
    },
    {
      "cell_type": "code",
      "metadata": {
        "id": "_eHBvEHxlkHG"
      },
      "source": [
        "os.chdir('/content/drive/MyDrive/Colab Notebooks/LGM')"
      ],
      "execution_count": null,
      "outputs": []
    },
    {
      "cell_type": "code",
      "metadata": {
        "colab": {
          "base_uri": "https://localhost:8080/"
        },
        "id": "wzVxfU0nAe2j",
        "outputId": "262c99c3-493b-426a-a79f-be41bb3dbd07"
      },
      "source": [
        "mnist_dataset = keras.datasets.mnist\n",
        "(train_images, train_labels), (test_images, test_labels) = mnist_dataset.load_data()\n",
        "train_images = train_images.reshape([-1, 28, 28, 1]).astype(np.float32) / 255"
      ],
      "execution_count": null,
      "outputs": [
        {
          "output_type": "stream",
          "text": [
            "Downloading data from https://storage.googleapis.com/tensorflow/tf-keras-datasets/mnist.npz\n",
            "11493376/11490434 [==============================] - 0s 0us/step\n"
          ],
          "name": "stdout"
        }
      ]
    },
    {
      "cell_type": "markdown",
      "metadata": {
        "id": "Bf3aEnj1Yuir"
      },
      "source": [
        "### Custom layer:\n",
        "> ####  The layer is to parameterize q(z|x) using P(epsilon), Mean & Variance and also for sampling the P(epsilon)"
      ]
    },
    {
      "cell_type": "code",
      "metadata": {
        "id": "rhE8LXftAy-X"
      },
      "source": [
        "class Parameterization(keras.layers.Layer):\n",
        "    def __init__(self):\n",
        "      super(Parameterization, self).__init__()\n",
        "\n",
        "    def call(self, inputs, training = False):\n",
        "      means, log_variances = tf.split(inputs, 2, axis=-1)\n",
        "      variances = tf.math.exp(log_variances)\n",
        "      if training:  \n",
        "        samples = tf.random.normal(tf.shape(means)) * tf.math.sqrt(variances) + means   \n",
        "      else:\n",
        "        samples = tf.random.normal(tf.shape(means))\n",
        "      return samples, tf.concat([means, variances], axis=-1)"
      ],
      "execution_count": null,
      "outputs": []
    },
    {
      "cell_type": "markdown",
      "metadata": {
        "id": "R5kjfGZ7ZDUS"
      },
      "source": [
        "### Model buildng:\n",
        "\n",
        "> #### Generic model incorporating both part encode and decoder. Also it works in both mode training and drawing samples"
      ]
    },
    {
      "cell_type": "code",
      "metadata": {
        "id": "Wl7WqlY8DknC"
      },
      "source": [
        "class MyModel(tf.keras.Model):\n",
        "  def __init__(self, hidden_size):\n",
        "    super(MyModel, self).__init__()\n",
        "    self.conv1 = Conv2D(128, (3, 3), activation='relu', padding='valid')\n",
        "    self.mp1 = MaxPooling2D((2, 2), padding='valid')\n",
        "    self.conv2 = Conv2D(128, (3, 3), activation='relu', padding='valid')\n",
        "    self.mp2 = MaxPooling2D((2, 2), padding='same')\n",
        "    self.conv3 = Conv2D(256, (3, 3), activation='relu', padding='valid')\n",
        "    self.conv4 = Conv2D(256, (3, 3), activation='relu', padding='valid')\n",
        "    self.flat = Flatten()\n",
        "    self.fc_1 = Dense(256,  activation='relu')\n",
        "    self.fc_2 = Dense(128, activation='relu' )\n",
        "    self.coder = Dense(2*hidden_size)# Encoding\n",
        "    self.pameterization = Parameterization()\n",
        "\n",
        "    self.fc_3 = Dense(256, activation='relu')\n",
        "    self.fc_4 = Dense(2304, activation='relu')\n",
        "    self.reshape = Reshape((6,6, 64))\n",
        "    self.upsample_1 = UpSampling2D((2, 2))\n",
        "    self.deconv_1 = Conv2DTranspose(64, (3, 3), strides=(1, 1), activation='relu')\n",
        "    self.upsample_2 = UpSampling2D((2, 2))\n",
        "    self.deconv_2 = Conv2DTranspose(32, (3, 3), strides=(1, 1), activation='relu')\n",
        "    self.conv5 = Conv2D(1, (3, 3), strides=(1, 1))\n",
        "\n",
        "\n",
        "  def call(self, inputs, training= False):\n",
        "    if training:\n",
        "      x = self.conv1(inputs)\n",
        "      x = self.mp1(x)\n",
        "      x = self.conv2(x)\n",
        "      x = self.mp2(x)\n",
        "      x = self.conv3(x)\n",
        "      x = self.conv4(x)\n",
        "      x = self.flat(x)\n",
        "      x = self.fc_1(x)\n",
        "      x = self.fc_2(x)\n",
        "      x = self.coder(x)\n",
        "      x, mu_var = self.pameterization(x, training)\n",
        "    else:\n",
        "      x, _ = self.pameterization(inputs, training)\n",
        "    x = self.fc_3(x)\n",
        "    x = self.fc_4(x)\n",
        "    x = self.reshape(x)\n",
        "    x = self.upsample_1(x) \n",
        "    x = self.deconv_1(x)\n",
        "    x = self.upsample_2(x)\n",
        "    x = self.deconv_2(x)\n",
        "    x = self.conv5(x)\n",
        "\n",
        "    if training:\n",
        "      return [x, mu_var]\n",
        "    else:\n",
        "      return x"
      ],
      "execution_count": null,
      "outputs": []
    },
    {
      "cell_type": "code",
      "metadata": {
        "id": "rqRpg3dBFXuI"
      },
      "source": [
        "def generation_loss_function(y_true, y_pred):\n",
        "  generation_loss = tf.reduce_mean(tf.reduce_sum(tf.nn.sigmoid_cross_entropy_with_logits(labels=y_true, logits=y_pred),\n",
        "                                                 axis=[1,2,3]))\n",
        "  return generation_loss"
      ],
      "execution_count": null,
      "outputs": []
    },
    {
      "cell_type": "code",
      "metadata": {
        "id": "C410zI9jOUTY"
      },
      "source": [
        "def kl_loss(y_true, y_pred):\n",
        "  mean_vec, sigma_vec = tf.split(y_pred, 2, axis=-1)\n",
        "  kl_loss = tf.reduce_mean(0.5 * tf.reduce_sum(tf.square(mean_vec) + sigma_vec - tf.math.log(sigma_vec) - 1,1))\n",
        "  return kl_loss"
      ],
      "execution_count": null,
      "outputs": []
    },
    {
      "cell_type": "markdown",
      "metadata": {
        "id": "qoug66mXZHBa"
      },
      "source": [
        "> #### I start the training with the loss weights [1, 0.3] corresponding to regeneration loss and KL loss.\n",
        "I use a weight scheduler to increase the KL loss epoch over the epochs to reach 0.4. In order to put more importance on KL divergence loss as learning progresses to draw better samples. This is a tradeoff between good reconstructions and good samples.\n",
        "\n",
        "Class for loss weight schedule callback is inspired by the blog\n",
        "https://medium.com/dive-into-ml-ai/adaptive-weighing-of-loss-functions-for-multiple-output-keras-models-71a1b0aca66e\n"
      ]
    },
    {
      "cell_type": "code",
      "metadata": {
        "id": "ZqH-0337-Zsw"
      },
      "source": [
        "class weightScheduler(tf.keras.callbacks.Callback):\n",
        "  def __init__(self, loss_weights ):\n",
        "    self.loss1_weight = loss_weights[0]\n",
        "    self.loss2_weight = loss_weights[1]\n",
        "  def on_epoch_end(self, epoch, logs={}):\n",
        "      K.set_value(self.loss2_weight, self.loss2_weight+0.002)"
      ],
      "execution_count": null,
      "outputs": []
    },
    {
      "cell_type": "code",
      "metadata": {
        "colab": {
          "base_uri": "https://localhost:8080/"
        },
        "id": "gEqIU3chH6Kd",
        "outputId": "6b5ca61b-d159-41c6-8aa7-d35b2914907e"
      },
      "source": [
        "latent_size = 64\n",
        "batch_size = 128\n",
        "epoch_count = 50\n",
        "\n",
        "loss1_weight = K.variable(1)\n",
        "loss2_weight = K.variable(0.3)\n",
        "loss_weights = [loss1_weight, loss2_weight]\n",
        "\n",
        "\n",
        "weight_scheduler = weightScheduler(loss_weights)\n",
        "\n",
        "loss = [generation_loss_function, kl_loss]\n",
        "#callback = tf.keras.callbacks.EarlyStopping(monitor='loss', patience=10, min_delta = 0.01, mode=\"min\", restore_best_weights=True )\n",
        "vae_model = MyModel(latent_size)\n",
        "vae_model.compile(optimizer=tf.optimizers.Adam(learning_rate=1e-3 ),\n",
        "                     loss=loss, loss_weights=loss_weights,\n",
        "                     metrics=[])\n",
        "history = vae_model.fit(train_images, train_images,batch_size=batch_size, epochs=epoch_count, steps_per_epoch=None, callbacks=[weight_scheduler])"
      ],
      "execution_count": null,
      "outputs": [
        {
          "output_type": "stream",
          "text": [
            "Epoch 1/50\n",
            "469/469 [==============================] - 42s 20ms/step - loss: 163.1828 - output_1_loss: 156.3065 - output_2_loss: 22.9209\n",
            "Epoch 2/50\n",
            "469/469 [==============================] - 9s 19ms/step - loss: 105.8063 - output_1_loss: 93.3349 - output_2_loss: 41.2960\n",
            "Epoch 3/50\n",
            "469/469 [==============================] - 9s 20ms/step - loss: 93.8116 - output_1_loss: 81.9759 - output_2_loss: 38.9336\n",
            "Epoch 4/50\n",
            "469/469 [==============================] - 9s 20ms/step - loss: 88.1034 - output_1_loss: 76.7459 - output_2_loss: 37.1161\n",
            "Epoch 5/50\n",
            "469/469 [==============================] - 9s 20ms/step - loss: 85.0916 - output_1_loss: 73.9908 - output_2_loss: 36.0419\n",
            "Epoch 6/50\n",
            "469/469 [==============================] - 9s 20ms/step - loss: 83.2330 - output_1_loss: 72.2572 - output_2_loss: 35.4056\n",
            "Epoch 7/50\n",
            "469/469 [==============================] - 9s 20ms/step - loss: 81.8129 - output_1_loss: 70.9396 - output_2_loss: 34.8505\n",
            "Epoch 8/50\n",
            "469/469 [==============================] - 9s 20ms/step - loss: 80.7341 - output_1_loss: 69.9103 - output_2_loss: 34.4703\n",
            "Epoch 9/50\n",
            "469/469 [==============================] - 9s 20ms/step - loss: 79.8873 - output_1_loss: 69.0637 - output_2_loss: 34.2520\n",
            "Epoch 10/50\n",
            "469/469 [==============================] - 10s 20ms/step - loss: 79.4378 - output_1_loss: 68.6143 - output_2_loss: 34.0362\n",
            "Epoch 11/50\n",
            "469/469 [==============================] - 10s 20ms/step - loss: 78.9872 - output_1_loss: 68.1314 - output_2_loss: 33.9244\n",
            "Epoch 12/50\n",
            "469/469 [==============================] - 10s 20ms/step - loss: 78.6694 - output_1_loss: 67.7847 - output_2_loss: 33.8037\n",
            "Epoch 13/50\n",
            "469/469 [==============================] - 10s 20ms/step - loss: 78.3569 - output_1_loss: 67.4387 - output_2_loss: 33.6981\n",
            "Epoch 14/50\n",
            "469/469 [==============================] - 10s 20ms/step - loss: 78.1506 - output_1_loss: 67.1955 - output_2_loss: 33.6045\n",
            "Epoch 15/50\n",
            "469/469 [==============================] - 10s 20ms/step - loss: 77.9319 - output_1_loss: 66.9307 - output_2_loss: 33.5400\n",
            "Epoch 16/50\n",
            "469/469 [==============================] - 10s 20ms/step - loss: 77.8821 - output_1_loss: 66.8505 - output_2_loss: 33.4293\n",
            "Epoch 17/50\n",
            "469/469 [==============================] - 10s 20ms/step - loss: 77.6056 - output_1_loss: 66.5194 - output_2_loss: 33.3921\n",
            "Epoch 18/50\n",
            "469/469 [==============================] - 9s 20ms/step - loss: 77.5520 - output_1_loss: 66.4251 - output_2_loss: 33.3142\n",
            "Epoch 19/50\n",
            "469/469 [==============================] - 10s 20ms/step - loss: 77.4006 - output_1_loss: 66.2357 - output_2_loss: 33.2290\n",
            "Epoch 20/50\n",
            "469/469 [==============================] - 10s 20ms/step - loss: 77.2916 - output_1_loss: 66.0755 - output_2_loss: 33.1835\n",
            "Epoch 21/50\n",
            "469/469 [==============================] - 10s 20ms/step - loss: 77.2291 - output_1_loss: 65.9605 - output_2_loss: 33.1430\n",
            "Epoch 22/50\n",
            "469/469 [==============================] - 10s 20ms/step - loss: 77.1335 - output_1_loss: 65.8246 - output_2_loss: 33.0670\n",
            "Epoch 23/50\n",
            "469/469 [==============================] - 10s 20ms/step - loss: 77.1544 - output_1_loss: 65.7913 - output_2_loss: 33.0322\n",
            "Epoch 24/50\n",
            "469/469 [==============================] - 10s 20ms/step - loss: 77.0441 - output_1_loss: 65.6312 - output_2_loss: 32.9853\n",
            "Epoch 25/50\n",
            "469/469 [==============================] - 10s 20ms/step - loss: 76.9438 - output_1_loss: 65.5005 - output_2_loss: 32.8830\n",
            "Epoch 26/50\n",
            "469/469 [==============================] - 10s 20ms/step - loss: 76.9221 - output_1_loss: 65.4193 - output_2_loss: 32.8653\n",
            "Epoch 27/50\n",
            "469/469 [==============================] - 9s 20ms/step - loss: 76.9318 - output_1_loss: 65.3785 - output_2_loss: 32.8217\n",
            "Epoch 28/50\n",
            "469/469 [==============================] - 10s 20ms/step - loss: 76.8943 - output_1_loss: 65.2993 - output_2_loss: 32.7541\n",
            "Epoch 29/50\n",
            "469/469 [==============================] - 10s 20ms/step - loss: 76.9267 - output_1_loss: 65.2859 - output_2_loss: 32.6987\n",
            "Epoch 30/50\n",
            "469/469 [==============================] - 10s 20ms/step - loss: 76.8680 - output_1_loss: 65.1601 - output_2_loss: 32.7033\n",
            "Epoch 31/50\n",
            "469/469 [==============================] - 10s 20ms/step - loss: 76.8377 - output_1_loss: 65.0809 - output_2_loss: 32.6578\n",
            "Epoch 32/50\n",
            "469/469 [==============================] - 10s 20ms/step - loss: 76.8119 - output_1_loss: 65.0070 - output_2_loss: 32.6103\n",
            "Epoch 33/50\n",
            "469/469 [==============================] - 10s 20ms/step - loss: 76.8002 - output_1_loss: 64.9593 - output_2_loss: 32.5301\n",
            "Epoch 34/50\n",
            "469/469 [==============================] - 10s 20ms/step - loss: 76.8153 - output_1_loss: 64.9056 - output_2_loss: 32.5402\n",
            "Epoch 35/50\n",
            "469/469 [==============================] - 10s 20ms/step - loss: 76.8066 - output_1_loss: 64.8639 - output_2_loss: 32.4528\n",
            "Epoch 36/50\n",
            "469/469 [==============================] - 10s 20ms/step - loss: 76.8566 - output_1_loss: 64.8590 - output_2_loss: 32.4262\n",
            "Epoch 37/50\n",
            "469/469 [==============================] - 10s 20ms/step - loss: 76.8015 - output_1_loss: 64.7617 - output_2_loss: 32.3650\n",
            "Epoch 38/50\n",
            "469/469 [==============================] - 10s 20ms/step - loss: 76.7322 - output_1_loss: 64.6554 - output_2_loss: 32.2909\n",
            "Epoch 39/50\n",
            "469/469 [==============================] - 10s 20ms/step - loss: 76.8353 - output_1_loss: 64.6905 - output_2_loss: 32.2998\n",
            "Epoch 40/50\n",
            "469/469 [==============================] - 10s 20ms/step - loss: 76.8061 - output_1_loss: 64.6231 - output_2_loss: 32.2300\n",
            "Epoch 41/50\n",
            "469/469 [==============================] - 10s 20ms/step - loss: 76.7952 - output_1_loss: 64.5593 - output_2_loss: 32.1997\n",
            "Epoch 42/50\n",
            "469/469 [==============================] - 10s 20ms/step - loss: 76.7981 - output_1_loss: 64.5226 - output_2_loss: 32.1348\n",
            "Epoch 43/50\n",
            "469/469 [==============================] - 10s 20ms/step - loss: 76.8964 - output_1_loss: 64.5549 - output_2_loss: 32.1393\n",
            "Epoch 44/50\n",
            "469/469 [==============================] - 10s 20ms/step - loss: 76.8557 - output_1_loss: 64.4881 - output_2_loss: 32.0401\n",
            "Epoch 45/50\n",
            "469/469 [==============================] - 10s 20ms/step - loss: 76.9203 - output_1_loss: 64.5136 - output_2_loss: 31.9762\n",
            "Epoch 46/50\n",
            "469/469 [==============================] - 10s 20ms/step - loss: 76.8503 - output_1_loss: 64.3996 - output_2_loss: 31.9248\n",
            "Epoch 47/50\n",
            "469/469 [==============================] - 10s 20ms/step - loss: 76.9206 - output_1_loss: 64.4117 - output_2_loss: 31.9107\n",
            "Epoch 48/50\n",
            "469/469 [==============================] - 10s 20ms/step - loss: 76.9231 - output_1_loss: 64.3652 - output_2_loss: 31.8727\n",
            "Epoch 49/50\n",
            "469/469 [==============================] - 10s 20ms/step - loss: 76.9856 - output_1_loss: 64.3825 - output_2_loss: 31.8262\n",
            "Epoch 50/50\n",
            "469/469 [==============================] - 10s 20ms/step - loss: 77.0333 - output_1_loss: 64.3915 - output_2_loss: 31.7633\n"
          ],
          "name": "stdout"
        }
      ]
    },
    {
      "cell_type": "code",
      "metadata": {
        "id": "aqdpeDihlxbW"
      },
      "source": [
        "vae_model.save_weights('/content/drive/MyDrive/Colab Notebooks/LGM/models/VAE/VAE_mnist.h5')"
      ],
      "execution_count": null,
      "outputs": []
    },
    {
      "cell_type": "markdown",
      "metadata": {
        "id": "QyrSHNMvaX0S"
      },
      "source": [
        "### Check for over-regularization:\n",
        "\n",
        "> #### To ensure that the regularizer is not over regularizing, we print some of the reconstred image. As the assignment suggests a typical sign of “overregularization” is when all reconstructions look the same."
      ]
    },
    {
      "cell_type": "code",
      "metadata": {
        "colab": {
          "base_uri": "https://localhost:8080/",
          "height": 181
        },
        "id": "R0pixI1-PZYD",
        "outputId": "32a19d67-a155-44b2-9916-9a9233e65a16"
      },
      "source": [
        "reco, _ = vae_model(train_images[0:10], training = True)\n",
        "fig = plt.figure(figsize=(20,7))\n",
        "for i in range(10):\n",
        "  plt.subplot(1,10,i+1)\n",
        "  plt.imshow(train_images[i].squeeze(), cmap=\"gray\")\n",
        "  plt.xticks([])\n",
        "  plt.yticks([])\n",
        "plt.suptitle(\"Training set images\", y= 0.7)\n",
        "plt.show()"
      ],
      "execution_count": null,
      "outputs": [
        {
          "output_type": "display_data",
          "data": {
            "image/png": "[encoded data removed]",
            "text/plain": [
              "<Figure size 1440x504 with 10 Axes>"
            ]
          },
          "metadata": {
            "tags": []
          }
        }
      ]
    },
    {
      "cell_type": "code",
      "metadata": {
        "colab": {
          "base_uri": "https://localhost:8080/",
          "height": 215
        },
        "id": "q1jZhrVTPZJq",
        "outputId": "890b530b-7ec0-49c1-d767-1bcf1d120538"
      },
      "source": [
        "fig = plt.figure(figsize=(20,7))\n",
        "for i in range(10):\n",
        "  plt.subplot(1,10,i+1)\n",
        "  plt.imshow(1/(1+np.exp(-reco.numpy()[i].squeeze())), cmap=\"gray\")\n",
        "  plt.xticks([])\n",
        "  plt.yticks([])\n",
        "plt.suptitle(\"Reconstructed images\", y= 0.7)\n",
        "plt.show()"
      ],
      "execution_count": null,
      "outputs": [
        {
          "output_type": "stream",
          "text": [
            "/usr/local/lib/python3.7/dist-packages/ipykernel_launcher.py:4: RuntimeWarning: overflow encountered in exp\n",
            "  after removing the cwd from sys.path.\n"
          ],
          "name": "stderr"
        },
        {
          "output_type": "display_data",
          "data": {
            "image/png": "[encoded data removed]",
            "text/plain": [
              "<Figure size 1440x504 with 10 Axes>"
            ]
          },
          "metadata": {
            "tags": []
          }
        }
      ]
    },
    {
      "cell_type": "markdown",
      "metadata": {
        "id": "VsqrNoJrarCi"
      },
      "source": [
        "### Observation:\n",
        "> in comparison to normal AE the reconstruction by the VAE is less blurry and sharp. This is happening because the normal AE maps the inputs to single vale in the latent space and this doesn't incorporate any effect of noise in generating the latent code. Where as the VAE maps each datapoint to a complete distribution for each latent space variable, putting high probability to values around the mean rather a single value. Hence the latest space is more tolerant of noise. "
      ]
    },
    {
      "cell_type": "markdown",
      "metadata": {
        "id": "GwMevHCfbZ0w"
      },
      "source": [
        "### Drawing samples only using P(epsilon)"
      ]
    },
    {
      "cell_type": "code",
      "metadata": {
        "id": "_6_fkL4VZMz-"
      },
      "source": [
        "dummyInput = np.zeros((10, 2*latent_size))\n",
        "pred = vae_model.predict(dummyInput, False)"
      ],
      "execution_count": null,
      "outputs": []
    },
    {
      "cell_type": "code",
      "metadata": {
        "colab": {
          "base_uri": "https://localhost:8080/",
          "height": 415
        },
        "id": "C6MkY2M7ZsXf",
        "outputId": "9f08c072-c97e-4067-83cc-2c8473a997a8"
      },
      "source": [
        "import warnings\n",
        "warnings.simplefilter('ignore')\n",
        "fig = plt.figure(figsize=(20,7))\n",
        "for i in range(10):\n",
        "  plt.subplot(2,5,i+1)\n",
        "  plt.imshow(1/(1+np.exp(-pred[i].squeeze())), cmap=\"gray\")\n",
        "  plt.xticks([])\n",
        "  plt.yticks([])\n",
        "plt.show()"
      ],
      "execution_count": null,
      "outputs": [
        {
          "output_type": "display_data",
          "data": {
            "image/png": "[encoded data removed]",
            "text/plain": [
              "<Figure size 1440x504 with 10 Axes>"
            ]
          },
          "metadata": {
            "tags": []
          }
        }
      ]
    },
    {
      "cell_type": "code",
      "metadata": {
        "id": "0c4KQAN7vIHs"
      },
      "source": [
        ""
      ],
      "execution_count": null,
      "outputs": []
    }
  ]
}