{
  "nbformat": 4,
  "nbformat_minor": 0,
  "metadata": {
    "colab": {
      "name": "IDL_Project_Assignment_Task5.ipynb",
      "provenance": [],
      "collapsed_sections": []
    },
    "kernelspec": {
      "name": "python3",
      "display_name": "Python 3"
    },
    "accelerator": "GPU"
  },
  "cells": [
    {
      "cell_type": "markdown",
      "metadata": {
        "id": "fwmtQoZ1-HPI"
      },
      "source": [
        "################################################\n",
        "\n",
        "Owner: Arnab Das\n",
        "\n",
        "Dataset: ben-eng.txt\n",
        "\n",
        "##############################################"
      ]
    },
    {
      "cell_type": "markdown",
      "metadata": {
        "id": "7NY7TcDp73k_"
      },
      "source": [
        "## Task 5: Attention-based Neural Machine Translation"
      ]
    },
    {
      "cell_type": "markdown",
      "metadata": {
        "id": "qYCRIZo1NhK4"
      },
      "source": [
        "## Index\n",
        "> Part A : Bahdanau attention\n",
        "1. Preprocessing the samples\n",
        "2. Tokenizing\n",
        "3. creating the dataset.\n",
        "4. Defining the encoder.\n",
        "5. Defining the attention, decoder\n",
        "6. Defining the training loop and evaluation function\n",
        "7. Training\n",
        "8. Testing and plotting the weight distribution\n",
        "9. Question & answer\n",
        "\n",
        "> Part B: Dot product attention\n",
        "1. Defining the attention mechanism\n",
        "2. Defining the decoder\n",
        "3. Training\n",
        "4. Testing and plotting the weight distribution\n",
        "\n",
        "> Part C: Luong product attention\n",
        "1. Defining the attention mechanism\n",
        "2. Defining the decoder\n",
        "3. Training\n",
        "4. Testing and plotting the weight distribution\n",
        "5. Analysis and comparison of three mechanism\n"
      ]
    },
    {
      "cell_type": "code",
      "metadata": {
        "id": "-K37hu5-KkNL"
      },
      "source": [
        "import tensorflow as tf\n",
        "\n",
        "import matplotlib.pyplot as plt\n",
        "import matplotlib.ticker as ticker\n",
        "from sklearn.model_selection import train_test_split\n",
        "\n",
        "import unicodedata\n",
        "import re\n",
        "import numpy as np\n",
        "import os\n",
        "import io\n",
        "import time"
      ],
      "execution_count": null,
      "outputs": []
    },
    {
      "cell_type": "markdown",
      "metadata": {
        "id": "y_Zf4nSj-NKt"
      },
      "source": [
        "### Experiment details:\n",
        "> For this task of neural machine translation I have choosen the task of Bengali to English translation. \n",
        "\n",
        "> The first part of the notebook follows the the tutorial with some changes(mentioned accordingly above relevant cells). And the later part depicts the implementation of other two attention mechanism"
      ]
    },
    {
      "cell_type": "code",
      "metadata": {
        "id": "9lrlGssgK7hf"
      },
      "source": [
        "path_to_file =\"/content/drive/My Drive/Colab Notebooks/IDL Assignments/ProjectAssignment/Task5/ben-eng/ben.txt\""
      ],
      "execution_count": null,
      "outputs": []
    },
    {
      "cell_type": "markdown",
      "metadata": {
        "id": "7wp0k5-x-0yN"
      },
      "source": [
        "* As the surce language is bengali, updated the regex\n",
        "* Purged some lines of code that was not required any more "
      ]
    },
    {
      "cell_type": "code",
      "metadata": {
        "id": "tpxymPONOglO"
      },
      "source": [
        "# Converts the unicode file to ascii\n",
        "def unicode_to_ascii(s):\n",
        "  return ''.join(c for c in unicodedata.normalize('NFKC', s)\n",
        "      if unicodedata.category(c) != 'Mn')\n",
        "\n",
        "\n",
        "def preprocess_sentence(w):\n",
        "  # Reference:- https://stackoverflow.com/questions/3645931/python-padding-punctuation-with-white-spaces-keeping-punctuation\n",
        "  w = re.sub(r'([\"।.,!?()])', r' \\1 ', w)\n",
        "  w = re.sub(r'[\" \"]+', \" \", w)\n",
        "\n",
        "  w = w.strip()\n",
        "\n",
        "  # adding a start and an end token to the sentence\n",
        "  # so that the model know when to start and stop predicting.\n",
        "  w = '<start> ' + w + ' <end>'\n",
        "  return w"
      ],
      "execution_count": null,
      "outputs": []
    },
    {
      "cell_type": "code",
      "metadata": {
        "id": "Jv2DHp_MOmOy"
      },
      "source": [
        "# 1. Remove the accents\n",
        "# 2. Clean the sentences\n",
        "# 3. Return word pairs in the format: [ENGLISH, SPANISH]\n",
        "def create_dataset(path, num_examples):\n",
        "  lines = io.open(path, encoding='UTF-8').read().strip().split('\\n')\n",
        "\n",
        "  word_pairs = [[preprocess_sentence(w) for w in l.split('\\t')]  for l in lines[:num_examples]]\n",
        "\n",
        "  return zip(*word_pairs)"
      ],
      "execution_count": null,
      "outputs": []
    },
    {
      "cell_type": "code",
      "metadata": {
        "id": "UZx-lOEqOoXr",
        "colab": {
          "base_uri": "https://localhost:8080/",
          "height": 52
        },
        "outputId": "3fbef73b-7da1-446b-9400-bcca61505e61"
      },
      "source": [
        "en, ben, c = create_dataset(path_to_file, None)\n",
        "print(en[-11])\n",
        "print(ben[-11])"
      ],
      "execution_count": null,
      "outputs": [
        {
          "output_type": "stream",
          "text": [
            "<start> I can place the palms of my hands on the floor without bending my knees . <end>\n",
            "<start> আমি হাঁটু ভাজ না করে হাতের পাতা মাটিতে রাখতে পারি । <end>\n"
          ],
          "name": "stdout"
        }
      ]
    },
    {
      "cell_type": "markdown",
      "metadata": {
        "id": "25OwZjSL_MY_"
      },
      "source": [
        "* Creating word tokens and post padding to match the length of all sequesnce"
      ]
    },
    {
      "cell_type": "code",
      "metadata": {
        "id": "98LxREaGYOwK"
      },
      "source": [
        "def tokenize(lang):\n",
        "  lang_tokenizer = tf.keras.preprocessing.text.Tokenizer(\n",
        "      filters='')\n",
        "  lang_tokenizer.fit_on_texts(lang)\n",
        "\n",
        "  tensor = lang_tokenizer.texts_to_sequences(lang)\n",
        "\n",
        "  tensor = tf.keras.preprocessing.sequence.pad_sequences(tensor,\n",
        "                                                         padding='post')\n",
        "\n",
        "  return tensor, lang_tokenizer"
      ],
      "execution_count": null,
      "outputs": []
    },
    {
      "cell_type": "code",
      "metadata": {
        "id": "7EJ-HBtQYZyK"
      },
      "source": [
        "def load_dataset(path, num_examples=None):\n",
        "  # creating cleaned input, output pairs\n",
        "  targ_lang, inp_lang, garbage = create_dataset(path, num_examples)\n",
        "\n",
        "  input_tensor, inp_lang_tokenizer = tokenize(inp_lang)\n",
        "  target_tensor, targ_lang_tokenizer = tokenize(targ_lang)\n",
        "\n",
        "  return input_tensor, target_tensor, inp_lang_tokenizer, targ_lang_tokenizer"
      ],
      "execution_count": null,
      "outputs": []
    },
    {
      "cell_type": "markdown",
      "metadata": {
        "id": "mlNPcyJd_Xh1"
      },
      "source": [
        "* Creating train test split"
      ]
    },
    {
      "cell_type": "code",
      "metadata": {
        "id": "lEWVij-NYsPB",
        "colab": {
          "base_uri": "https://localhost:8080/",
          "height": 34
        },
        "outputId": "c002edc7-766e-4698-8809-901f0debc17e"
      },
      "source": [
        "input_tensor, target_tensor, inp_lang, targ_lang = load_dataset(path_to_file)\n",
        "# Calculate max_length of the target tensors\n",
        "max_length_targ, max_length_inp = target_tensor.shape[1], input_tensor.shape[1]\n",
        "input_tensor_train, input_tensor_val, target_tensor_train, target_tensor_val = train_test_split(input_tensor, target_tensor, test_size=0.05)\n",
        "# Show length\n",
        "print(len(input_tensor_train), len(target_tensor_train), len(input_tensor_val), len(target_tensor_val))"
      ],
      "execution_count": null,
      "outputs": [
        {
          "output_type": "stream",
          "text": [
            "4124 4124 218 218\n"
          ],
          "name": "stdout"
        }
      ]
    },
    {
      "cell_type": "markdown",
      "metadata": {
        "id": "MKXmci4x_dMM"
      },
      "source": [
        "#### Changes:\n",
        "* The bengali data set is only above 4000 sequence long, which I too less for this task, so had to augment the samples by repeating 3 times"
      ]
    },
    {
      "cell_type": "code",
      "metadata": {
        "id": "IGUtXZcRjvH5"
      },
      "source": [
        "BUFFER_SIZE = len(input_tensor_train)\n",
        "BATCH_SIZE = 64\n",
        "steps_per_epoch = len(input_tensor_train)*3//BATCH_SIZE\n",
        "embedding_dim = 256\n",
        "units = 1024\n",
        "vocab_inp_size = len(inp_lang.word_index)+1\n",
        "vocab_tar_size = len(targ_lang.word_index)+1\n",
        "\n",
        "dataset = tf.data.Dataset.from_tensor_slices((input_tensor_train, target_tensor_train)).repeat(3).shuffle(BUFFER_SIZE*3)\n",
        "dataset = dataset.batch(BATCH_SIZE, drop_remainder=True)"
      ],
      "execution_count": null,
      "outputs": []
    },
    {
      "cell_type": "markdown",
      "metadata": {
        "id": "u9OSeoZK_zJW"
      },
      "source": [
        "### Changes:\n",
        "* As the dataset is small, to increase the capability of the encoder, instead of one layer of GRU, I have used two layers.\n",
        "* The hidden state and the outcome of the second layer is fed to the attention unit and the decoder(state)"
      ]
    },
    {
      "cell_type": "code",
      "metadata": {
        "id": "tldNoQw7Q21d"
      },
      "source": [
        "class Encoder(tf.keras.Model):\n",
        "  def __init__(self, vocab_size, embedding_dim, enc_units, batch_sz):\n",
        "    super(Encoder, self).__init__()\n",
        "    self.batch_sz = batch_sz\n",
        "    self.enc_units = enc_units\n",
        "    self.embedding = tf.keras.layers.Embedding(vocab_size, embedding_dim)\n",
        "    self.gru_1 = tf.keras.layers.GRU(self.enc_units,\n",
        "                                   return_sequences=True,\n",
        "                                   return_state=False,\n",
        "                                   recurrent_initializer='glorot_uniform')\n",
        "    self.gru_2 = tf.keras.layers.GRU(self.enc_units,\n",
        "                                   return_sequences=True,\n",
        "                                   return_state=True,\n",
        "                                   recurrent_initializer='glorot_uniform')\n",
        "\n",
        "  def call(self, x, hidden):\n",
        "    x = self.embedding(x)\n",
        "    output= self.gru_1(x, initial_state = hidden)\n",
        "    output, state= self.gru_2(output, initial_state = hidden)\n",
        "    return output, state\n",
        "\n",
        "  def initialize_hidden_state(self):\n",
        "    return tf.zeros((self.batch_sz, self.enc_units))"
      ],
      "execution_count": null,
      "outputs": []
    },
    {
      "cell_type": "code",
      "metadata": {
        "id": "EorXiGUURe97",
        "colab": {
          "base_uri": "https://localhost:8080/",
          "height": 34
        },
        "outputId": "1001dc95-91a0-4502-89d6-349fe98879a1"
      },
      "source": [
        "example_input_batch, example_target_batch = next(iter(dataset))\n",
        "example_input_batch.shape, example_target_batch.shape"
      ],
      "execution_count": null,
      "outputs": [
        {
          "output_type": "execute_result",
          "data": {
            "text/plain": [
              "(TensorShape([64, 22]), TensorShape([64, 23]))"
            ]
          },
          "metadata": {
            "tags": []
          },
          "execution_count": 11
        }
      ]
    },
    {
      "cell_type": "code",
      "metadata": {
        "id": "9OOiDpo2RaOr",
        "colab": {
          "base_uri": "https://localhost:8080/",
          "height": 52
        },
        "outputId": "a6b7a967-0778-46fb-9680-a13d44d9e4df"
      },
      "source": [
        "encoder = Encoder(vocab_inp_size, embedding_dim, units, BATCH_SIZE)\n",
        "\n",
        "# sample input\n",
        "sample_hidden = encoder.initialize_hidden_state()\n",
        "sample_output, sample_hidden = encoder(example_input_batch, sample_hidden)\n",
        "print ('Encoder output shape: (batch size, sequence length, units) {}'.format(sample_output.shape))\n",
        "print ('Encoder Hidden state shape: (batch size, units) {}'.format(sample_hidden.shape))"
      ],
      "execution_count": null,
      "outputs": [
        {
          "output_type": "stream",
          "text": [
            "Encoder output shape: (batch size, sequence length, units) (64, 22, 1024)\n",
            "Encoder Hidden state shape: (batch size, units) (64, 1024)\n"
          ],
          "name": "stdout"
        }
      ]
    },
    {
      "cell_type": "markdown",
      "metadata": {
        "id": "WlXUO_5oANNV"
      },
      "source": [
        "* Class def for the Bahdanau Attention\n",
        "## Changes:\n",
        "* The given tutorail was using the complete sequence lenth to calculate the score and attention weights. This was including the padded input as well. I guess which is not intended, as attenting outcomes of those time steps are not appropriate.\n",
        "* So i introduced a mask before calculating the softmax attention weights. The mask is computed in two steps,\n",
        " 1. First a 1/0 mask is introduced with same shape as the actual input to the encode. The one is for the real words and the 0 is for the paaded words in a sequence. \n",
        " 2. Next the 0s of the mask is substituted with a very big -ve value  ``` -1e10 ```\n",
        " 3. Then this mask is eleemnt wise multiplied with the score matrix.\n",
        " 4. Then the softmax is calculated, So that the softmax put very little probability(close to zero) for those big negative numbers, which is actally the attention wight for the padded words, in a sequence.\n",
        "\n",
        " This mask is used for rest two mechanism as well. \n"
      ]
    },
    {
      "cell_type": "code",
      "metadata": {
        "id": "-NizESgrRu_q"
      },
      "source": [
        "class BahdanauAttention(tf.keras.layers.Layer):\n",
        "  def __init__(self, units):\n",
        "    super(BahdanauAttention, self).__init__()\n",
        "    self.W1 = tf.keras.layers.Dense(units, kernel_initializer=tf.keras.initializers.he_uniform)\n",
        "    self.W2 = tf.keras.layers.Dense(units, kernel_initializer=tf.keras.initializers.he_uniform)\n",
        "    self.V = tf.keras.layers.Dense(1, kernel_initializer=tf.keras.initializers.he_uniform)\n",
        "\n",
        "  def call(self, query, values, inp):\n",
        "    # query hidden state shape == (batch_size, hidden size)\n",
        "    # query_with_time_axis shape == (batch_size, 1, hidden size)\n",
        "    # values shape == (batch_size, max_len, hidden size)\n",
        "    # we are doing this to broadcast addition along the time axis to calculate the score\n",
        "    query_with_time_axis = tf.expand_dims(query, 1)\n",
        "\n",
        "    # score shape == (batch_size, max_length, 1)\n",
        "    # we get 1 at the last axis because we are applying score to self.V\n",
        "    # the shape of the tensor before applying self.V is (batch_size, max_length, units)\n",
        "    mask = tf.where(tf.not_equal(inp, 0), tf.ones_like(inp), inp)\n",
        "    mask = tf.cast(tf.expand_dims(mask, -1), dtype=tf.float32)\n",
        "    reduction= tf.fill(mask.shape, -1e10)\n",
        "    final_mask = tf.where(tf.equal(mask, 0), reduction, mask)\n",
        "    score = self.V(tf.nn.tanh(\n",
        "        self.W1(query_with_time_axis) + self.W2(values)))\n",
        "    \n",
        "    score= score*final_mask\n",
        "\n",
        "    # attention_weights shape == (batch_size, max_length, 1)\n",
        "    attention_weights = tf.nn.softmax(score, axis=1)\n",
        "\n",
        "    # context_vector shape after sum == (batch_size, hidden_size)\n",
        "    context_vector = attention_weights * values\n",
        "    context_vector = tf.reduce_sum(context_vector, axis=1)\n",
        "\n",
        "    return context_vector, attention_weights"
      ],
      "execution_count": null,
      "outputs": []
    },
    {
      "cell_type": "code",
      "metadata": {
        "id": "-snSoJIGTf0z",
        "colab": {
          "base_uri": "https://localhost:8080/",
          "height": 52
        },
        "outputId": "e36674e8-9882-4eae-c0c0-b339dce4865d"
      },
      "source": [
        "attention_layer = BahdanauAttention(10)\n",
        "attention_result, attention_weights = attention_layer(sample_hidden, sample_output, example_input_batch)\n",
        "\n",
        "print(\"Attention result shape: (batch size, units) {}\".format(attention_result.shape))\n",
        "print(\"Attention weights shape: (batch_size, sequence_length, 1) {}\".format(attention_weights.shape))"
      ],
      "execution_count": null,
      "outputs": [
        {
          "output_type": "stream",
          "text": [
            "Attention result shape: (batch size, units) (64, 1024)\n",
            "Attention weights shape: (batch_size, sequence_length, 1) (64, 22, 1)\n"
          ],
          "name": "stdout"
        }
      ]
    },
    {
      "cell_type": "markdown",
      "metadata": {
        "id": "LK3_YElKCRuN"
      },
      "source": [
        "* Decoder class definition"
      ]
    },
    {
      "cell_type": "code",
      "metadata": {
        "id": "K2P7ULN5Ttgp"
      },
      "source": [
        "class Decoder(tf.keras.Model):\n",
        "  def __init__(self, vocab_size, embedding_dim, dec_units, batch_sz):\n",
        "    super(Decoder, self).__init__()\n",
        "    self.batch_sz = batch_sz\n",
        "    self.dec_units = dec_units\n",
        "    self.embedding = tf.keras.layers.Embedding(vocab_size, embedding_dim)\n",
        "    self.gru = tf.keras.layers.GRU(self.dec_units,\n",
        "                                   return_sequences=True,\n",
        "                                   return_state=True,\n",
        "                                   recurrent_initializer='glorot_uniform')\n",
        "    self.fc = tf.keras.layers.Dense(vocab_size)\n",
        "\n",
        "    # used for attention\n",
        "    self.attention = BahdanauAttention(self.dec_units)\n",
        "\n",
        "  def call(self, x, hidden, enc_output, inp):\n",
        "    # enc_output shape == (batch_size, max_length, hidden_size)\n",
        "    context_vector, attention_weights = self.attention(hidden, enc_output, inp)\n",
        "\n",
        "    # x shape after passing through embedding == (batch_size, 1, embedding_dim)\n",
        "    x = self.embedding(x)\n",
        "\n",
        "    # x shape after concatenation == (batch_size, 1, embedding_dim + hidden_size)\n",
        "    x = tf.concat([tf.expand_dims(context_vector, 1), x], axis=-1)\n",
        "\n",
        "    # passing the concatenated vector to the GRU\n",
        "    output, state = self.gru(x)\n",
        "\n",
        "    # output shape == (batch_size * 1, hidden_size)\n",
        "    output = tf.reshape(output, (-1, output.shape[2]))\n",
        "\n",
        "    # output shape == (batch_size, vocab)\n",
        "    x = self.fc(output)\n",
        "\n",
        "    return x, state, attention_weights"
      ],
      "execution_count": null,
      "outputs": []
    },
    {
      "cell_type": "code",
      "metadata": {
        "id": "_jfIuxiVTzdT",
        "colab": {
          "base_uri": "https://localhost:8080/",
          "height": 34
        },
        "outputId": "3e49f533-286a-4f8d-eff6-e87d81b2a6a1"
      },
      "source": [
        "decoder = Decoder(vocab_tar_size, embedding_dim, units, BATCH_SIZE)\n",
        "\n",
        "sample_decoder_output, _, _ = decoder(tf.random.uniform((BATCH_SIZE, 1)),\n",
        "                                      sample_hidden, sample_output, example_input_batch)\n",
        "\n",
        "print ('Decoder output shape: (batch_size, vocab size) {}'.format(sample_decoder_output.shape))"
      ],
      "execution_count": null,
      "outputs": [
        {
          "output_type": "stream",
          "text": [
            "Decoder output shape: (batch_size, vocab size) (64, 1890)\n"
          ],
          "name": "stdout"
        }
      ]
    },
    {
      "cell_type": "code",
      "metadata": {
        "id": "NDEm7647UA5U"
      },
      "source": [
        "optimizer = tf.keras.optimizers.Adam()\n",
        "loss_object = tf.keras.losses.SparseCategoricalCrossentropy(\n",
        "    from_logits=True, reduction='none')\n",
        "\n",
        "def loss_function(real, pred):\n",
        "  mask = tf.math.logical_not(tf.math.equal(real, 0))\n",
        "  loss_ = loss_object(real, pred)\n",
        "\n",
        "  mask = tf.cast(mask, dtype=loss_.dtype)\n",
        "  loss_ *= mask\n",
        "\n",
        "  return tf.reduce_mean(loss_)"
      ],
      "execution_count": null,
      "outputs": []
    },
    {
      "cell_type": "code",
      "metadata": {
        "id": "umpVkOXPUIIC"
      },
      "source": [
        "checkpoint_dir = './training_checkpoints'\n",
        "checkpoint_prefix = os.path.join(checkpoint_dir, \"ckpt\")\n",
        "checkpoint = tf.train.Checkpoint(optimizer=optimizer,\n",
        "                                 encoder=encoder,\n",
        "                                 decoder=decoder)"
      ],
      "execution_count": null,
      "outputs": []
    },
    {
      "cell_type": "code",
      "metadata": {
        "id": "SMSYWeEDUNqC"
      },
      "source": [
        "@tf.function\n",
        "def train_step(inp, targ, enc_hidden):\n",
        "  loss = 0\n",
        "\n",
        "  with tf.GradientTape() as tape:\n",
        "    enc_output, enc_hidden = encoder(inp, enc_hidden)\n",
        "\n",
        "    dec_hidden = enc_hidden\n",
        "\n",
        "    dec_input = tf.expand_dims([targ_lang.word_index['<start>']] * BATCH_SIZE, 1)\n",
        "\n",
        "    # Teacher forcing - feeding the target as the next input\n",
        "    for t in range(1, targ.shape[1]):\n",
        "      # passing enc_output to the decoder\n",
        "      predictions, dec_hidden, _ = decoder(dec_input, dec_hidden, enc_output, inp)\n",
        "\n",
        "      loss += loss_function(targ[:, t], predictions)\n",
        "\n",
        "      # using teacher forcing\n",
        "      dec_input = tf.expand_dims(targ[:, t], 1)\n",
        "\n",
        "  batch_loss = (loss / int(targ.shape[1]))\n",
        "\n",
        "  variables = encoder.trainable_variables + decoder.trainable_variables\n",
        "\n",
        "  gradients = tape.gradient(loss, variables)\n",
        "\n",
        "  optimizer.apply_gradients(zip(gradients, variables))\n",
        "\n",
        "  return batch_loss"
      ],
      "execution_count": null,
      "outputs": []
    },
    {
      "cell_type": "code",
      "metadata": {
        "id": "T6ie0B7wUQk6",
        "colab": {
          "base_uri": "https://localhost:8080/",
          "height": 905
        },
        "outputId": "2be58187-6d39-41b0-bba1-117a2fc04c8d"
      },
      "source": [
        "EPOCHS = 10\n",
        "\n",
        "for epoch in range(EPOCHS):\n",
        "  start = time.time()\n",
        "\n",
        "  enc_hidden = encoder.initialize_hidden_state()\n",
        "  total_loss = 0\n",
        "\n",
        "  for (batch, (inp, targ)) in enumerate(dataset.take(steps_per_epoch)):\n",
        "    batch_loss = train_step(inp, targ, enc_hidden)\n",
        "    total_loss += batch_loss\n",
        "\n",
        "    if batch % 100 == 0:\n",
        "      print('Epoch {} Batch {} Loss {:.4f}'.format(epoch + 1,\n",
        "                                                   batch,\n",
        "                                                   batch_loss.numpy()))\n",
        "  # saving (checkpoint) the model every 2 epochs\n",
        "  if (epoch + 1) % 2 == 0:\n",
        "    checkpoint.save(file_prefix = checkpoint_prefix)\n",
        "\n",
        "  print('Epoch {} Loss {:.4f}'.format(epoch + 1,\n",
        "                                      total_loss / steps_per_epoch))\n",
        "  print('Time taken for 1 epoch {} sec\\n'.format(time.time() - start))"
      ],
      "execution_count": null,
      "outputs": [
        {
          "output_type": "stream",
          "text": [
            "Epoch 1 Batch 0 Loss 2.2806\n",
            "Epoch 1 Batch 100 Loss 1.1103\n",
            "Epoch 1 Loss 1.1451\n",
            "Time taken for 1 epoch 55.631274938583374 sec\n",
            "\n",
            "Epoch 2 Batch 0 Loss 0.8101\n",
            "Epoch 2 Batch 100 Loss 0.6055\n",
            "Epoch 2 Loss 0.6874\n",
            "Time taken for 1 epoch 33.62828850746155 sec\n",
            "\n",
            "Epoch 3 Batch 0 Loss 0.5740\n",
            "Epoch 3 Batch 100 Loss 0.4311\n",
            "Epoch 3 Loss 0.3988\n",
            "Time taken for 1 epoch 33.13502097129822 sec\n",
            "\n",
            "Epoch 4 Batch 0 Loss 0.2116\n",
            "Epoch 4 Batch 100 Loss 0.2054\n",
            "Epoch 4 Loss 0.2008\n",
            "Time taken for 1 epoch 34.0141978263855 sec\n",
            "\n",
            "Epoch 5 Batch 0 Loss 0.1036\n",
            "Epoch 5 Batch 100 Loss 0.1016\n",
            "Epoch 5 Loss 0.0969\n",
            "Time taken for 1 epoch 33.858670234680176 sec\n",
            "\n",
            "Epoch 6 Batch 0 Loss 0.0701\n",
            "Epoch 6 Batch 100 Loss 0.0590\n",
            "Epoch 6 Loss 0.0467\n",
            "Time taken for 1 epoch 34.2470543384552 sec\n",
            "\n",
            "Epoch 7 Batch 0 Loss 0.0335\n",
            "Epoch 7 Batch 100 Loss 0.0309\n",
            "Epoch 7 Loss 0.0320\n",
            "Time taken for 1 epoch 33.6471734046936 sec\n",
            "\n",
            "Epoch 8 Batch 0 Loss 0.0391\n",
            "Epoch 8 Batch 100 Loss 0.0264\n",
            "Epoch 8 Loss 0.0239\n",
            "Time taken for 1 epoch 34.14020133018494 sec\n",
            "\n",
            "Epoch 9 Batch 0 Loss 0.0232\n",
            "Epoch 9 Batch 100 Loss 0.0213\n",
            "Epoch 9 Loss 0.0201\n",
            "Time taken for 1 epoch 33.74101138114929 sec\n",
            "\n",
            "Epoch 10 Batch 0 Loss 0.0143\n",
            "Epoch 10 Batch 100 Loss 0.0204\n",
            "Epoch 10 Loss 0.0195\n",
            "Time taken for 1 epoch 34.241302490234375 sec\n",
            "\n"
          ],
          "name": "stdout"
        }
      ]
    },
    {
      "cell_type": "code",
      "metadata": {
        "id": "IAFV3DbwUz0D"
      },
      "source": [
        "def evaluate(sentence):\n",
        "  attention_plot = np.zeros((max_length_targ, max_length_inp))\n",
        "\n",
        "  sentence = preprocess_sentence(sentence)\n",
        "\n",
        "  inputs = [inp_lang.word_index[i] for i in sentence.split(' ')]\n",
        "  inputs = tf.keras.preprocessing.sequence.pad_sequences([inputs],\n",
        "                                                         maxlen=max_length_inp,\n",
        "                                                         padding='post')\n",
        "  inputs = tf.convert_to_tensor(inputs)\n",
        "\n",
        "  result = ''\n",
        "\n",
        "  hidden = [tf.zeros((1, units))]\n",
        "  enc_out, enc_hidden = encoder(inputs, hidden)\n",
        "\n",
        "  dec_hidden = enc_hidden\n",
        "  dec_input = tf.expand_dims([targ_lang.word_index['<start>']], 0)\n",
        "\n",
        "  for t in range(max_length_targ):\n",
        "    predictions, dec_hidden, attention_weights = decoder(dec_input,\n",
        "                                                         dec_hidden,\n",
        "                                                         enc_out, inputs)\n",
        "\n",
        "    # storing the attention weights to plot later on\n",
        "    attention_weights = tf.reshape(attention_weights, (-1, ))\n",
        "    attention_plot[t] = attention_weights.numpy()\n",
        "\n",
        "    predicted_id = tf.argmax(predictions[0]).numpy()\n",
        "\n",
        "    result += targ_lang.index_word[predicted_id] + ' '\n",
        "\n",
        "    if targ_lang.index_word[predicted_id] == '<end>':\n",
        "      return result, sentence, attention_plot\n",
        "\n",
        "    # the predicted ID is fed back into the model\n",
        "    dec_input = tf.expand_dims([predicted_id], 0)\n",
        "\n",
        "  return result, sentence, attention_plot"
      ],
      "execution_count": null,
      "outputs": []
    },
    {
      "cell_type": "markdown",
      "metadata": {
        "id": "vEdmcwavPV-x"
      },
      "source": [
        "#### Changes:\n",
        "* The matplotlib axis tickers do not support bengali characters by default. so 'Kalpurush.ttf' is used to get those printed."
      ]
    },
    {
      "cell_type": "code",
      "metadata": {
        "id": "58a8JYHeXqo7"
      },
      "source": [
        "import matplotlib.font_manager as fm\n",
        "prop = fm.FontProperties(fname='kalpurush.ttf')"
      ],
      "execution_count": null,
      "outputs": []
    },
    {
      "cell_type": "markdown",
      "metadata": {
        "id": "cSZbFMujCiPU"
      },
      "source": [
        "### Changes:\n",
        "* I didn't put the clim in the attention plot, rather i have introduced another mechanism before plotting the attention weight.\n",
        "* I have normalized the attention matrix by dividing each element of it by the max value of the matrix, so that it automatically comes into a range of [0,1]."
      ]
    },
    {
      "cell_type": "code",
      "metadata": {
        "id": "3JCTHN1bU2yR"
      },
      "source": [
        "# function for plotting the attention weights\n",
        "def plot_attention(attention, sentence, predicted_sentence):\n",
        "  fig = plt.figure(figsize=(10,10))\n",
        "  ax = fig.add_subplot(1, 1, 1)\n",
        "  ax.matshow(attention, cmap='gray')\n",
        "  plt.colormaps()\n",
        "\n",
        "  fontdict = {'fontsize': 14, }\n",
        "\n",
        "  ax.set_xticklabels([''] + sentence, fontdict=fontdict, rotation=90, fontproperties=prop)\n",
        "  ax.set_yticklabels([''] + predicted_sentence, fontdict=fontdict)\n",
        "\n",
        "  ax.xaxis.set_major_locator(ticker.MultipleLocator(1))\n",
        "  ax.yaxis.set_major_locator(ticker.MultipleLocator(1))\n",
        "\n",
        "  plt.show()"
      ],
      "execution_count": null,
      "outputs": []
    },
    {
      "cell_type": "code",
      "metadata": {
        "id": "j3xE4JEtU8zK"
      },
      "source": [
        "def translate(sentence):\n",
        "  result, sentence, attention_plot = evaluate(sentence)\n",
        "\n",
        "  print('Input: %s' % (sentence))\n",
        "  print('Predicted translation: {}'.format(result))\n",
        "  attention_plot = attention_plot/np.max(attention_plot)\n",
        "\n",
        "  attention_plot = attention_plot[:len(result.split(' ')), :len(sentence.split(' '))]\n",
        "  plot_attention(attention_plot, sentence.split(' '), result.split(' '))"
      ],
      "execution_count": null,
      "outputs": []
    },
    {
      "cell_type": "code",
      "metadata": {
        "id": "adHAqabmVAGK",
        "colab": {
          "base_uri": "https://localhost:8080/",
          "height": 34
        },
        "outputId": "46b2431c-0563-4325-a22d-b1c0e13f5e34"
      },
      "source": [
        "checkpoint.restore(tf.train.latest_checkpoint(checkpoint_dir))"
      ],
      "execution_count": null,
      "outputs": [
        {
          "output_type": "execute_result",
          "data": {
            "text/plain": [
              "<tensorflow.python.training.tracking.util.CheckpointLoadStatus at 0x7f9f001ca278>"
            ]
          },
          "metadata": {
            "tags": []
          },
          "execution_count": 26
        }
      ]
    },
    {
      "cell_type": "code",
      "metadata": {
        "id": "HLxh36CuAqQD",
        "colab": {
          "base_uri": "https://localhost:8080/",
          "height": 622
        },
        "outputId": "6bc0270c-5a32-4aba-e818-8fc1a1a6ff11"
      },
      "source": [
        "translate(u'টম যখন শুনলো যে মেরি আরে জন বিয়ে করেছে তখন তাকে দেখে বেশ অবাক মনে হয়েছিলো।')"
      ],
      "execution_count": null,
      "outputs": [
        {
          "output_type": "stream",
          "text": [
            "Input: <start> টম যখন শুনলো যে মেরি আরে জন বিয়ে করেছে তখন তাকে দেখে বেশ অবাক মনে হয়েছিলো । <end>\n",
            "Predicted translation: tom seemed quite surprised when he heard that mary and john had gotten married . <end> \n"
          ],
          "name": "stdout"
        },
        {
          "output_type": "display_data",
          "data": {
            "image/png": "[encoded data removed]",
            "text/plain": [
              "<Figure size 720x720 with 1 Axes>"
            ]
          },
          "metadata": {
            "tags": [],
            "needs_background": "light"
          }
        }
      ]
    },
    {
      "cell_type": "code",
      "metadata": {
        "id": "u_bp4F_bA2ty",
        "colab": {
          "base_uri": "https://localhost:8080/",
          "height": 581
        },
        "outputId": "d450cf8a-6c51-412a-b91a-e1c98549200a"
      },
      "source": [
        "translate(u'আমি ফিরে এসেছি।')"
      ],
      "execution_count": null,
      "outputs": [
        {
          "output_type": "stream",
          "text": [
            "Input: <start> আমি ফিরে এসেছি । <end>\n",
            "Predicted translation: i've returned . <end> \n"
          ],
          "name": "stdout"
        },
        {
          "output_type": "display_data",
          "data": {
            "image/png": "[encoded data removed]",
            "text/plain": [
              "<Figure size 720x720 with 1 Axes>"
            ]
          },
          "metadata": {
            "tags": [],
            "needs_background": "light"
          }
        }
      ]
    },
    {
      "cell_type": "code",
      "metadata": {
        "id": "Wb3xAVu6VEDi",
        "colab": {
          "base_uri": "https://localhost:8080/",
          "height": 565
        },
        "outputId": "6a9b5c28-02cb-47b6-b81b-5d32ef68f636"
      },
      "source": [
        "translate(u'ওরা আমাদের কী করে ভুলে যেতে পারে?')"
      ],
      "execution_count": null,
      "outputs": [
        {
          "output_type": "stream",
          "text": [
            "Input: <start> ওরা আমাদের কী করে ভুলে যেতে পারে ? <end>\n",
            "Predicted translation: how could they forget us ? <end> \n"
          ],
          "name": "stdout"
        },
        {
          "output_type": "display_data",
          "data": {
            "image/png": "[encoded data removed]",
            "text/plain": [
              "<Figure size 720x720 with 1 Axes>"
            ]
          },
          "metadata": {
            "tags": [],
            "needs_background": "light"
          }
        }
      ]
    },
    {
      "cell_type": "code",
      "metadata": {
        "id": "oYz5OPVcBEuK",
        "colab": {
          "base_uri": "https://localhost:8080/",
          "height": 673
        },
        "outputId": "169156d9-c017-4f23-887a-ebad7f541ed9"
      },
      "source": [
        "translate(u'কয়েক পাতা ইংরাজি অনুবাদ করতে আমার দু ঘন্টারও বেশি সময় লেগেছিলো।')"
      ],
      "execution_count": null,
      "outputs": [
        {
          "output_type": "stream",
          "text": [
            "Input: <start> কয়েক পাতা ইংরাজি অনুবাদ করতে আমার দু ঘন্টারও বেশি সময় লেগেছিলো । <end>\n",
            "Predicted translation: it took me more than two hours to translate a few pages of english . <end> \n"
          ],
          "name": "stdout"
        },
        {
          "output_type": "display_data",
          "data": {
            "image/png": "[encoded data removed]",
            "text/plain": [
              "<Figure size 720x720 with 1 Axes>"
            ]
          },
          "metadata": {
            "tags": [],
            "needs_background": "light"
          }
        }
      ]
    },
    {
      "cell_type": "markdown",
      "metadata": {
        "id": "Bv3ZqMn7DaUd"
      },
      "source": [
        "### Question & Answers:\n",
        "1. **Which parts of the sentence are used as a token? Each character, each word, or are some words split up?**\n",
        "> Indiviual words, punctuation marks and specially added <start> and <end> are considered as tokens.\n",
        "\n",
        "2. **Do the same tokens in different language have the same ID?**\n",
        "> For my task the there is no such chance, as the languages are entirely different. But to answer the question, the answer is no. the id is just a index on the unique language dictionary created from the unique tokens in the language. It doesn't really understand the contextual meang of wrd tokens.\n",
        "\n",
        "3. **What is the relation between the encoder output and the encoder hidden state which is used to initialize the decoder hidden state?**\n",
        "> Encoders hidden state is used to initialize decoder hidden state. Encoders output is used as values for calculating attention score.\n",
        "\n",
        "4. **Is the decoder attending to all previous positions, including the previous decoder predictions?**\n",
        "> The decoder is not attending the previous positions of decoder. Rather at each time step, it is attending all the time steps of the encoder, by using a softmax distribution of all timestep.\n",
        " \n",
        "5. **Does the Encoder output change in different decoding steps?**\n",
        "> Encoder output is calculated at once for all time step, and it is not changing for decoder steps.\n",
        "\n",
        "6. **Does the context vector change in different decoding steps?**\n",
        "> Yes they do. For each decoder steps the quesry changes, in turns the attention weight distribution and hence the context vector.\n",
        "\n",
        "7. **The decoder uses teacher forcing. Does this mean the time steps can be computed in parallel?**\n",
        "> Eavaluation/testing cannot be parallel, it has to stay closed loop. For training could have been parallelized, but for that we had to use the actual targets as input for the decoder time steps, as we already now this actual target outputs for those decoder steps. But one thing this will make the decoder see different input pattern in training and testing, so could be a issue.\n",
        "\n",
        "8. **Why is a mask applied to the loss function?**\n",
        "> The target sequence is also post padded with zo to match the max len in target corpora. So we dont want to calculate the loss for padded words. Hence the mask is used.\n",
        "\n",
        "---"
      ]
    },
    {
      "cell_type": "markdown",
      "metadata": {
        "id": "sjs977bHInmo"
      },
      "source": [
        "* Class definition for dot product attention."
      ]
    },
    {
      "cell_type": "code",
      "metadata": {
        "id": "qIJ9_7FACL7S"
      },
      "source": [
        "class DotAttention(tf.keras.layers.Layer):\n",
        "  def __init__(self):\n",
        "    super(DotAttention, self).__init__()\n",
        "\n",
        "  def call(self, query, values, inp):\n",
        "    # query hidden state shape == (batch_size, hidden size)\n",
        "    # query_with_time_axis shape == (batch_size, 1, hidden size)\n",
        "    # values shape == (batch_size, max_len, hidden size)\n",
        "    query_with_time_axis = tf.expand_dims(query, -1)\n",
        "\n",
        "    # score shape == (batch_size, max_length, 1)\n",
        "    mask = tf.where(tf.not_equal(inp, 0), tf.ones_like(inp), inp)\n",
        "    mask = tf.cast(tf.expand_dims(mask, -1), dtype=tf.float32)\n",
        "    reduction= tf.fill(mask.shape, -1e10)\n",
        "    final_mask = tf.where(tf.equal(mask, 0), reduction, mask)\n",
        "    score = tf.matmul(values, query_with_time_axis)\n",
        "    score= score*final_mask\n",
        "\n",
        "    # attention_weights shape == (batch_size, max_length, 1)\n",
        "    attention_weights = tf.nn.softmax(score, axis=1)\n",
        "\n",
        "    # context_vector shape after sum == (batch_size, hidden_size)\n",
        "    context_vector = attention_weights * values\n",
        "    context_vector = tf.reduce_sum(context_vector, axis=1)\n",
        "\n",
        "    return context_vector, attention_weights"
      ],
      "execution_count": null,
      "outputs": []
    },
    {
      "cell_type": "markdown",
      "metadata": {
        "id": "UQViCKkaIrxF"
      },
      "source": [
        "* Decoder definition for dot product attention"
      ]
    },
    {
      "cell_type": "code",
      "metadata": {
        "id": "eOLlG2CVExxx"
      },
      "source": [
        "class DecoderDot(tf.keras.Model):\n",
        "  def __init__(self, vocab_size, embedding_dim, dec_units, batch_sz):\n",
        "    super(DecoderDot, self).__init__()\n",
        "    self.batch_sz = batch_sz\n",
        "    self.dec_units = dec_units\n",
        "    self.embedding = tf.keras.layers.Embedding(vocab_size, embedding_dim)\n",
        "    self.gru = tf.keras.layers.GRU(self.dec_units,\n",
        "                                   return_sequences=True,\n",
        "                                   return_state=True,\n",
        "                                   recurrent_initializer='glorot_uniform')\n",
        "    self.fc = tf.keras.layers.Dense(vocab_size)\n",
        "\n",
        "    # used for attention\n",
        "    self.attention = DotAttention()\n",
        "\n",
        "  def call(self, x, hidden, enc_output, inp):\n",
        "    # enc_output shape == (batch_size, max_length, hidden_size)\n",
        "    context_vector, attention_weights = self.attention(hidden, enc_output, inp)\n",
        "\n",
        "    # x shape after passing through embedding == (batch_size, 1, embedding_dim)\n",
        "    x = self.embedding(x)\n",
        "\n",
        "    # x shape after concatenation == (batch_size, 1, embedding_dim + hidden_size)\n",
        "    x = tf.concat([tf.expand_dims(context_vector, 1), x], axis=-1)\n",
        "\n",
        "    # passing the concatenated vector to the GRU\n",
        "    output, state = self.gru(x)\n",
        "\n",
        "    # output shape == (batch_size * 1, hidden_size)\n",
        "    output = tf.reshape(output, (-1, output.shape[2]))\n",
        "\n",
        "    # output shape == (batch_size, vocab)\n",
        "    x = self.fc(output)\n",
        "\n",
        "    return x, state, attention_weights"
      ],
      "execution_count": null,
      "outputs": []
    },
    {
      "cell_type": "code",
      "metadata": {
        "id": "yOpXxjvBIsMq"
      },
      "source": [
        "encoder = None\n",
        "decoder = None"
      ],
      "execution_count": null,
      "outputs": []
    },
    {
      "cell_type": "markdown",
      "metadata": {
        "id": "51khEhutIzJ9"
      },
      "source": [
        "* Diiferent checkpoint directory is used to separate models"
      ]
    },
    {
      "cell_type": "code",
      "metadata": {
        "id": "wT99UAYTIOWB"
      },
      "source": [
        "encoder = Encoder(vocab_inp_size, embedding_dim, units, BATCH_SIZE)\n",
        "decoder = DecoderDot(vocab_tar_size, embedding_dim, units, BATCH_SIZE)\n",
        "checkpoint_dir = './training_checkpoints_dot'\n",
        "checkpoint_prefix = os.path.join(checkpoint_dir, \"ckpt\")\n",
        "checkpoint = tf.train.Checkpoint(optimizer=optimizer,\n",
        "                                 encoder=encoder,\n",
        "                                 decoder=decoder)"
      ],
      "execution_count": null,
      "outputs": []
    },
    {
      "cell_type": "markdown",
      "metadata": {
        "id": "lAw6ojHZI9Us"
      },
      "source": [
        "* This model with dot product attention is actually trained for 30 epochs(3*10) to get to the desirable accuracy"
      ]
    },
    {
      "cell_type": "code",
      "metadata": {
        "id": "PSJCUXQ-Irk4",
        "colab": {
          "base_uri": "https://localhost:8080/",
          "height": 905
        },
        "outputId": "3ffbe821-1776-401e-a32c-0e532e31b006"
      },
      "source": [
        "EPOCHS = 10\n",
        "\n",
        "for epoch in range(EPOCHS):\n",
        "  start = time.time()\n",
        "\n",
        "  enc_hidden = encoder.initialize_hidden_state()\n",
        "  total_loss = 0\n",
        "\n",
        "  for (batch, (inp, targ)) in enumerate(dataset.take(steps_per_epoch)):\n",
        "    batch_loss = train_step(inp, targ, enc_hidden)\n",
        "    total_loss += batch_loss\n",
        "\n",
        "    if batch % 100 == 0:\n",
        "      print('Epoch {} Batch {} Loss {:.4f}'.format(epoch + 1,\n",
        "                                                   batch,\n",
        "                                                   batch_loss.numpy()))\n",
        "  # saving (checkpoint) the model every 2 epochs\n",
        "  if (epoch + 1) % 2 == 0:\n",
        "    checkpoint.save(file_prefix = checkpoint_prefix)\n",
        "\n",
        "  print('Epoch {} Loss {:.4f}'.format(epoch + 1,\n",
        "                                      total_loss / steps_per_epoch))\n",
        "  print('Time taken for 1 epoch {} sec\\n'.format(time.time() - start))"
      ],
      "execution_count": null,
      "outputs": [
        {
          "output_type": "stream",
          "text": [
            "Epoch 1 Batch 0 Loss 0.0969\n",
            "Epoch 1 Batch 100 Loss 0.1023\n",
            "Epoch 1 Loss 0.1354\n",
            "Time taken for 1 epoch 23.058599710464478 sec\n",
            "\n",
            "Epoch 2 Batch 0 Loss 0.1284\n",
            "Epoch 2 Batch 100 Loss 0.1002\n",
            "Epoch 2 Loss 0.1299\n",
            "Time taken for 1 epoch 23.569032430648804 sec\n",
            "\n",
            "Epoch 3 Batch 0 Loss 0.0753\n",
            "Epoch 3 Batch 100 Loss 0.1050\n",
            "Epoch 3 Loss 0.1023\n",
            "Time taken for 1 epoch 23.24971032142639 sec\n",
            "\n",
            "Epoch 4 Batch 0 Loss 0.0854\n",
            "Epoch 4 Batch 100 Loss 0.0787\n",
            "Epoch 4 Loss 0.0974\n",
            "Time taken for 1 epoch 23.695663452148438 sec\n",
            "\n",
            "Epoch 5 Batch 0 Loss 0.1050\n",
            "Epoch 5 Batch 100 Loss 0.1058\n",
            "Epoch 5 Loss 0.0876\n",
            "Time taken for 1 epoch 23.265981197357178 sec\n",
            "\n",
            "Epoch 6 Batch 0 Loss 0.0884\n",
            "Epoch 6 Batch 100 Loss 0.1182\n",
            "Epoch 6 Loss 0.0737\n",
            "Time taken for 1 epoch 23.837941884994507 sec\n",
            "\n",
            "Epoch 7 Batch 0 Loss 0.0426\n",
            "Epoch 7 Batch 100 Loss 0.0337\n",
            "Epoch 7 Loss 0.0604\n",
            "Time taken for 1 epoch 23.470617294311523 sec\n",
            "\n",
            "Epoch 8 Batch 0 Loss 0.0557\n",
            "Epoch 8 Batch 100 Loss 0.0569\n",
            "Epoch 8 Loss 0.0561\n",
            "Time taken for 1 epoch 23.981935024261475 sec\n",
            "\n",
            "Epoch 9 Batch 0 Loss 0.0469\n",
            "Epoch 9 Batch 100 Loss 0.0437\n",
            "Epoch 9 Loss 0.0465\n",
            "Time taken for 1 epoch 23.392728090286255 sec\n",
            "\n",
            "Epoch 10 Batch 0 Loss 0.0402\n",
            "Epoch 10 Batch 100 Loss 0.0460\n",
            "Epoch 10 Loss 0.0382\n",
            "Time taken for 1 epoch 24.005711793899536 sec\n",
            "\n"
          ],
          "name": "stdout"
        }
      ]
    },
    {
      "cell_type": "code",
      "metadata": {
        "id": "xG49Oa1NLqqq",
        "colab": {
          "base_uri": "https://localhost:8080/",
          "height": 34
        },
        "outputId": "e4120d2a-c0cb-4895-fdc6-d30cd07eda56"
      },
      "source": [
        "checkpoint.restore(tf.train.latest_checkpoint(checkpoint_dir))"
      ],
      "execution_count": null,
      "outputs": [
        {
          "output_type": "execute_result",
          "data": {
            "text/plain": [
              "<tensorflow.python.training.tracking.util.CheckpointLoadStatus at 0x7f2ecb322a58>"
            ]
          },
          "metadata": {
            "tags": []
          },
          "execution_count": 47
        }
      ]
    },
    {
      "cell_type": "code",
      "metadata": {
        "id": "nfi4BlaPLzOv",
        "colab": {
          "base_uri": "https://localhost:8080/",
          "height": 597
        },
        "outputId": "3f13883c-9fe8-403d-c251-b987843e8cad"
      },
      "source": [
        "translate(u'আমাদের ওখানে নিয়ে চলুন।')"
      ],
      "execution_count": null,
      "outputs": [
        {
          "output_type": "stream",
          "text": [
            "Input: <start> আমাদের ওখানে নিয়ে চলুন । <end>\n",
            "Predicted translation: take us there . <end> \n"
          ],
          "name": "stdout"
        },
        {
          "output_type": "display_data",
          "data": {
            "image/png": "[encoded data removed]",
            "text/plain": [
              "<Figure size 720x720 with 1 Axes>"
            ]
          },
          "metadata": {
            "tags": [],
            "needs_background": "light"
          }
        }
      ]
    },
    {
      "cell_type": "code",
      "metadata": {
        "id": "YMpgro0wL0DS",
        "colab": {
          "base_uri": "https://localhost:8080/",
          "height": 660
        },
        "outputId": "9214dccf-e483-4a72-dcbf-5432b6cb1b4d"
      },
      "source": [
        "translate(u'আমার একটা মেয়ে আছে।')"
      ],
      "execution_count": null,
      "outputs": [
        {
          "output_type": "stream",
          "text": [
            "Input: <start> আমার একটা মেয়ে আছে । <end>\n",
            "Predicted translation: i have a daughter . <end> \n"
          ],
          "name": "stdout"
        },
        {
          "output_type": "display_data",
          "data": {
            "image/png": "[encoded data removed]",
            "text/plain": [
              "<Figure size 720x720 with 1 Axes>"
            ]
          },
          "metadata": {
            "tags": [],
            "needs_background": "light"
          }
        }
      ]
    },
    {
      "cell_type": "code",
      "metadata": {
        "id": "8Vasr4dWLzsf",
        "colab": {
          "base_uri": "https://localhost:8080/",
          "height": 660
        },
        "outputId": "0aaceffa-bef2-40de-b693-96f87c1e0a00"
      },
      "source": [
        "translate(u'টম এখন লাঞ্চ খেতে চায়।')"
      ],
      "execution_count": null,
      "outputs": [
        {
          "output_type": "stream",
          "text": [
            "Input: <start> টম এখন লাঞ্চ খেতে চায় । <end>\n",
            "Predicted translation: tom wants to eat lunch now . <end> \n"
          ],
          "name": "stdout"
        },
        {
          "output_type": "display_data",
          "data": {
            "image/png": "[encoded data removed]",
            "text/plain": [
              "<Figure size 720x720 with 1 Axes>"
            ]
          },
          "metadata": {
            "tags": [],
            "needs_background": "light"
          }
        }
      ]
    },
    {
      "cell_type": "code",
      "metadata": {
        "id": "j-OGMIadL0wY",
        "colab": {
          "base_uri": "https://localhost:8080/",
          "height": 672
        },
        "outputId": "676b83e2-8128-47f4-8147-9e844a106a65"
      },
      "source": [
        "translate(u'এই প্রকল্পটা শেষ হতে আরো অন্তত এক বছর লাগবে।')"
      ],
      "execution_count": null,
      "outputs": [
        {
          "output_type": "stream",
          "text": [
            "Input: <start> এই প্রকল্পটা শেষ হতে আরো অন্তত এক বছর লাগবে । <end>\n",
            "Predicted translation: this project will take at least a year to finish . <end> \n"
          ],
          "name": "stdout"
        },
        {
          "output_type": "display_data",
          "data": {
            "image/png": "[encoded data removed]",
            "text/plain": [
              "<Figure size 720x720 with 1 Axes>"
            ]
          },
          "metadata": {
            "tags": [],
            "needs_background": "light"
          }
        }
      ]
    },
    {
      "cell_type": "markdown",
      "metadata": {
        "id": "aobhRjQcJKZM"
      },
      "source": [
        "---\n",
        "* Class definition for Luong attention"
      ]
    },
    {
      "cell_type": "code",
      "metadata": {
        "id": "2S7UVjD4Rblq"
      },
      "source": [
        "class LuongAttention(tf.keras.layers.Layer):\n",
        "  def __init__(self, units):\n",
        "    super(LuongAttention, self).__init__()\n",
        "    self.V = tf.keras.layers.Dense(units, kernel_initializer=tf.keras.initializers.he_uniform)\n",
        "\n",
        "  def call(self, query, values, inp):\n",
        "    # query hidden state shape == (batch_size, hidden size)\n",
        "    # query_with_time_axis shape == (batch_size, 1, hidden size)\n",
        "    # values shape == (batch_size, max_len, hidden size)\n",
        "    # we are doing this to broadcast addition along the time axis to calculate the score\n",
        "    query_with_time_axis = tf.expand_dims(query, 1)\n",
        "\n",
        "    # score shape == (batch_size, max_length, 1)\n",
        "    mask = tf.where(tf.not_equal(inp, 0), tf.ones_like(inp), inp)\n",
        "    mask = tf.cast(tf.expand_dims(mask, -1), dtype=tf.float32)\n",
        "    reduction= tf.fill(mask.shape, -1e10)\n",
        "    final_mask = tf.where(tf.equal(mask, 0), reduction, mask)\n",
        "    score = tf.matmul(values, self.V(query_with_time_axis), transpose_b=True)\n",
        "    score= score*final_mask\n",
        "\n",
        "    # attention_weights shape == (batch_size, max_length, 1)\n",
        "    attention_weights = tf.nn.softmax(score, axis=1)\n",
        "\n",
        "    # context_vector shape after sum == (batch_size, hidden_size)\n",
        "    context_vector = attention_weights * values\n",
        "    context_vector = tf.reduce_sum(context_vector, axis=1)\n",
        "\n",
        "    return context_vector, attention_weights"
      ],
      "execution_count": null,
      "outputs": []
    },
    {
      "cell_type": "markdown",
      "metadata": {
        "id": "xYxs7i3DJOyl"
      },
      "source": [
        "* Class definition to decoder with Luong attention"
      ]
    },
    {
      "cell_type": "code",
      "metadata": {
        "id": "72lb4Nm_U8-4"
      },
      "source": [
        "class DecoderLuong(tf.keras.Model):\n",
        "  def __init__(self, vocab_size, embedding_dim, dec_units, batch_sz):\n",
        "    super(DecoderLuong, self).__init__()\n",
        "    self.batch_sz = batch_sz\n",
        "    self.dec_units = dec_units\n",
        "    self.embedding = tf.keras.layers.Embedding(vocab_size, embedding_dim)\n",
        "    self.gru = tf.keras.layers.GRU(self.dec_units,\n",
        "                                   return_sequences=True,\n",
        "                                   return_state=True,\n",
        "                                   recurrent_initializer='glorot_uniform')\n",
        "    self.fc = tf.keras.layers.Dense(vocab_size)\n",
        "\n",
        "    # used for attention\n",
        "    self.attention = LuongAttention(dec_units)\n",
        "\n",
        "  def call(self, x, hidden, enc_output, inp):\n",
        "    # enc_output shape == (batch_size, max_length, hidden_size)\n",
        "    context_vector, attention_weights = self.attention(hidden, enc_output, inp)\n",
        "\n",
        "    # x shape after passing through embedding == (batch_size, 1, embedding_dim)\n",
        "    x = self.embedding(x)\n",
        "\n",
        "    # x shape after concatenation == (batch_size, 1, embedding_dim + hidden_size)\n",
        "    x = tf.concat([tf.expand_dims(context_vector, 1), x], axis=-1)\n",
        "\n",
        "    # passing the concatenated vector to the GRU\n",
        "    output, state = self.gru(x)\n",
        "\n",
        "    # output shape == (batch_size * 1, hidden_size)\n",
        "    output = tf.reshape(output, (-1, output.shape[2]))\n",
        "\n",
        "    # output shape == (batch_size, vocab)\n",
        "    x = self.fc(output)\n",
        "\n",
        "    return x, state, attention_weights"
      ],
      "execution_count": null,
      "outputs": []
    },
    {
      "cell_type": "code",
      "metadata": {
        "id": "LviRoamFVqzY"
      },
      "source": [
        "encoder = None\n",
        "decoder = None"
      ],
      "execution_count": null,
      "outputs": []
    },
    {
      "cell_type": "code",
      "metadata": {
        "id": "E7oyNLmjVuK_"
      },
      "source": [
        "encoder = Encoder(vocab_inp_size, embedding_dim, units, BATCH_SIZE)\n",
        "decoder = DecoderLuong(vocab_tar_size, embedding_dim, units, BATCH_SIZE)\n",
        "checkpoint_dir = './training_checkpoints_luong'\n",
        "checkpoint_prefix = os.path.join(checkpoint_dir, \"ckpt\")\n",
        "checkpoint = tf.train.Checkpoint(optimizer=optimizer,\n",
        "                                 encoder=encoder,\n",
        "                                 decoder=decoder)"
      ],
      "execution_count": null,
      "outputs": []
    },
    {
      "cell_type": "markdown",
      "metadata": {
        "id": "YoVEgvf1JVd-"
      },
      "source": [
        "* This model is trained for 20 epochs(16+4) to get to the desirable accuracy"
      ]
    },
    {
      "cell_type": "code",
      "metadata": {
        "id": "W8KA8CE6V1s2",
        "colab": {
          "base_uri": "https://localhost:8080/",
          "height": 372
        },
        "outputId": "52e534d4-5ac4-4899-e07a-10a741279f3d"
      },
      "source": [
        "EPOCHS = 4\n",
        "\n",
        "for epoch in range(EPOCHS):\n",
        "  start = time.time()\n",
        "\n",
        "  enc_hidden = encoder.initialize_hidden_state()\n",
        "  total_loss = 0\n",
        "\n",
        "  for (batch, (inp, targ)) in enumerate(dataset.take(steps_per_epoch)):\n",
        "    batch_loss = train_step(inp, targ, enc_hidden)\n",
        "    total_loss += batch_loss\n",
        "\n",
        "    if batch % 100 == 0:\n",
        "      print('Epoch {} Batch {} Loss {:.4f}'.format(epoch + 1,\n",
        "                                                   batch,\n",
        "                                                   batch_loss.numpy()))\n",
        "  # saving (checkpoint) the model every 2 epochs\n",
        "  if (epoch + 1) % 2 == 0:\n",
        "    checkpoint.save(file_prefix = checkpoint_prefix)\n",
        "\n",
        "  print('Epoch {} Loss {:.4f}'.format(epoch + 1,\n",
        "                                      total_loss / steps_per_epoch))\n",
        "  print('Time taken for 1 epoch {} sec\\n'.format(time.time() - start))"
      ],
      "execution_count": null,
      "outputs": [
        {
          "output_type": "stream",
          "text": [
            "Epoch 1 Batch 0 Loss 0.0829\n",
            "Epoch 1 Batch 100 Loss 0.0724\n",
            "Epoch 1 Loss 0.0637\n",
            "Time taken for 1 epoch 23.787955284118652 sec\n",
            "\n",
            "Epoch 2 Batch 0 Loss 0.0487\n",
            "Epoch 2 Batch 100 Loss 0.0873\n",
            "Epoch 2 Loss 0.0738\n",
            "Time taken for 1 epoch 24.29590082168579 sec\n",
            "\n",
            "Epoch 3 Batch 0 Loss 0.0522\n",
            "Epoch 3 Batch 100 Loss 0.0916\n",
            "Epoch 3 Loss 0.0727\n",
            "Time taken for 1 epoch 23.871830224990845 sec\n",
            "\n",
            "Epoch 4 Batch 0 Loss 0.0470\n",
            "Epoch 4 Batch 100 Loss 0.0529\n",
            "Epoch 4 Loss 0.0568\n",
            "Time taken for 1 epoch 24.348707914352417 sec\n",
            "\n"
          ],
          "name": "stdout"
        }
      ]
    },
    {
      "cell_type": "code",
      "metadata": {
        "id": "RTtIO47BYz9G",
        "colab": {
          "base_uri": "https://localhost:8080/",
          "height": 34
        },
        "outputId": "eeffe64e-efe3-4d17-d08b-619c87337406"
      },
      "source": [
        "checkpoint.restore(tf.train.latest_checkpoint(checkpoint_dir))"
      ],
      "execution_count": null,
      "outputs": [
        {
          "output_type": "execute_result",
          "data": {
            "text/plain": [
              "<tensorflow.python.training.tracking.util.CheckpointLoadStatus at 0x7fa1b1eb4630>"
            ]
          },
          "metadata": {
            "tags": []
          },
          "execution_count": 33
        }
      ]
    },
    {
      "cell_type": "code",
      "metadata": {
        "id": "jFLjHOUfY3hN",
        "colab": {
          "base_uri": "https://localhost:8080/",
          "height": 660
        },
        "outputId": "e9a01f9d-b524-4dec-8bcf-2918b6b9fcb0"
      },
      "source": [
        "translate(u'তুমি কী এনেছো?')"
      ],
      "execution_count": null,
      "outputs": [
        {
          "output_type": "stream",
          "text": [
            "Input: <start> তুমি কী এনেছো ? <end>\n",
            "Predicted translation: what have you brought ? <end> \n"
          ],
          "name": "stdout"
        },
        {
          "output_type": "display_data",
          "data": {
            "image/png": "[encoded data removed]",
            "text/plain": [
              "<Figure size 720x720 with 1 Axes>"
            ]
          },
          "metadata": {
            "tags": [],
            "needs_background": "light"
          }
        }
      ]
    },
    {
      "cell_type": "code",
      "metadata": {
        "id": "TiUYHwqhaRZ9",
        "colab": {
          "base_uri": "https://localhost:8080/",
          "height": 594
        },
        "outputId": "840c00e3-b687-438f-dcdf-d0198a402a1f"
      },
      "source": [
        "translate(u'আমার হলুদ রঙ পছন্দ।')"
      ],
      "execution_count": null,
      "outputs": [
        {
          "output_type": "stream",
          "text": [
            "Input: <start> আমার হলুদ রঙ পছন্দ । <end>\n",
            "Predicted translation: i like yellow . <end> \n"
          ],
          "name": "stdout"
        },
        {
          "output_type": "display_data",
          "data": {
            "image/png": "[encoded data removed]",
            "text/plain": [
              "<Figure size 720x720 with 1 Axes>"
            ]
          },
          "metadata": {
            "tags": [],
            "needs_background": "light"
          }
        }
      ]
    },
    {
      "cell_type": "code",
      "metadata": {
        "id": "1DXkKe8NbGJf",
        "colab": {
          "base_uri": "https://localhost:8080/",
          "height": 660
        },
        "outputId": "ae73e953-d634-4d48-eb3f-71009051f283"
      },
      "source": [
        "translate(u'টমকে মারুন।')"
      ],
      "execution_count": null,
      "outputs": [
        {
          "output_type": "stream",
          "text": [
            "Input: <start> টমকে মারুন । <end>\n",
            "Predicted translation: hit tom . <end> \n"
          ],
          "name": "stdout"
        },
        {
          "output_type": "display_data",
          "data": {
            "image/png": "[encoded data removed]",
            "text/plain": [
              "<Figure size 720x720 with 1 Axes>"
            ]
          },
          "metadata": {
            "tags": [],
            "needs_background": "light"
          }
        }
      ]
    },
    {
      "cell_type": "markdown",
      "metadata": {
        "id": "SkzS3lb8Jg_Q"
      },
      "source": [
        "## Analysis and comparision:\n",
        "\n",
        "* **Faster to train**- model with Bahdanau attention is the fastest to train in this experiment settings. It just took 10 epochs to get to the desirable accuracy(translated the test samples perfectly). Whereas it took 20 epochs with Luong attention mechanism and 30 epochs with dot product attention.\n",
        "\n",
        "* **Qualitative-Attention weights relevance**- The best attention weight distribution is experienced with Bahdanau attention. As I know both the languages, the attention weights are attending correct tokens and even the attention weight is also taking care of contextual tokens, when the sentence structure is complex.  Because the formation is not same in English and Bengali. \n",
        "\n",
        "> I will put the Luong attention next. the attention weights sometimes give correct attention, and some times it doesn't, but it is not that bad considering the small amount of training samples. Though all the translations are correct.\n",
        "\n",
        "> Attention weights plots for the dot product attent is the worst amoung these three. It is putting attention to very wrong tokens. Though it makes most of the translations correct. I am not sure whether it is due to overfitting or not.\n",
        "\n",
        "* **Weight distribution**- The distribution intensity is also different for theese three. The Bahdanau weight distribution is bit smoother(high varience). So its puts attention to multiple tokens at a time. Where is the attention for Luong attention is the shapest(very narrow varience). It's put a very high attention to just one token at a time. The dot product attention is in the middle in terms of attention weight itensity.\n",
        "\n",
        "---"
      ]
    }
  ]
}