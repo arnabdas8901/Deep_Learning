{
  "nbformat": 4,
  "nbformat_minor": 0,
  "metadata": {
    "colab": {
      "name": "Assignment8_Submission.ipynb",
      "provenance": [],
      "collapsed_sections": []
    },
    "kernelspec": {
      "name": "python3",
      "display_name": "Python 3"
    }
  },
  "cells": [
    {
      "cell_type": "markdown",
      "metadata": {
        "id": "Tp5V8TAQr0Un"
      },
      "source": [
        "################################################\n",
        "\n",
        "Owner: Arnab Das\n",
        "\n",
        "Dataset: mnist\n",
        "\n",
        "##############################################"
      ]
    },
    {
      "cell_type": "markdown",
      "metadata": {
        "id": "KkMOREQ1hzqj"
      },
      "source": [
        "# Autoencoders in Tensorflow"
      ]
    },
    {
      "cell_type": "code",
      "metadata": {
        "id": "tiua9grshv82",
        "colab": {
          "base_uri": "https://localhost:8080/",
          "height": 34
        },
        "outputId": "78b83f94-b3b4-4369-d4ce-e32eae0f2293"
      },
      "source": [
        "import tensorflow as tf\n",
        "import numpy as np\n",
        "import matplotlib.pyplot as plt\n",
        "\n",
        "import keras\n",
        "from keras import models\n",
        "from keras.models import Sequential, Model\n",
        "from keras.layers import Dense, Dropout, Flatten, Input, Lambda\n",
        "from keras.layers import Conv2D, MaxPooling2D, UpSampling2D, Conv2DTranspose, Activation, Reshape\n",
        "from keras import backend as K\n",
        "from keras.datasets import mnist\n",
        "from keras.preprocessing import image"
      ],
      "execution_count": null,
      "outputs": [
        {
          "output_type": "stream",
          "text": [
            "Using TensorFlow backend.\n"
          ],
          "name": "stderr"
        }
      ]
    },
    {
      "cell_type": "code",
      "metadata": {
        "id": "AFkm7z7_i-Td"
      },
      "source": [
        "(x_train, y_train),(x_test, y_test) = mnist.load_data()\n",
        "x_train, x_test = x_train / 255.0, x_test / 255.0"
      ],
      "execution_count": null,
      "outputs": []
    },
    {
      "cell_type": "markdown",
      "metadata": {
        "id": "ml3TxDIgjvgD"
      },
      "source": [
        "* ## Using MLP\n",
        "\n",
        "\n"
      ]
    },
    {
      "cell_type": "code",
      "metadata": {
        "id": "V-Ou77-UjyHj"
      },
      "source": [
        "X_train_MLP = x_train.reshape((x_train.shape[0],x_train.shape[1]*x_train.shape[2]))\n",
        "X_test_MLP = x_test.reshape((x_test.shape[0],x_test.shape[1]*x_test.shape[2]))"
      ],
      "execution_count": null,
      "outputs": []
    },
    {
      "cell_type": "code",
      "metadata": {
        "id": "uaEBEiupkYg0"
      },
      "source": [
        "# Creating the model\n",
        "## Encoder\n",
        "ip = Input(shape=(784,))\n",
        "fc1 = Dense(512)(ip)\n",
        "act1 = Activation('relu')(fc1)\n",
        "fc2 = Dense(256)(act1)\n",
        "act2 = Activation('relu')(fc2)\n",
        "fc3 = Dense(256)(act2)\n",
        "act3 = Activation('relu')(fc3)\n",
        "fc4 = Dense(128)(act3)\n",
        "code = Activation('relu')(fc4)\n",
        "## Decoder\n",
        "fc5 = Dense(256)(code)\n",
        "act4 = Activation('relu')(fc5)\n",
        "fc6 = Dense(X_train_MLP.shape[-1])(act4)\n",
        "\n",
        "act_op_relu = Activation('relu')(fc6)\n",
        "act_op_sigmoid = Activation('sigmoid')(fc6)"
      ],
      "execution_count": null,
      "outputs": []
    },
    {
      "cell_type": "code",
      "metadata": {
        "id": "kh0lP8tPnj6j"
      },
      "source": [
        "autoencoder_MLP1 = Model(ip, act_op_relu)\n",
        "autoencoder_MLP1.compile(loss=keras.losses.mean_squared_error, optimizer=keras.optimizers.Adam(),metrics=['accuracy'])\n",
        "autoencoder_MLP2 = Model(ip, act_op_sigmoid)\n",
        "autoencoder_MLP2.compile(loss=keras.losses.binary_crossentropy, optimizer=keras.optimizers.Adam(),metrics=['accuracy'])"
      ],
      "execution_count": null,
      "outputs": []
    },
    {
      "cell_type": "code",
      "metadata": {
        "id": "PkT0nESkpwXz",
        "colab": {
          "base_uri": "https://localhost:8080/",
          "height": 391
        },
        "outputId": "b4b945e1-524d-4de5-e93a-a3b0f57a1947"
      },
      "source": [
        "# Uses ReLU\n",
        "autoencoder_MLP1.fit(X_train_MLP, X_train_MLP,\n",
        "                epochs=10,\n",
        "                batch_size=128,\n",
        "                shuffle=True,\n",
        "                validation_data=(X_test_MLP, X_test_MLP))"
      ],
      "execution_count": null,
      "outputs": [
        {
          "output_type": "stream",
          "text": [
            "Train on 60000 samples, validate on 10000 samples\n",
            "Epoch 1/10\n",
            "60000/60000 [==============================] - 13s 213us/step - loss: 0.3054 - accuracy: 0.8004 - val_loss: 0.2729 - val_accuracy: 0.8003\n",
            "Epoch 2/10\n",
            "60000/60000 [==============================] - 13s 210us/step - loss: 0.2434 - accuracy: 0.8027 - val_loss: 0.2541 - val_accuracy: 0.7968\n",
            "Epoch 3/10\n",
            "60000/60000 [==============================] - 12s 208us/step - loss: 0.2302 - accuracy: 0.8038 - val_loss: 0.2171 - val_accuracy: 0.8030\n",
            "Epoch 4/10\n",
            "60000/60000 [==============================] - 13s 214us/step - loss: 0.2400 - accuracy: 0.8034 - val_loss: 0.2301 - val_accuracy: 0.8022\n",
            "Epoch 5/10\n",
            "60000/60000 [==============================] - 13s 213us/step - loss: 0.2295 - accuracy: 0.8036 - val_loss: 0.2158 - val_accuracy: 0.8035\n",
            "Epoch 6/10\n",
            "60000/60000 [==============================] - 13s 210us/step - loss: 0.2347 - accuracy: 0.8020 - val_loss: 0.2242 - val_accuracy: 0.8010\n",
            "Epoch 7/10\n",
            "60000/60000 [==============================] - 13s 212us/step - loss: 0.2275 - accuracy: 0.8032 - val_loss: 0.2624 - val_accuracy: 0.7999\n",
            "Epoch 8/10\n",
            "60000/60000 [==============================] - 12s 208us/step - loss: 0.2284 - accuracy: 0.8029 - val_loss: 0.2111 - val_accuracy: 0.8037\n",
            "Epoch 9/10\n",
            "60000/60000 [==============================] - 13s 213us/step - loss: 0.2270 - accuracy: 0.8035 - val_loss: 0.2628 - val_accuracy: 0.7946\n",
            "Epoch 10/10\n",
            "60000/60000 [==============================] - 13s 213us/step - loss: 0.2215 - accuracy: 0.8037 - val_loss: 0.2038 - val_accuracy: 0.8045\n"
          ],
          "name": "stdout"
        },
        {
          "output_type": "execute_result",
          "data": {
            "text/plain": [
              "<keras.callbacks.callbacks.History at 0x7f22f32dc860>"
            ]
          },
          "metadata": {
            "tags": []
          },
          "execution_count": 25
        }
      ]
    },
    {
      "cell_type": "code",
      "metadata": {
        "id": "qKYWGpz5rExQ",
        "colab": {
          "base_uri": "https://localhost:8080/",
          "height": 391
        },
        "outputId": "4320f051-f86a-4b88-f4ef-11a736c4cdf3"
      },
      "source": [
        "#Uses Sigmoid\n",
        "autoencoder_MLP2.fit(X_train_MLP, X_train_MLP,\n",
        "                epochs=10,\n",
        "                batch_size=128,\n",
        "                shuffle=True,\n",
        "                validation_data=(X_test_MLP, X_test_MLP))"
      ],
      "execution_count": null,
      "outputs": [
        {
          "output_type": "stream",
          "text": [
            "Train on 60000 samples, validate on 10000 samples\n",
            "Epoch 1/10\n",
            "60000/60000 [==============================] - 13s 216us/step - loss: 0.1372 - accuracy: 0.8065 - val_loss: 0.1052 - val_accuracy: 0.8114\n",
            "Epoch 2/10\n",
            "60000/60000 [==============================] - 13s 212us/step - loss: 0.0991 - accuracy: 0.8131 - val_loss: 0.0922 - val_accuracy: 0.8129\n",
            "Epoch 3/10\n",
            "60000/60000 [==============================] - 12s 207us/step - loss: 0.0900 - accuracy: 0.8141 - val_loss: 0.0864 - val_accuracy: 0.8135\n",
            "Epoch 4/10\n",
            "60000/60000 [==============================] - 12s 206us/step - loss: 0.0853 - accuracy: 0.8145 - val_loss: 0.0826 - val_accuracy: 0.8137\n",
            "Epoch 5/10\n",
            "60000/60000 [==============================] - 12s 208us/step - loss: 0.0823 - accuracy: 0.8148 - val_loss: 0.0815 - val_accuracy: 0.8140\n",
            "Epoch 6/10\n",
            "60000/60000 [==============================] - 12s 207us/step - loss: 0.0802 - accuracy: 0.8149 - val_loss: 0.0790 - val_accuracy: 0.8140\n",
            "Epoch 7/10\n",
            "60000/60000 [==============================] - 12s 208us/step - loss: 0.0786 - accuracy: 0.8150 - val_loss: 0.0780 - val_accuracy: 0.8141\n",
            "Epoch 8/10\n",
            "60000/60000 [==============================] - 12s 206us/step - loss: 0.0774 - accuracy: 0.8151 - val_loss: 0.0768 - val_accuracy: 0.8141\n",
            "Epoch 9/10\n",
            "60000/60000 [==============================] - 12s 205us/step - loss: 0.0763 - accuracy: 0.8151 - val_loss: 0.0758 - val_accuracy: 0.8142\n",
            "Epoch 10/10\n",
            "60000/60000 [==============================] - 12s 204us/step - loss: 0.0755 - accuracy: 0.8152 - val_loss: 0.0749 - val_accuracy: 0.8142\n"
          ],
          "name": "stdout"
        },
        {
          "output_type": "execute_result",
          "data": {
            "text/plain": [
              "<keras.callbacks.callbacks.History at 0x7f22f31c5eb8>"
            ]
          },
          "metadata": {
            "tags": []
          },
          "execution_count": 27
        }
      ]
    },
    {
      "cell_type": "markdown",
      "metadata": {
        "id": "wc4O6Hw9r7Yv"
      },
      "source": [
        "#### Observation:\n",
        "> We have trained two similar auto encoder networks, one with ReLU activation in the final decode output layer and one with Sigmoid. It is oberved that the architecture with Sigmoid output is performing merginally better than the other one in terms of validation accuracy  "
      ]
    },
    {
      "cell_type": "markdown",
      "metadata": {
        "id": "Na9Ix37zssAn"
      },
      "source": [
        "* ## Using Convolutional Network"
      ]
    },
    {
      "cell_type": "code",
      "metadata": {
        "id": "VRBmWFKjsjcd"
      },
      "source": [
        "imgInp = Input(shape=(28, 28,1))\n",
        "\n",
        "## Encoder\n",
        "x = Conv2D(32, (3, 3), activation='relu', padding='valid')(imgInp)\n",
        "x = MaxPooling2D((2, 2), padding='valid')(x)\n",
        "x = Conv2D(64, (3, 3), activation='relu', padding='valid')(x)\n",
        "x = MaxPooling2D((2, 2), padding='same')(x)\n",
        "x = Conv2D(128, (3, 3), activation='relu', padding='valid')(x)\n",
        "flat_1 = Flatten()(x)\n",
        "fc_1 = Dense(256)(flat_1)\n",
        "act_1 = Activation('relu')(fc_1)\n",
        "fc_2 = Dense(128)(act_1)\n",
        "act_2 = Activation('relu')(fc_2)\n",
        "coder = Dense(64)(act_2) # Encoding\n",
        "\n",
        "\n",
        "#Decoder:\n",
        "fc_4 = Dense(256)(coder)\n",
        "act_4 = Activation('relu')(fc_4)\n",
        "\n",
        "fc_5 = Dense(2304)(act_4)\n",
        "act_5 = Activation('relu')(fc_5)\n",
        "reshape_1 = Reshape((6,6, 64))(act_5)\n",
        "\n",
        "upsample_1 = UpSampling2D((2, 2))(reshape_1)\n",
        "deconv_1 = Conv2DTranspose(64, (3, 3), strides=(1, 1))(upsample_1)\n",
        "act_5 = Activation('relu')(deconv_1)\n",
        "\n",
        "upsample_2 = UpSampling2D((2, 2))(act_5)\n",
        "deconv_2 = Conv2DTranspose(32, (3, 3), strides=(1, 1))(upsample_2)\n",
        "act_6 = Activation('relu')(deconv_2)\n",
        "\n",
        "conv_3 = Conv2D(1, (3, 3), strides=(1, 1))(act_6)\n",
        "act_7 = Activation('sigmoid')(conv_3)"
      ],
      "execution_count": null,
      "outputs": []
    },
    {
      "cell_type": "code",
      "metadata": {
        "id": "AQBo2c0d0q8F"
      },
      "source": [
        "x_train_CONV = np.expand_dims(x_train, -1)\n",
        "x_test_CONV = np.expand_dims(x_test, -1)"
      ],
      "execution_count": null,
      "outputs": []
    },
    {
      "cell_type": "code",
      "metadata": {
        "id": "6y9YPlaHz6Mm",
        "colab": {
          "base_uri": "https://localhost:8080/",
          "height": 391
        },
        "outputId": "8b187f10-5f39-4fd6-f267-65b370b3843b"
      },
      "source": [
        "autoencoder_CONV = Model(imgInp, act_7)\n",
        "autoencoder_CONV.compile(loss=keras.losses.binary_crossentropy, optimizer=keras.optimizers.Adam(),metrics=['accuracy'])\n",
        "\n",
        "\n",
        "autoencoder_CONV.fit(x_train_CONV, x_train_CONV,\n",
        "                epochs=10,\n",
        "                batch_size=128,\n",
        "                shuffle=True,\n",
        "                validation_data=(x_test_CONV, x_test_CONV))"
      ],
      "execution_count": null,
      "outputs": [
        {
          "output_type": "stream",
          "text": [
            "Train on 60000 samples, validate on 10000 samples\n",
            "Epoch 1/10\n",
            "60000/60000 [==============================] - 332s 6ms/step - loss: 0.1663 - accuracy: 0.8046 - val_loss: 0.1020 - val_accuracy: 0.8112\n",
            "Epoch 2/10\n",
            "60000/60000 [==============================] - 334s 6ms/step - loss: 0.0933 - accuracy: 0.8133 - val_loss: 0.0864 - val_accuracy: 0.8130\n",
            "Epoch 3/10\n",
            "60000/60000 [==============================] - 329s 5ms/step - loss: 0.0845 - accuracy: 0.8143 - val_loss: 0.0815 - val_accuracy: 0.8135\n",
            "Epoch 4/10\n",
            "60000/60000 [==============================] - 333s 6ms/step - loss: 0.0806 - accuracy: 0.8147 - val_loss: 0.0788 - val_accuracy: 0.8139\n",
            "Epoch 5/10\n",
            "60000/60000 [==============================] - 330s 5ms/step - loss: 0.0782 - accuracy: 0.8149 - val_loss: 0.0766 - val_accuracy: 0.8140\n",
            "Epoch 6/10\n",
            "60000/60000 [==============================] - 335s 6ms/step - loss: 0.0767 - accuracy: 0.8150 - val_loss: 0.0760 - val_accuracy: 0.8140\n",
            "Epoch 7/10\n",
            "60000/60000 [==============================] - 334s 6ms/step - loss: 0.0754 - accuracy: 0.8151 - val_loss: 0.0747 - val_accuracy: 0.8141\n",
            "Epoch 8/10\n",
            "60000/60000 [==============================] - 336s 6ms/step - loss: 0.0745 - accuracy: 0.8151 - val_loss: 0.0738 - val_accuracy: 0.8141\n",
            "Epoch 9/10\n",
            "60000/60000 [==============================] - 337s 6ms/step - loss: 0.0737 - accuracy: 0.8152 - val_loss: 0.0734 - val_accuracy: 0.8141\n",
            "Epoch 10/10\n",
            "60000/60000 [==============================] - 349s 6ms/step - loss: 0.0732 - accuracy: 0.8152 - val_loss: 0.0730 - val_accuracy: 0.8142\n"
          ],
          "name": "stdout"
        },
        {
          "output_type": "execute_result",
          "data": {
            "text/plain": [
              "<keras.callbacks.callbacks.History at 0x7f22f2a7aeb8>"
            ]
          },
          "metadata": {
            "tags": []
          },
          "execution_count": 34
        }
      ]
    },
    {
      "cell_type": "markdown",
      "metadata": {
        "id": "sb6R9vke6aYM"
      },
      "source": [
        "# What did the Autoencoder learn?"
      ]
    },
    {
      "cell_type": "markdown",
      "metadata": {
        "id": "7rP0eS138--D"
      },
      "source": [
        "#### Compring input image with the reconstructed inage"
      ]
    },
    {
      "cell_type": "code",
      "metadata": {
        "id": "wd4vZOw_662j",
        "colab": {
          "base_uri": "https://localhost:8080/",
          "height": 277
        },
        "outputId": "f44b5bfc-c079-4706-d8de-464cd7ad1a65"
      },
      "source": [
        "decoded_imgs = autoencoder_CONV.predict(x_test_CONV)\n",
        "n = 10\n",
        "plt.figure(figsize=(20, 5))\n",
        "for i in range(0,n):\n",
        "  # display original\n",
        "  plt.subplot(2, n, i+1)\n",
        "  plt.imshow(x_test_CONV[i].reshape(28, 28), cmap='gray')\n",
        "  plt.xticks([])\n",
        "  plt.yticks([])\n",
        "\n",
        "  # display reconstruction\n",
        "  plt.subplot(2, n, i +1+ n)\n",
        "  plt.imshow(decoded_imgs[i].reshape(28, 28), cmap='gray')\n",
        "  plt.xticks([])\n",
        "  plt.yticks([])\n",
        "plt.show()"
      ],
      "execution_count": null,
      "outputs": [
        {
          "output_type": "display_data",
          "data": {
            "image/png": "[encoded data removed]",
            "text/plain": [
              "<Figure size 1440x360 with 20 Axes>"
            ]
          },
          "metadata": {
            "tags": []
          }
        }
      ]
    },
    {
      "cell_type": "markdown",
      "metadata": {
        "id": "QAlUIJDi9-fb"
      },
      "source": [
        "#### Walking the code space"
      ]
    },
    {
      "cell_type": "code",
      "metadata": {
        "id": "MMyOVgJmCxLC"
      },
      "source": [
        "encoder = Model(autoencoder_CONV.input, autoencoder_CONV.get_layer(index=11).output)\n",
        "encoder.summary()"
      ],
      "execution_count": null,
      "outputs": []
    },
    {
      "cell_type": "code",
      "metadata": {
        "id": "mu2xNH7cENiB"
      },
      "source": [
        "decoder = Sequential()\n",
        "for i in range(12, 25):\n",
        "  decoder.add(autoencoder_CONV.get_layer(index=i))"
      ],
      "execution_count": null,
      "outputs": []
    },
    {
      "cell_type": "code",
      "metadata": {
        "id": "NmF8h3OPOajF",
        "colab": {
          "base_uri": "https://localhost:8080/",
          "height": 298
        },
        "outputId": "12ff8490-8025-4ea7-9f0d-b717ddc1c5e2"
      },
      "source": [
        "plt.imshow(x_test[7230], cmap='gray')\n",
        "plt.title('Original Image')"
      ],
      "execution_count": null,
      "outputs": [
        {
          "output_type": "execute_result",
          "data": {
            "text/plain": [
              "Text(0.5, 1.0, 'Original Image')"
            ]
          },
          "metadata": {
            "tags": []
          },
          "execution_count": 96
        },
        {
          "output_type": "display_data",
          "data": {
            "image/png": "[encoded data removed]",
            "text/plain": [
              "<Figure size 432x288 with 1 Axes>"
            ]
          },
          "metadata": {
            "tags": [],
            "needs_background": "light"
          }
        }
      ]
    },
    {
      "cell_type": "markdown",
      "metadata": {
        "id": "ssMvMD1VQiFm"
      },
      "source": [
        "### Our code is a 64 dimesnional vector. We will change the 17 th dimension of the vector from a range 10 to 100 and visualize the change in re constructed image "
      ]
    },
    {
      "cell_type": "code",
      "metadata": {
        "id": "evbks8xXF16R",
        "colab": {
          "base_uri": "https://localhost:8080/",
          "height": 523
        },
        "outputId": "51b88850-05fb-4dc6-d12a-b9d5c10943c5"
      },
      "source": [
        "encoder_Op = encoder.predict(np.expand_dims(x_test_CONV[7230],0))\n",
        "plt.figure(figsize=(20,10))\n",
        "count = 1\n",
        "for i in tf.range(10, 110, 10):\n",
        "  encoder_Op[0,17] = i.numpy()\n",
        "  plt.subplot(2, 5, count )\n",
        "  plt.imshow(decoder.predict(encoder_Op).reshape((28,28)), cmap='gray')\n",
        "  plt.xticks([])\n",
        "  plt.yticks([])\n",
        "  count += 1\n",
        "plt.show()  "
      ],
      "execution_count": null,
      "outputs": [
        {
          "output_type": "display_data",
          "data": {
            "image/png": "[encoded data removed]",
            "text/plain": [
              "<Figure size 1440x720 with 10 Axes>"
            ]
          },
          "metadata": {
            "tags": []
          }
        }
      ]
    },
    {
      "cell_type": "markdown",
      "metadata": {
        "id": "yxm8K7HRRRCk"
      },
      "source": [
        "# Unsupervised Classifier"
      ]
    },
    {
      "cell_type": "code",
      "metadata": {
        "id": "9Ii4zjmRRa0L",
        "colab": {
          "base_uri": "https://localhost:8080/",
          "height": 51
        },
        "outputId": "b6a56c58-7650-4554-fcdc-ce34fc0a663d"
      },
      "source": [
        "#Creating subset for training\n",
        "x_train_sub = x_train_CONV[0:5000]\n",
        "print(x_train_sub.shape)\n",
        "y_train_sub = y_train[0:5000]\n",
        "print(y_train_sub.shape)"
      ],
      "execution_count": null,
      "outputs": [
        {
          "output_type": "stream",
          "text": [
            "(5000, 28, 28, 1)\n",
            "(5000,)\n"
          ],
          "name": "stdout"
        }
      ]
    },
    {
      "cell_type": "markdown",
      "metadata": {
        "id": "IRgzV_PnR5gc"
      },
      "source": [
        "#### Train autoencoder – freeze encoder – train classifier on top "
      ]
    },
    {
      "cell_type": "code",
      "metadata": {
        "id": "mBLbjY2gRtMc",
        "colab": {
          "base_uri": "https://localhost:8080/",
          "height": 595
        },
        "outputId": "1a9ec762-646a-4918-9c16-3ee3c63d876c"
      },
      "source": [
        "classification = Dense(10, activation='softmax')(encoder.output)\n",
        "encoder_frezee_clasifier = Model(encoder.input, classification)\n",
        "for layer in encoder.layers[:-1]:\n",
        "  layer.trainable = False\n",
        "\n",
        "encoder_frezee_clasifier.summary()"
      ],
      "execution_count": null,
      "outputs": [
        {
          "output_type": "stream",
          "text": [
            "Model: \"model_36\"\n",
            "_________________________________________________________________\n",
            "Layer (type)                 Output Shape              Param #   \n",
            "=================================================================\n",
            "input_5 (InputLayer)         (None, 28, 28, 1)         0         \n",
            "_________________________________________________________________\n",
            "conv2d_5 (Conv2D)            (None, 26, 26, 32)        320       \n",
            "_________________________________________________________________\n",
            "max_pooling2d_3 (MaxPooling2 (None, 13, 13, 32)        0         \n",
            "_________________________________________________________________\n",
            "conv2d_6 (Conv2D)            (None, 11, 11, 64)        18496     \n",
            "_________________________________________________________________\n",
            "max_pooling2d_4 (MaxPooling2 (None, 6, 6, 64)          0         \n",
            "_________________________________________________________________\n",
            "conv2d_7 (Conv2D)            (None, 4, 4, 128)         73856     \n",
            "_________________________________________________________________\n",
            "flatten_2 (Flatten)          (None, 2048)              0         \n",
            "_________________________________________________________________\n",
            "dense_18 (Dense)             (None, 256)               524544    \n",
            "_________________________________________________________________\n",
            "activation_19 (Activation)   (None, 256)               0         \n",
            "_________________________________________________________________\n",
            "dense_19 (Dense)             (None, 128)               32896     \n",
            "_________________________________________________________________\n",
            "activation_20 (Activation)   (None, 128)               0         \n",
            "_________________________________________________________________\n",
            "dense_20 (Dense)             (None, 64)                8256      \n",
            "_________________________________________________________________\n",
            "dense_28 (Dense)             (None, 10)                650       \n",
            "=================================================================\n",
            "Total params: 659,018\n",
            "Trainable params: 8,906\n",
            "Non-trainable params: 650,112\n",
            "_________________________________________________________________\n"
          ],
          "name": "stdout"
        }
      ]
    },
    {
      "cell_type": "code",
      "metadata": {
        "id": "7ju93XXgUg7V",
        "colab": {
          "base_uri": "https://localhost:8080/",
          "height": 391
        },
        "outputId": "7b5de6f1-271b-4258-c1fe-11a4e9a5c170"
      },
      "source": [
        "encoder_frezee_clasifier.compile(loss=keras.losses.sparse_categorical_crossentropy, optimizer=keras.optimizers.Adam(),metrics=['accuracy'])\n",
        "\n",
        "encoder_frezee_clasifier.fit(x_train_sub, y_train_sub,\n",
        "                epochs=10,\n",
        "                batch_size=128,\n",
        "                shuffle=True,\n",
        "                validation_data=(x_test_CONV, y_test))"
      ],
      "execution_count": null,
      "outputs": [
        {
          "output_type": "stream",
          "text": [
            "Train on 5000 samples, validate on 10000 samples\n",
            "Epoch 1/10\n",
            "5000/5000 [==============================] - 4s 826us/step - loss: 2.1396 - accuracy: 0.3538 - val_loss: 1.0250 - val_accuracy: 0.6703\n",
            "Epoch 2/10\n",
            "5000/5000 [==============================] - 4s 799us/step - loss: 0.7528 - accuracy: 0.7792 - val_loss: 0.5798 - val_accuracy: 0.8364\n",
            "Epoch 3/10\n",
            "5000/5000 [==============================] - 4s 790us/step - loss: 0.5017 - accuracy: 0.8612 - val_loss: 0.4441 - val_accuracy: 0.8704\n",
            "Epoch 4/10\n",
            "5000/5000 [==============================] - 4s 796us/step - loss: 0.3967 - accuracy: 0.8930 - val_loss: 0.3716 - val_accuracy: 0.8928\n",
            "Epoch 5/10\n",
            "5000/5000 [==============================] - 4s 792us/step - loss: 0.3358 - accuracy: 0.9092 - val_loss: 0.3267 - val_accuracy: 0.9050\n",
            "Epoch 6/10\n",
            "5000/5000 [==============================] - 4s 795us/step - loss: 0.3014 - accuracy: 0.9178 - val_loss: 0.3002 - val_accuracy: 0.9156\n",
            "Epoch 7/10\n",
            "5000/5000 [==============================] - 4s 805us/step - loss: 0.2803 - accuracy: 0.9214 - val_loss: 0.2877 - val_accuracy: 0.9146\n",
            "Epoch 8/10\n",
            "5000/5000 [==============================] - 4s 795us/step - loss: 0.2590 - accuracy: 0.9272 - val_loss: 0.2574 - val_accuracy: 0.9282\n",
            "Epoch 9/10\n",
            "5000/5000 [==============================] - 4s 803us/step - loss: 0.2400 - accuracy: 0.9320 - val_loss: 0.2487 - val_accuracy: 0.9284\n",
            "Epoch 10/10\n",
            "5000/5000 [==============================] - 4s 795us/step - loss: 0.2299 - accuracy: 0.9336 - val_loss: 0.2432 - val_accuracy: 0.9275\n"
          ],
          "name": "stdout"
        },
        {
          "output_type": "execute_result",
          "data": {
            "text/plain": [
              "<keras.callbacks.callbacks.History at 0x7f22f06feef0>"
            ]
          },
          "metadata": {
            "tags": []
          },
          "execution_count": 115
        }
      ]
    },
    {
      "cell_type": "markdown",
      "metadata": {
        "id": "SpMbcFR3Vn3E"
      },
      "source": [
        "#### Train autoencoder – train classifier on top of encoder. "
      ]
    },
    {
      "cell_type": "code",
      "metadata": {
        "id": "AfQLKAlaVnWD",
        "colab": {
          "base_uri": "https://localhost:8080/",
          "height": 391
        },
        "outputId": "71814080-d77a-40bf-c7cc-0cfc63c04f46"
      },
      "source": [
        "new_classification = Dense(10, activation='softmax')(encoder.output)\n",
        "encoder_clasifier = Model(encoder.input, new_classification)\n",
        "encoder_clasifier.compile(loss=keras.losses.sparse_categorical_crossentropy, optimizer=keras.optimizers.Adam(),metrics=['accuracy'])\n",
        "\n",
        "encoder_clasifier.fit(x_train_sub, y_train_sub,\n",
        "                epochs=10,\n",
        "                batch_size=128,\n",
        "                shuffle=True,\n",
        "                validation_data=(x_test_CONV, y_test))"
      ],
      "execution_count": null,
      "outputs": [
        {
          "output_type": "stream",
          "text": [
            "Train on 5000 samples, validate on 10000 samples\n",
            "Epoch 1/10\n",
            "5000/5000 [==============================] - 4s 809us/step - loss: 2.4873 - accuracy: 0.3306 - val_loss: 1.0443 - val_accuracy: 0.6576\n",
            "Epoch 2/10\n",
            "5000/5000 [==============================] - 4s 795us/step - loss: 0.6869 - accuracy: 0.7912 - val_loss: 0.5132 - val_accuracy: 0.8523\n",
            "Epoch 3/10\n",
            "5000/5000 [==============================] - 4s 797us/step - loss: 0.4144 - accuracy: 0.8862 - val_loss: 0.3731 - val_accuracy: 0.8981\n",
            "Epoch 4/10\n",
            "5000/5000 [==============================] - 4s 791us/step - loss: 0.3236 - accuracy: 0.9170 - val_loss: 0.3162 - val_accuracy: 0.9162\n",
            "Epoch 5/10\n",
            "5000/5000 [==============================] - 4s 800us/step - loss: 0.2762 - accuracy: 0.9250 - val_loss: 0.2790 - val_accuracy: 0.9243\n",
            "Epoch 6/10\n",
            "5000/5000 [==============================] - 4s 794us/step - loss: 0.2597 - accuracy: 0.9286 - val_loss: 0.2582 - val_accuracy: 0.9309\n",
            "Epoch 7/10\n",
            "5000/5000 [==============================] - 4s 798us/step - loss: 0.2320 - accuracy: 0.9356 - val_loss: 0.2352 - val_accuracy: 0.9348\n",
            "Epoch 8/10\n",
            "5000/5000 [==============================] - 4s 798us/step - loss: 0.2204 - accuracy: 0.9372 - val_loss: 0.2266 - val_accuracy: 0.9363\n",
            "Epoch 9/10\n",
            "5000/5000 [==============================] - 4s 796us/step - loss: 0.2084 - accuracy: 0.9428 - val_loss: 0.2287 - val_accuracy: 0.9322\n",
            "Epoch 10/10\n",
            "5000/5000 [==============================] - 4s 793us/step - loss: 0.2043 - accuracy: 0.9414 - val_loss: 0.2074 - val_accuracy: 0.9429\n"
          ],
          "name": "stdout"
        },
        {
          "output_type": "execute_result",
          "data": {
            "text/plain": [
              "<keras.callbacks.callbacks.History at 0x7f22f1262a90>"
            ]
          },
          "metadata": {
            "tags": []
          },
          "execution_count": 117
        }
      ]
    },
    {
      "cell_type": "markdown",
      "metadata": {
        "id": "wBii0nRUWiJl"
      },
      "source": [
        "#### No pretraining"
      ]
    },
    {
      "cell_type": "code",
      "metadata": {
        "id": "bmE5o0R3Wq7S",
        "colab": {
          "base_uri": "https://localhost:8080/",
          "height": 391
        },
        "outputId": "63d25617-fa91-45c1-aa11-deb2b48101cb"
      },
      "source": [
        "freshInp = Input(shape=(28, 28,1))\n",
        "X1 = Conv2D(32, (3, 3), activation='relu', padding='valid')(freshInp)\n",
        "X1 = MaxPooling2D((2, 2), padding='valid')(X1)\n",
        "X1 = Conv2D(64, (3, 3), activation='relu', padding='valid')(X1)\n",
        "X1 = MaxPooling2D((2, 2), padding='same')(X1)\n",
        "X1 = Conv2D(128, (3, 3), activation='relu', padding='valid')(X1)\n",
        "flat = Flatten()(X1)\n",
        "fcl_1 = Dense(256)(flat)\n",
        "actl_1 = Activation('relu')(fcl_1)\n",
        "fcl_2 = Dense(128)(actl_1)\n",
        "actl_2 = Activation('relu')(fcl_2)\n",
        "coder = Dense(64)(actl_2)\n",
        "clfn = Dense(10, activation='softmax')(coder)\n",
        "\n",
        "my_classifier = Model(freshInp, clfn)\n",
        "my_classifier.compile(loss=keras.losses.sparse_categorical_crossentropy, optimizer=keras.optimizers.Adam(),metrics=['accuracy'])\n",
        "\n",
        "my_classifier.fit(x_train_sub, y_train_sub,\n",
        "                epochs=10,\n",
        "                batch_size=128,\n",
        "                shuffle=True,\n",
        "                validation_data=(x_test_CONV, y_test))"
      ],
      "execution_count": null,
      "outputs": [
        {
          "output_type": "stream",
          "text": [
            "Train on 5000 samples, validate on 10000 samples\n",
            "Epoch 1/10\n",
            "5000/5000 [==============================] - 8s 2ms/step - loss: 0.8942 - accuracy: 0.7210 - val_loss: 0.2854 - val_accuracy: 0.9115\n",
            "Epoch 2/10\n",
            "5000/5000 [==============================] - 7s 1ms/step - loss: 0.2193 - accuracy: 0.9332 - val_loss: 0.2775 - val_accuracy: 0.9110\n",
            "Epoch 3/10\n",
            "5000/5000 [==============================] - 7s 1ms/step - loss: 0.1692 - accuracy: 0.9470 - val_loss: 0.1338 - val_accuracy: 0.9590\n",
            "Epoch 4/10\n",
            "5000/5000 [==============================] - 8s 2ms/step - loss: 0.0957 - accuracy: 0.9734 - val_loss: 0.1229 - val_accuracy: 0.9607\n",
            "Epoch 5/10\n",
            "5000/5000 [==============================] - 8s 2ms/step - loss: 0.0747 - accuracy: 0.9764 - val_loss: 0.0941 - val_accuracy: 0.9703\n",
            "Epoch 6/10\n",
            "5000/5000 [==============================] - 7s 1ms/step - loss: 0.0750 - accuracy: 0.9756 - val_loss: 0.0813 - val_accuracy: 0.9737\n",
            "Epoch 7/10\n",
            "5000/5000 [==============================] - 8s 2ms/step - loss: 0.0467 - accuracy: 0.9858 - val_loss: 0.0752 - val_accuracy: 0.9780\n",
            "Epoch 8/10\n",
            "5000/5000 [==============================] - 7s 1ms/step - loss: 0.0228 - accuracy: 0.9940 - val_loss: 0.1008 - val_accuracy: 0.9691\n",
            "Epoch 9/10\n",
            "5000/5000 [==============================] - 8s 2ms/step - loss: 0.0281 - accuracy: 0.9902 - val_loss: 0.0878 - val_accuracy: 0.9748\n",
            "Epoch 10/10\n",
            "5000/5000 [==============================] - 8s 2ms/step - loss: 0.0226 - accuracy: 0.9930 - val_loss: 0.0921 - val_accuracy: 0.9716\n"
          ],
          "name": "stdout"
        },
        {
          "output_type": "execute_result",
          "data": {
            "text/plain": [
              "<keras.callbacks.callbacks.History at 0x7f22f0b9eba8>"
            ]
          },
          "metadata": {
            "tags": []
          },
          "execution_count": 118
        }
      ]
    },
    {
      "cell_type": "code",
      "metadata": {
        "id": "kI6g8OAJYRpL",
        "colab": {
          "base_uri": "https://localhost:8080/",
          "height": 34
        },
        "outputId": "0111e5a6-11e5-440e-b285-bc83a03f1717"
      },
      "source": [
        "np.argmax(my_classifier.predict(np.expand_dims(x_test_CONV[7230],0)), -1)"
      ],
      "execution_count": null,
      "outputs": [
        {
          "output_type": "execute_result",
          "data": {
            "text/plain": [
              "array([7])"
            ]
          },
          "metadata": {
            "tags": []
          },
          "execution_count": 121
        }
      ]
    },
    {
      "cell_type": "code",
      "metadata": {
        "id": "Pm70VDw6Y6Ah",
        "colab": {
          "base_uri": "https://localhost:8080/",
          "height": 34
        },
        "outputId": "ef4fc886-5536-42fd-da62-cf05838089be"
      },
      "source": [
        "my_classifier.predict(np.expand_dims(x_test_CONV[7230],0))[0,7]"
      ],
      "execution_count": null,
      "outputs": [
        {
          "output_type": "execute_result",
          "data": {
            "text/plain": [
              "0.99983513"
            ]
          },
          "metadata": {
            "tags": []
          },
          "execution_count": 125
        }
      ]
    },
    {
      "cell_type": "code",
      "metadata": {
        "id": "7CM20LWgYrlj",
        "colab": {
          "base_uri": "https://localhost:8080/",
          "height": 34
        },
        "outputId": "b9fec036-df9c-4812-9fd7-0dd762b651f1"
      },
      "source": [
        "np.argmax(encoder_clasifier.predict(np.expand_dims(x_test_CONV[7230],0)), -1)"
      ],
      "execution_count": null,
      "outputs": [
        {
          "output_type": "execute_result",
          "data": {
            "text/plain": [
              "array([7])"
            ]
          },
          "metadata": {
            "tags": []
          },
          "execution_count": 122
        }
      ]
    },
    {
      "cell_type": "code",
      "metadata": {
        "id": "lg_uAqdcZC3x",
        "colab": {
          "base_uri": "https://localhost:8080/",
          "height": 34
        },
        "outputId": "d8f0b5b1-96d9-4206-98ae-9ea5ff3d806d"
      },
      "source": [
        "encoder_clasifier.predict(np.expand_dims(x_test_CONV[7230],0))[0,7]"
      ],
      "execution_count": null,
      "outputs": [
        {
          "output_type": "execute_result",
          "data": {
            "text/plain": [
              "0.9264568"
            ]
          },
          "metadata": {
            "tags": []
          },
          "execution_count": 126
        }
      ]
    },
    {
      "cell_type": "code",
      "metadata": {
        "id": "XMqwWBZaYsRK",
        "colab": {
          "base_uri": "https://localhost:8080/",
          "height": 34
        },
        "outputId": "70a7b4a6-73c0-4478-b96d-85b2d2d8e440"
      },
      "source": [
        "np.argmax(encoder_frezee_clasifier.predict(np.expand_dims(x_test_CONV[7230],0)), -1)"
      ],
      "execution_count": null,
      "outputs": [
        {
          "output_type": "execute_result",
          "data": {
            "text/plain": [
              "array([7])"
            ]
          },
          "metadata": {
            "tags": []
          },
          "execution_count": 123
        }
      ]
    },
    {
      "cell_type": "code",
      "metadata": {
        "id": "G0ngue-yZHH5",
        "colab": {
          "base_uri": "https://localhost:8080/",
          "height": 34
        },
        "outputId": "bdc922ad-e9a2-4c77-f0bb-b7d526efdffb"
      },
      "source": [
        "encoder_frezee_clasifier.predict(np.expand_dims(x_test_CONV[7230],0))[0,7]"
      ],
      "execution_count": null,
      "outputs": [
        {
          "output_type": "execute_result",
          "data": {
            "text/plain": [
              "0.9810463"
            ]
          },
          "metadata": {
            "tags": []
          },
          "execution_count": 127
        }
      ]
    }
  ]
}