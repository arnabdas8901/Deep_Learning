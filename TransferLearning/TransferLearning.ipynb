{
  "nbformat": 4,
  "nbformat_minor": 0,
  "metadata": {
    "colab": {
      "name": "IDL_Project_Assignment_Task3.ipynb",
      "provenance": []
    },
    "kernelspec": {
      "name": "python3",
      "display_name": "Python 3"
    },
    "accelerator": "GPU"
  },
  "cells": [
    {
      "cell_type": "markdown",
      "metadata": {
        "id": "fvzQCkWaEGDI"
      },
      "source": [
        "\n",
        "################################################\n",
        "\n",
        "Owner: Arnab Das\n",
        "\n",
        "Dataset: MNIST, FMNIST\n",
        "\n",
        "###############################################"
      ]
    },
    {
      "cell_type": "markdown",
      "metadata": {
        "id": "HySlwQTRTD5t"
      },
      "source": [
        "### Task 3: Transfer Learning\n",
        "> In this task, you will implement different strategies on doing transfer learning.\n",
        "You will also investigate how well transfer learning is applicable to inputs of different data distributions.\n",
        "\n",
        "#### 3.1 same distribution\n",
        "> Split the MNIST dataset, such that 7 classes are the source domain and the other 3 classes are the target domain.\n",
        "Start with the source domain data set and train a model on it.\n",
        "From the trained model, cut off the final classification layer and replace it with a new layer for the target domain classes. For now, keep all layers trainable.\n",
        "Now train this model on the target domain data set. For comparison, also train a freshly initialized model on the target domain data set.\n",
        "\n",
        "How well did the transfer learning work, compared to training on the target data set from scratch?\n",
        "You can e.g. compare:\n",
        "\n",
        "* achieved accuracy\n",
        "* steps until convergence\n",
        "* generalization"
      ]
    },
    {
      "cell_type": "markdown",
      "metadata": {
        "id": "Oejq4n1hWc_Y"
      },
      "source": [
        "## Index:\n",
        "> ### Part I : Transfer Learning experiment - Same distribution\n",
        "* Loading mnist dataset and dividing into domain based on class\n",
        "* Defining base model\n",
        "* Training on source domain\n",
        "* Retraining on terget domain\n",
        "* Training another model only on target domain \n",
        "* Comparing the training process and analysisng impact of transfer learning\n",
        "\n",
        "> ### Part II: Transfer Learning experiment - Different distribution\n",
        "* Training model of Mnist data set\n",
        "* Loading fashion mnist dataset \n",
        "* Retraining the model on FMNIST dataset\n",
        "* Training a fresh model only on FNIST dataset\n",
        "* Comparing the training process and analysisng impact of transfer learning\n",
        "* Performing same experiment starting with FMNIST data and retraining in MNIST data\n",
        "* Comparing the training process and analysisng impact of transfer learning\n",
        "\n",
        "> ### Part III: Comparing different  Transfer Learning Strategies\n",
        "* Experiment with freezing pretrained layer and retraining.\n",
        "* Analysing the strategy\n",
        "* Freezing few bottom layers and retraining\n",
        "* Analysing the strategy\n",
        "* Adding few layer berfore retraining and then re-train\n",
        "* Analysing the strategy\n",
        "* Reinitialize few top layers and retraining\n",
        "* Analysing the strategy\n",
        "\n",
        "-x--x--x--x--x--x--x--x--x--x--x--x--x--x--x--x--x--x--x--x--x--x--x--x--x--x--x--x--x--x--x--x-\n"
      ]
    },
    {
      "cell_type": "code",
      "metadata": {
        "id": "JKMaQxHWEBrb"
      },
      "source": [
        "# Importing libraries\n",
        "import tensorflow as tf\n",
        "from tensorflow import keras\n",
        "from keras.models import Sequential\n",
        "from keras.layers import Dense, Conv2D, Flatten, Dropout, MaxPooling2D, BatchNormalization, Activation, Conv2DTranspose, Input, AveragePooling2D, concatenate\n",
        "from keras.regularizers import l2,l1_l2\n",
        "from keras.preprocessing.image import ImageDataGenerator\n",
        "from tensorflow.keras import Model\n",
        "\n",
        "# Helper libraries\n",
        "import numpy as np\n",
        "import matplotlib.pyplot as plt"
      ],
      "execution_count": null,
      "outputs": []
    },
    {
      "cell_type": "code",
      "metadata": {
        "id": "Aervsc3WEbIj"
      },
      "source": [
        "mnist_dataset = keras.datasets.mnist\n",
        "(train_images, train_labels), (test_images, test_labels) = mnist_dataset.load_data()"
      ],
      "execution_count": null,
      "outputs": []
    },
    {
      "cell_type": "code",
      "metadata": {
        "id": "lLEyGQrPFh1N"
      },
      "source": [
        "train_images = train_images.reshape([-1, 28, 28, 1]).astype(np.float32) / 255\n",
        "test_images = test_images.reshape([-1, 28,28, 1]).astype(np.float32) / 255\n",
        "train_labels = train_labels.astype(np.int32)\n",
        "test_labels = test_labels.astype(np.int32)"
      ],
      "execution_count": null,
      "outputs": []
    },
    {
      "cell_type": "code",
      "metadata": {
        "id": "86bYplv8Emkc",
        "colab": {
          "base_uri": "https://localhost:8080/",
          "height": 87
        },
        "outputId": "bb95ddb2-a9c7-4684-ef54-59b3514ce24c"
      },
      "source": [
        "# Printing the shape for trainining and testing dataset\n",
        "print(\"Training images data shape is : {}\".format(train_images.shape))\n",
        "print(\"Training labels data shape is : {}\".format(train_labels.shape))\n",
        "print(\"Test images data shape is : {}\".format(test_images.shape))\n",
        "print(\"Test images data shape is : {}\".format(test_labels.shape))"
      ],
      "execution_count": null,
      "outputs": [
        {
          "output_type": "stream",
          "text": [
            "Training images data shape is : (60000, 28, 28, 1)\n",
            "Training labels data shape is : (60000,)\n",
            "Test images data shape is : (10000, 28, 28, 1)\n",
            "Test images data shape is : (10000,)\n"
          ],
          "name": "stdout"
        }
      ]
    },
    {
      "cell_type": "code",
      "metadata": {
        "id": "JL9HAWE13hs4",
        "colab": {
          "base_uri": "https://localhost:8080/",
          "height": 87
        },
        "outputId": "ff2c0b28-73b1-4a53-cc34-974b97582437"
      },
      "source": [
        "print(\"Training images data shape is : {}\".format(train_images.shape))\n",
        "print(\"Training labels data shape is : {}\".format(train_labels.shape))\n",
        "print(\"Test images data shape is : {}\".format(test_images.shape))\n",
        "print(\"Test images data shape is : {}\".format(test_labels.shape))"
      ],
      "execution_count": null,
      "outputs": [
        {
          "output_type": "stream",
          "text": [
            "Training images data shape is : (60000, 28, 28, 1)\n",
            "Training labels data shape is : (60000,)\n",
            "Test images data shape is : (10000, 28, 28, 1)\n",
            "Test images data shape is : (10000,)\n"
          ],
          "name": "stdout"
        }
      ]
    },
    {
      "cell_type": "markdown",
      "metadata": {
        "id": "DAniqUyEWifW"
      },
      "source": [
        "#### Source and taget domain segregation of the data set\n",
        "> As part of the experiment classes from 0 to 6 will be in the source training and test dataset. And classes 7,8 and 9 will be in the target data set.\n",
        "\n",
        "> As the target dataset is having only 3 classes we need to change the class label to 0, 1, 2 instead of 7,8,9 to be trained using sparse categorical cross entropy loss."
      ]
    },
    {
      "cell_type": "code",
      "metadata": {
        "id": "X3QFiqrvF4Nm"
      },
      "source": [
        "bool_mask = train_labels  > 6\n",
        "source_train_labels = [i for indx,i in enumerate(train_labels) if bool_mask[indx] == False]\n",
        "target_train_labels = [i for indx,i in enumerate(train_labels) if bool_mask[indx] == True]\n",
        "source_train_images = [i for indx,i in enumerate(train_images) if bool_mask[indx] == False]\n",
        "target_train_images = [i for indx,i in enumerate(train_images) if bool_mask[indx] == True]\n",
        "\n",
        "source_train_labels = np.asarray(source_train_labels)\n",
        "target_train_labels = np.asarray(target_train_labels) - 7\n",
        "source_train_images = np.asarray(source_train_images)\n",
        "target_train_images = np.asarray(target_train_images)"
      ],
      "execution_count": null,
      "outputs": []
    },
    {
      "cell_type": "code",
      "metadata": {
        "id": "Td_GdTlrEo7M"
      },
      "source": [
        "source_train_images = source_train_images.reshape([-1, 28, 28, 1]).astype(np.float32) / 255\n",
        "target_train_images = target_train_images.reshape([-1, 28,28, 1]).astype(np.float32) / 255\n",
        "source_train_labels = source_train_labels.astype(np.int32)\n",
        "target_train_labels = target_train_labels.astype(np.int32)"
      ],
      "execution_count": null,
      "outputs": []
    },
    {
      "cell_type": "code",
      "metadata": {
        "id": "tBMHHVtUnRSc"
      },
      "source": [
        "test_bool_mask =  test_labels  > 6\n",
        "source_test_labels = [i for indx,i in enumerate(test_labels) if test_bool_mask[indx] == False]\n",
        "target_test_labels = [i for indx,i in enumerate(test_labels) if test_bool_mask[indx] == True]\n",
        "source_test_images = [i for indx,i in enumerate(test_images) if test_bool_mask[indx] == False]\n",
        "target_test_images = [i for indx,i in enumerate(test_images) if test_bool_mask[indx] == True]\n",
        "\n",
        "source_test_labels = np.asarray(source_test_labels)\n",
        "target_test_labels = np.asarray(target_test_labels) - 7\n",
        "source_test_images = np.asarray(source_test_images)\n",
        "target_test_images = np.asarray(target_test_images)"
      ],
      "execution_count": null,
      "outputs": []
    },
    {
      "cell_type": "code",
      "metadata": {
        "id": "9K9TvEzVNmqs",
        "colab": {
          "base_uri": "https://localhost:8080/",
          "height": 87
        },
        "outputId": "71b78cb1-34fa-42d2-b3d0-fe3124c2fcfe"
      },
      "source": [
        "# Printing the shape for source domain trainining and testing dataset\n",
        "print(\"Source domain training images data shape is : {}\".format(source_train_images.shape))\n",
        "print(\"Source domain training labels data shape is : {}\".format(source_train_labels.shape))\n",
        "print(\"Target domain training images data shape is : {}\".format(target_train_images.shape))\n",
        "print(\"Target domain training images data shape is : {}\".format(target_train_labels.shape))"
      ],
      "execution_count": null,
      "outputs": [
        {
          "output_type": "stream",
          "text": [
            "Source domain training images data shape is : (41935, 28, 28, 1)\n",
            "Source domain training labels data shape is : (41935,)\n",
            "Target domain training images data shape is : (18065, 28, 28, 1)\n",
            "Target domain training images data shape is : (18065,)\n"
          ],
          "name": "stdout"
        }
      ]
    },
    {
      "cell_type": "code",
      "metadata": {
        "id": "wdg4T_5joqv-",
        "colab": {
          "base_uri": "https://localhost:8080/",
          "height": 87
        },
        "outputId": "6866bb17-1782-4d28-84bb-b719d53b1051"
      },
      "source": [
        "# Printing the shape for target domain trainining and testing dataset\n",
        "print(\"Source domain test images data shape is : {}\".format(source_test_images.shape))\n",
        "print(\"Source domain test labels data shape is : {}\".format(source_test_labels.shape))\n",
        "print(\"Target domain test images data shape is : {}\".format(target_test_images.shape))\n",
        "print(\"Target domain test images data shape is : {}\".format(target_test_labels.shape))"
      ],
      "execution_count": null,
      "outputs": [
        {
          "output_type": "stream",
          "text": [
            "Source domain test images data shape is : (6989, 28, 28, 1)\n",
            "Source domain test labels data shape is : (6989,)\n",
            "Target domain test images data shape is : (3011, 28, 28, 1)\n",
            "Target domain test images data shape is : (3011,)\n"
          ],
          "name": "stdout"
        }
      ]
    },
    {
      "cell_type": "markdown",
      "metadata": {
        "id": "3PvqFwxhXMBA"
      },
      "source": [
        "#### Defining a simple model with a combination of convolution layers and fully connected layers at the bottom."
      ]
    },
    {
      "cell_type": "code",
      "metadata": {
        "id": "YddLt45zwR66"
      },
      "source": [
        "class MyModel(tf.keras.Model):\n",
        "\n",
        "  def __init__(self, classNum):\n",
        "    super(MyModel, self).__init__()\n",
        "    self.conv1 = Conv2D(8, (3, 3), activation='relu', padding='valid')\n",
        "    self.pool1= MaxPooling2D((2, 2), padding='valid')\n",
        "    self.conv2 = Conv2D(16, (3, 3), activation='relu', padding='valid')\n",
        "    self.pool2 = MaxPooling2D((2, 2), padding='same')\n",
        "    self.conv3 = Conv2D(32, (3, 3), activation='relu', padding='valid')\n",
        "    self.flat_1 = Flatten()\n",
        "    self.fc_1 = Dense(256, activation='relu')\n",
        "    self.fc_2 = Dense(128, activation='relu')\n",
        "    self.fc_3 = Dense(64, activation='relu')\n",
        "    self.classfier_source = Dense(classNum, activation='softmax')\n",
        "\n",
        "  def call(self, inputs):\n",
        "    x = self.conv1(inputs)\n",
        "    x= self.pool1(x)\n",
        "    x = self.conv2(x)\n",
        "    x = self.pool2(x)\n",
        "    x = self.conv3(x)\n",
        "    x = self.flat_1(x)\n",
        "    x = self.fc_1(x)\n",
        "    x = self.fc_2(x)\n",
        "    x = self.fc_3(x)\n",
        "\n",
        "    return self.classfier_source(x)"
      ],
      "execution_count": null,
      "outputs": []
    },
    {
      "cell_type": "code",
      "metadata": {
        "id": "jq4KOCxYP0Pi",
        "colab": {
          "base_uri": "https://localhost:8080/",
          "height": 372
        },
        "outputId": "3eb9e2be-f4bd-4fe3-d150-65e6ddeb3b07"
      },
      "source": [
        "#SourceModel = Model(imgInp, classfier_source)\n",
        "SourceModel = MyModel(7)\n",
        "SourceModel.compile(loss='sparse_categorical_crossentropy', optimizer=keras.optimizers.Adam(),metrics=['accuracy'])\n",
        "\n",
        "source_train_history = SourceModel.fit(source_train_images, source_train_labels,\n",
        "                epochs=10,\n",
        "                batch_size=1024,\n",
        "                shuffle=True, verbose=1)"
      ],
      "execution_count": null,
      "outputs": [
        {
          "output_type": "stream",
          "text": [
            "Epoch 1/10\n",
            "41/41 [==============================] - 1s 13ms/step - loss: 1.9283 - accuracy: 0.1916\n",
            "Epoch 2/10\n",
            "41/41 [==============================] - 0s 10ms/step - loss: 1.3720 - accuracy: 0.5570\n",
            "Epoch 3/10\n",
            "41/41 [==============================] - 0s 10ms/step - loss: 0.5755 - accuracy: 0.8040\n",
            "Epoch 4/10\n",
            "41/41 [==============================] - 0s 10ms/step - loss: 0.3954 - accuracy: 0.8720\n",
            "Epoch 5/10\n",
            "41/41 [==============================] - 0s 10ms/step - loss: 0.3190 - accuracy: 0.8991\n",
            "Epoch 6/10\n",
            "41/41 [==============================] - 0s 11ms/step - loss: 0.2716 - accuracy: 0.9150\n",
            "Epoch 7/10\n",
            "41/41 [==============================] - 0s 11ms/step - loss: 0.2450 - accuracy: 0.9225\n",
            "Epoch 8/10\n",
            "41/41 [==============================] - 0s 10ms/step - loss: 0.2227 - accuracy: 0.9303\n",
            "Epoch 9/10\n",
            "41/41 [==============================] - 0s 10ms/step - loss: 0.2042 - accuracy: 0.9355\n",
            "Epoch 10/10\n",
            "41/41 [==============================] - 0s 10ms/step - loss: 0.1884 - accuracy: 0.9398\n"
          ],
          "name": "stdout"
        }
      ]
    },
    {
      "cell_type": "code",
      "metadata": {
        "id": "d-2xgzqjJMN3",
        "colab": {
          "base_uri": "https://localhost:8080/",
          "height": 621
        },
        "outputId": "3a5a891a-1464-4051-9005-569aac5188e3"
      },
      "source": [
        "plt.figure(figsize=(20,10))\n",
        "plt.subplot(1,2,1)\n",
        "plt.plot(source_train_history.history['accuracy'])\n",
        "plt.title('model training accuracy on source domain')\n",
        "plt.ylabel('accuracy')\n",
        "plt.xlabel('epoch')\n",
        "plt.subplot(1,2,2)\n",
        "plt.plot(source_train_history.history['loss'])\n",
        "plt.title('model training loss on source domain')\n",
        "plt.ylabel('loss')\n",
        "plt.xlabel('epoch')\n",
        "plt.show()"
      ],
      "execution_count": null,
      "outputs": [
        {
          "output_type": "display_data",
          "data": {
            "image/png": "[encoded data removed]",
            "text/plain": [
              "<Figure size 1440x720 with 2 Axes>"
            ]
          },
          "metadata": {
            "tags": [],
            "needs_background": "light"
          }
        }
      ]
    },
    {
      "cell_type": "code",
      "metadata": {
        "id": "-_KugTayn6es",
        "colab": {
          "base_uri": "https://localhost:8080/",
          "height": 52
        },
        "outputId": "d034e2d5-2f28-4fd7-d40f-a778003d8528"
      },
      "source": [
        "SourceModel.evaluate(source_test_images, source_test_labels, batch_size = 512,verbose = 2 )"
      ],
      "execution_count": null,
      "outputs": [
        {
          "output_type": "stream",
          "text": [
            "14/14 - 0s - loss: 27.5141 - accuracy: 0.9011\n"
          ],
          "name": "stdout"
        },
        {
          "output_type": "execute_result",
          "data": {
            "text/plain": [
              "[27.514055252075195, 0.9011303186416626]"
            ]
          },
          "metadata": {
            "tags": []
          },
          "execution_count": 15
        }
      ]
    },
    {
      "cell_type": "markdown",
      "metadata": {
        "id": "B_ZZ4yynXZFf"
      },
      "source": [
        "##### Removing he classifier layer of 7 neurons at replacing it with a classifier layer of 3 neurons"
      ]
    },
    {
      "cell_type": "code",
      "metadata": {
        "id": "uKGBZCeRykSz",
        "colab": {
          "base_uri": "https://localhost:8080/",
          "height": 34
        },
        "outputId": "53ee78be-28a0-429d-f8c2-7182735bcbfd"
      },
      "source": [
        "SourceModel._layers.pop()"
      ],
      "execution_count": null,
      "outputs": [
        {
          "output_type": "execute_result",
          "data": {
            "text/plain": [
              "<tensorflow.python.keras.layers.core.Dense at 0x7f3420a138d0>"
            ]
          },
          "metadata": {
            "tags": []
          },
          "execution_count": 16
        }
      ]
    },
    {
      "cell_type": "code",
      "metadata": {
        "id": "TrxdgCVprZA8"
      },
      "source": [
        "#base_SourceModel = Model(SourceModel.input, SourceModel.get_layer(index=12).output)\n",
        "#classifier_target = Dense(3, activation='softmax')(base_SourceModel.output)\n",
        "TargetModel = tf.keras.Sequential([\n",
        "\t            SourceModel,\n",
        "\t            tf.keras.layers.Dense(units=3, activation=\"softmax\", name=\"classifier_target\")\n",
        "              ])"
      ],
      "execution_count": null,
      "outputs": []
    },
    {
      "cell_type": "code",
      "metadata": {
        "id": "LQdjtlPIsQV7"
      },
      "source": [
        "TargetModel.compile(loss='sparse_categorical_crossentropy', optimizer=keras.optimizers.Adam(),metrics=['accuracy'])"
      ],
      "execution_count": null,
      "outputs": []
    },
    {
      "cell_type": "code",
      "metadata": {
        "id": "theuJdo4sxZT",
        "colab": {
          "base_uri": "https://localhost:8080/",
          "height": 727
        },
        "outputId": "74e1442d-12f4-4b71-e5c7-b6fef04d05ea"
      },
      "source": [
        "target_train_history = TargetModel.fit(target_train_images, target_train_labels,\n",
        "                epochs=20,\n",
        "                batch_size=1024,\n",
        "                shuffle=True, verbose=1)"
      ],
      "execution_count": null,
      "outputs": [
        {
          "output_type": "stream",
          "text": [
            "Epoch 1/20\n",
            "18/18 [==============================] - 0s 15ms/step - loss: 0.9839 - accuracy: 0.5291\n",
            "Epoch 2/20\n",
            "18/18 [==============================] - 0s 10ms/step - loss: 0.8608 - accuracy: 0.6133\n",
            "Epoch 3/20\n",
            "18/18 [==============================] - 0s 10ms/step - loss: 0.8148 - accuracy: 0.6302\n",
            "Epoch 4/20\n",
            "18/18 [==============================] - 0s 10ms/step - loss: 0.7851 - accuracy: 0.6390\n",
            "Epoch 5/20\n",
            "18/18 [==============================] - 0s 11ms/step - loss: 0.7570 - accuracy: 0.6440\n",
            "Epoch 6/20\n",
            "18/18 [==============================] - 0s 10ms/step - loss: 0.7300 - accuracy: 0.6506\n",
            "Epoch 7/20\n",
            "18/18 [==============================] - 0s 10ms/step - loss: 0.7058 - accuracy: 0.6531\n",
            "Epoch 8/20\n",
            "18/18 [==============================] - 0s 10ms/step - loss: 0.6823 - accuracy: 0.7744\n",
            "Epoch 9/20\n",
            "18/18 [==============================] - 0s 10ms/step - loss: 0.6591 - accuracy: 0.9405\n",
            "Epoch 10/20\n",
            "18/18 [==============================] - 0s 10ms/step - loss: 0.6402 - accuracy: 0.9469\n",
            "Epoch 11/20\n",
            "18/18 [==============================] - 0s 10ms/step - loss: 0.6189 - accuracy: 0.9529\n",
            "Epoch 12/20\n",
            "18/18 [==============================] - 0s 10ms/step - loss: 0.5989 - accuracy: 0.9588\n",
            "Epoch 13/20\n",
            "18/18 [==============================] - 0s 11ms/step - loss: 0.5842 - accuracy: 0.9581\n",
            "Epoch 14/20\n",
            "18/18 [==============================] - 0s 10ms/step - loss: 0.5676 - accuracy: 0.9612\n",
            "Epoch 15/20\n",
            "18/18 [==============================] - 0s 10ms/step - loss: 0.5506 - accuracy: 0.9648\n",
            "Epoch 16/20\n",
            "18/18 [==============================] - 0s 10ms/step - loss: 0.5334 - accuracy: 0.9687\n",
            "Epoch 17/20\n",
            "18/18 [==============================] - 0s 10ms/step - loss: 0.5205 - accuracy: 0.9686\n",
            "Epoch 18/20\n",
            "18/18 [==============================] - 0s 10ms/step - loss: 0.5077 - accuracy: 0.9691\n",
            "Epoch 19/20\n",
            "18/18 [==============================] - 0s 10ms/step - loss: 0.4921 - accuracy: 0.9722\n",
            "Epoch 20/20\n",
            "18/18 [==============================] - 0s 10ms/step - loss: 0.4788 - accuracy: 0.9731\n"
          ],
          "name": "stdout"
        }
      ]
    },
    {
      "cell_type": "code",
      "metadata": {
        "id": "Wb4HhfwBKCzl",
        "colab": {
          "base_uri": "https://localhost:8080/",
          "height": 621
        },
        "outputId": "1174690e-c3ae-4601-ab25-6db306fc66fe"
      },
      "source": [
        "plt.figure(figsize=(20,10))\n",
        "plt.subplot(1,2,1)\n",
        "plt.plot(target_train_history.history['accuracy'])\n",
        "plt.title('model training accuracy on source domain')\n",
        "plt.ylabel('accuracy')\n",
        "plt.xlabel('epoch')\n",
        "plt.subplot(1,2,2)\n",
        "plt.plot(target_train_history.history['loss'])\n",
        "plt.title('model training loss on source domain')\n",
        "plt.ylabel('loss')\n",
        "plt.xlabel('epoch')\n",
        "plt.show()"
      ],
      "execution_count": null,
      "outputs": [
        {
          "output_type": "display_data",
          "data": {
            "image/png": "[encoded data removed]",
            "text/plain": [
              "<Figure size 1440x720 with 2 Axes>"
            ]
          },
          "metadata": {
            "tags": [],
            "needs_background": "light"
          }
        }
      ]
    },
    {
      "cell_type": "code",
      "metadata": {
        "id": "zQCH5lhus37a",
        "colab": {
          "base_uri": "https://localhost:8080/",
          "height": 52
        },
        "outputId": "6b03c2d4-e7e9-409b-ef2e-f8f81170828a"
      },
      "source": [
        "TargetModel.evaluate(target_test_images, target_test_labels, batch_size = 512,verbose = 2 )"
      ],
      "execution_count": null,
      "outputs": [
        {
          "output_type": "stream",
          "text": [
            "6/6 - 0s - loss: 0.5199 - accuracy: 0.9382\n"
          ],
          "name": "stdout"
        },
        {
          "output_type": "execute_result",
          "data": {
            "text/plain": [
              "[0.519915759563446, 0.9382265210151672]"
            ]
          },
          "metadata": {
            "tags": []
          },
          "execution_count": 21
        }
      ]
    },
    {
      "cell_type": "code",
      "metadata": {
        "id": "sLZj-_kqtJDK",
        "colab": {
          "base_uri": "https://localhost:8080/",
          "height": 727
        },
        "outputId": "29cea3bc-2c95-4267-819c-e5d1be0af286"
      },
      "source": [
        "indv_model =  MyModel(3)\n",
        "indv_model.compile(loss='sparse_categorical_crossentropy', optimizer=keras.optimizers.Adam(),metrics=['accuracy'])\n",
        "\n",
        "individual_train_history = indv_model.fit(target_train_images, target_train_labels,\n",
        "                epochs=20,\n",
        "                batch_size=1024,\n",
        "                shuffle=True, verbose=1)"
      ],
      "execution_count": null,
      "outputs": [
        {
          "output_type": "stream",
          "text": [
            "Epoch 1/20\n",
            "18/18 [==============================] - 0s 11ms/step - loss: 1.0980 - accuracy: 0.3532\n",
            "Epoch 2/20\n",
            "18/18 [==============================] - 0s 10ms/step - loss: 1.0910 - accuracy: 0.3835\n",
            "Epoch 3/20\n",
            "18/18 [==============================] - 0s 10ms/step - loss: 1.0004 - accuracy: 0.6936\n",
            "Epoch 4/20\n",
            "18/18 [==============================] - 0s 10ms/step - loss: 0.6793 - accuracy: 0.7530\n",
            "Epoch 5/20\n",
            "18/18 [==============================] - 0s 10ms/step - loss: 0.5166 - accuracy: 0.7935\n",
            "Epoch 6/20\n",
            "18/18 [==============================] - 0s 10ms/step - loss: 0.4342 - accuracy: 0.8269\n",
            "Epoch 7/20\n",
            "18/18 [==============================] - 0s 10ms/step - loss: 0.3633 - accuracy: 0.8585\n",
            "Epoch 8/20\n",
            "18/18 [==============================] - 0s 10ms/step - loss: 0.3054 - accuracy: 0.8848\n",
            "Epoch 9/20\n",
            "18/18 [==============================] - 0s 10ms/step - loss: 0.2585 - accuracy: 0.9037\n",
            "Epoch 10/20\n",
            "18/18 [==============================] - 0s 10ms/step - loss: 0.2277 - accuracy: 0.9175\n",
            "Epoch 11/20\n",
            "18/18 [==============================] - 0s 10ms/step - loss: 0.2065 - accuracy: 0.9259\n",
            "Epoch 12/20\n",
            "18/18 [==============================] - 0s 10ms/step - loss: 0.1912 - accuracy: 0.9315\n",
            "Epoch 13/20\n",
            "18/18 [==============================] - 0s 10ms/step - loss: 0.1834 - accuracy: 0.9341\n",
            "Epoch 14/20\n",
            "18/18 [==============================] - 0s 10ms/step - loss: 0.1682 - accuracy: 0.9404\n",
            "Epoch 15/20\n",
            "18/18 [==============================] - 0s 10ms/step - loss: 0.1619 - accuracy: 0.9420\n",
            "Epoch 16/20\n",
            "18/18 [==============================] - 0s 10ms/step - loss: 0.1556 - accuracy: 0.9437\n",
            "Epoch 17/20\n",
            "18/18 [==============================] - 0s 10ms/step - loss: 0.1517 - accuracy: 0.9459\n",
            "Epoch 18/20\n",
            "18/18 [==============================] - 0s 10ms/step - loss: 0.1446 - accuracy: 0.9481\n",
            "Epoch 19/20\n",
            "18/18 [==============================] - 0s 10ms/step - loss: 0.1389 - accuracy: 0.9506\n",
            "Epoch 20/20\n",
            "18/18 [==============================] - 0s 10ms/step - loss: 0.1340 - accuracy: 0.9522\n"
          ],
          "name": "stdout"
        }
      ]
    },
    {
      "cell_type": "code",
      "metadata": {
        "id": "QYRMUj4cKS1j",
        "colab": {
          "base_uri": "https://localhost:8080/",
          "height": 621
        },
        "outputId": "234f0a12-db9c-4570-9ddd-d24f5f33f20f"
      },
      "source": [
        "plt.figure(figsize=(20,10))\n",
        "plt.subplot(1,2,1)\n",
        "plt.plot(individual_train_history.history['accuracy'])\n",
        "plt.title('model training accuracy on source domain')\n",
        "plt.ylabel('accuracy')\n",
        "plt.xlabel('epoch')\n",
        "plt.subplot(1,2,2)\n",
        "plt.plot(individual_train_history.history['loss'])\n",
        "plt.title('model training loss on source domain')\n",
        "plt.ylabel('loss')\n",
        "plt.xlabel('epoch')\n",
        "plt.show()"
      ],
      "execution_count": null,
      "outputs": [
        {
          "output_type": "display_data",
          "data": {
            "image/png": "[encoded data removed]",
            "text/plain": [
              "<Figure size 1440x720 with 2 Axes>"
            ]
          },
          "metadata": {
            "tags": [],
            "needs_background": "light"
          }
        }
      ]
    },
    {
      "cell_type": "code",
      "metadata": {
        "id": "EIRkIyPw10vR",
        "colab": {
          "base_uri": "https://localhost:8080/",
          "height": 52
        },
        "outputId": "d1a44c1d-0fef-4c9a-f44a-a3006dea3268"
      },
      "source": [
        "indv_model.evaluate(target_test_images, target_test_labels, batch_size = 512,verbose = 2 )"
      ],
      "execution_count": null,
      "outputs": [
        {
          "output_type": "stream",
          "text": [
            "6/6 - 0s - loss: 40.5141 - accuracy: 0.8552\n"
          ],
          "name": "stdout"
        },
        {
          "output_type": "execute_result",
          "data": {
            "text/plain": [
              "[40.51411056518555, 0.8551976084709167]"
            ]
          },
          "metadata": {
            "tags": []
          },
          "execution_count": 24
        }
      ]
    },
    {
      "cell_type": "markdown",
      "metadata": {
        "id": "5jBDZYCIX2qQ"
      },
      "source": [
        "### Analysis and conclusion:\n",
        "\n",
        "> As part of the experiment the model is first trained with source domain data set and then we only change the classifier layer and retrain the same with target domain data set.\n",
        "\n",
        "> After this transfer learning training here here are few observations.\n",
        "\n",
        "> 1. **Test Accuracy** :The model with `transfer learning is able to achieve a test accuracy of 93.8%` after the training, whereas a separate model with same architecture when entirely trainined from scratch only with target domain data, is `only able to achive around ~85.5% test accuracy` after the training, \n",
        "> 2. **Overfitting** : The final training accuracy of the scratch trained model is ~95.2%. i.e. the model is showing a `generalization error of *10%`. Whereas the model with transfer learning the highest traning accuracy is ~97.3%. That means the `generalization error is only ~3.5%`.\n",
        "> 3. **Convergence** : With transfer learning the model crosses 94% training accuracy mark at `9th epoch` and then converges showing a slight increase in accuracy and the mark is distinct in the training graph. Whereas the model that scratch trained with target domain data, crosses the 94% mark at `14th epoch` and then converges.\n",
        "\n",
        "> So **with transfer learning** technique we can get a **highly accurate**, **more general**, **less overfitted** model in comparison with traning without transfer learning. In addition models with transfer learning **converges fast** in less number of steps."
      ]
    },
    {
      "cell_type": "markdown",
      "metadata": {
        "id": "X3PvippuLt8W"
      },
      "source": [
        "-----"
      ]
    },
    {
      "cell_type": "markdown",
      "metadata": {
        "id": "X1V-OQqOTbP0"
      },
      "source": [
        "### 3.2 different distribution\n",
        "> Now we will work with MNIST as source domain and FMNIST as target domain. (This is convenient, as they already have the same input shape.)\n",
        "Similar to 3.1, first train a model on the MNIST and use the pre-trained model as initialization for a model trained on FMNIST.\n",
        "Compare this transfer learned model with a model trained on FMNIST from scratch using the measures from 3.1.\n",
        "\n",
        "Repeat the experiment with FMNIST as source and MNIST as target!\n",
        "\n",
        "Does transfer learning work better or worse this time?"
      ]
    },
    {
      "cell_type": "markdown",
      "metadata": {
        "id": "0qkbVM3acPxf"
      },
      "source": [
        "### Task explanation:\n",
        "\n",
        "> In this setting we will take the experiment with transfer learning a liitle bit further to test with data with different distribution. We will train a model in MNIST data set and then we will re-train the model with Fashion MNIST data. The we will compare its performace with a model that is only trained with FMNIST data. We will analyze the result. \n",
        "\n",
        "> In next step we will do this experiment in reverse order to see if the conclusion still holds."
      ]
    },
    {
      "cell_type": "code",
      "metadata": {
        "id": "h9uEk15tLxXU",
        "colab": {
          "base_uri": "https://localhost:8080/",
          "height": 372
        },
        "outputId": "a0733c8f-6b98-4f63-f9f2-150077337982"
      },
      "source": [
        "mnist_model =  MyModel(10)\n",
        "mnist_model.compile(loss='sparse_categorical_crossentropy', optimizer=keras.optimizers.Adam(),metrics=['accuracy'])\n",
        "\n",
        "mnist_train_history = mnist_model.fit(train_images, train_labels,\n",
        "                epochs=10,\n",
        "                batch_size=1024,\n",
        "                shuffle=True, verbose=1)"
      ],
      "execution_count": null,
      "outputs": [
        {
          "output_type": "stream",
          "text": [
            "Epoch 1/10\n",
            "59/59 [==============================] - 1s 12ms/step - loss: 0.7672 - accuracy: 0.7965\n",
            "Epoch 2/10\n",
            "59/59 [==============================] - 1s 11ms/step - loss: 0.1936 - accuracy: 0.9428\n",
            "Epoch 3/10\n",
            "59/59 [==============================] - 1s 11ms/step - loss: 0.1254 - accuracy: 0.9623\n",
            "Epoch 4/10\n",
            "59/59 [==============================] - 1s 10ms/step - loss: 0.0910 - accuracy: 0.9727\n",
            "Epoch 5/10\n",
            "59/59 [==============================] - 1s 10ms/step - loss: 0.0741 - accuracy: 0.9776\n",
            "Epoch 6/10\n",
            "59/59 [==============================] - 1s 10ms/step - loss: 0.0618 - accuracy: 0.9811\n",
            "Epoch 7/10\n",
            "59/59 [==============================] - 1s 10ms/step - loss: 0.0576 - accuracy: 0.9826\n",
            "Epoch 8/10\n",
            "59/59 [==============================] - 1s 10ms/step - loss: 0.0495 - accuracy: 0.9843\n",
            "Epoch 9/10\n",
            "59/59 [==============================] - 1s 10ms/step - loss: 0.0441 - accuracy: 0.9867\n",
            "Epoch 10/10\n",
            "59/59 [==============================] - 1s 10ms/step - loss: 0.0410 - accuracy: 0.9871\n"
          ],
          "name": "stdout"
        }
      ]
    },
    {
      "cell_type": "code",
      "metadata": {
        "id": "0ifdFEscMBOd",
        "colab": {
          "base_uri": "https://localhost:8080/",
          "height": 621
        },
        "outputId": "d76c30d1-20de-4be3-d657-8c8f040df683"
      },
      "source": [
        "plt.figure(figsize=(20,10))\n",
        "plt.subplot(1,2,1)\n",
        "plt.plot(mnist_train_history.history['accuracy'])\n",
        "plt.title('model training accuracy on mnist')\n",
        "plt.ylabel('accuracy')\n",
        "plt.xlabel('epoch')\n",
        "plt.subplot(1,2,2)\n",
        "plt.plot(mnist_train_history.history['loss'])\n",
        "plt.title('model training loss on mnist')\n",
        "plt.ylabel('loss')\n",
        "plt.xlabel('epoch')\n",
        "plt.show()"
      ],
      "execution_count": null,
      "outputs": [
        {
          "output_type": "display_data",
          "data": {
            "image/png": "[encoded data removed]",
            "text/plain": [
              "<Figure size 1440x720 with 2 Axes>"
            ]
          },
          "metadata": {
            "tags": [],
            "needs_background": "light"
          }
        }
      ]
    },
    {
      "cell_type": "code",
      "metadata": {
        "id": "PuIH3kzUL5kL",
        "colab": {
          "base_uri": "https://localhost:8080/",
          "height": 52
        },
        "outputId": "de0f6c91-ebe8-40c2-ee88-fde2b88a6291"
      },
      "source": [
        "mnist_model.evaluate(test_images, test_labels, batch_size = 1024,verbose = 2 )"
      ],
      "execution_count": null,
      "outputs": [
        {
          "output_type": "stream",
          "text": [
            "10/10 - 0s - loss: 0.0412 - accuracy: 0.9862\n"
          ],
          "name": "stdout"
        },
        {
          "output_type": "execute_result",
          "data": {
            "text/plain": [
              "[0.041225556284189224, 0.9861999750137329]"
            ]
          },
          "metadata": {
            "tags": []
          },
          "execution_count": 27
        }
      ]
    },
    {
      "cell_type": "code",
      "metadata": {
        "id": "RD01ZIROMuK3"
      },
      "source": [
        "mnistf_dataset = keras.datasets.fashion_mnist\n",
        "(x_train, y_train), (x_test, y_test) = mnistf_dataset.load_data()"
      ],
      "execution_count": null,
      "outputs": []
    },
    {
      "cell_type": "code",
      "metadata": {
        "id": "r_lbCoAeNGZ9"
      },
      "source": [
        "x_train = x_train.reshape([-1, 28, 28, 1]).astype(np.float32) / 255\n",
        "x_test = x_test.reshape([-1, 28,28, 1]).astype(np.float32) / 255\n",
        "y_train = y_train.astype(np.int32)\n",
        "y_test = y_test.astype(np.int32)"
      ],
      "execution_count": null,
      "outputs": []
    },
    {
      "cell_type": "code",
      "metadata": {
        "id": "hS8UKjvONVE1",
        "colab": {
          "base_uri": "https://localhost:8080/",
          "height": 87
        },
        "outputId": "8a5ec7b9-bfb4-479b-d422-2f2fc60d5244"
      },
      "source": [
        "# Printing the shape for trainining and testing dataset\n",
        "print(\"Training images data shape is : {}\".format(x_train.shape))\n",
        "print(\"Training labels data shape is : {}\".format(y_train.shape))\n",
        "print(\"Test images data shape is : {}\".format(x_test.shape))\n",
        "print(\"Test images data shape is : {}\".format(y_test.shape))"
      ],
      "execution_count": null,
      "outputs": [
        {
          "output_type": "stream",
          "text": [
            "Training images data shape is : (60000, 28, 28, 1)\n",
            "Training labels data shape is : (60000,)\n",
            "Test images data shape is : (10000, 28, 28, 1)\n",
            "Test images data shape is : (10000,)\n"
          ],
          "name": "stdout"
        }
      ]
    },
    {
      "cell_type": "code",
      "metadata": {
        "id": "BhXrfny3Ntob"
      },
      "source": [
        "transfer_Model = tf.keras.Sequential([\n",
        "\t            mnist_model\n",
        "              ])"
      ],
      "execution_count": null,
      "outputs": []
    },
    {
      "cell_type": "code",
      "metadata": {
        "id": "9k7-MWpQN5E1",
        "colab": {
          "base_uri": "https://localhost:8080/",
          "height": 727
        },
        "outputId": "e6a8b562-fc61-4f81-97c2-329c2264ab5a"
      },
      "source": [
        "transfer_Model.compile(loss='sparse_categorical_crossentropy', optimizer=keras.optimizers.Adam(),metrics=['accuracy'])\n",
        "\n",
        "trans_train_history = transfer_Model.fit(x_train, y_train,\n",
        "                epochs=20,\n",
        "                batch_size=1024,\n",
        "                shuffle=True, verbose=1)"
      ],
      "execution_count": null,
      "outputs": [
        {
          "output_type": "stream",
          "text": [
            "Epoch 1/20\n",
            "59/59 [==============================] - 1s 10ms/step - loss: 1.0550 - accuracy: 0.6460\n",
            "Epoch 2/20\n",
            "59/59 [==============================] - 1s 10ms/step - loss: 0.5428 - accuracy: 0.8019\n",
            "Epoch 3/20\n",
            "59/59 [==============================] - 1s 10ms/step - loss: 0.4695 - accuracy: 0.8284\n",
            "Epoch 4/20\n",
            "59/59 [==============================] - 1s 10ms/step - loss: 0.4216 - accuracy: 0.8486\n",
            "Epoch 5/20\n",
            "59/59 [==============================] - 1s 10ms/step - loss: 0.3894 - accuracy: 0.8591\n",
            "Epoch 6/20\n",
            "59/59 [==============================] - 1s 10ms/step - loss: 0.3661 - accuracy: 0.8678\n",
            "Epoch 7/20\n",
            "59/59 [==============================] - 1s 10ms/step - loss: 0.3567 - accuracy: 0.8689\n",
            "Epoch 8/20\n",
            "59/59 [==============================] - 1s 10ms/step - loss: 0.3289 - accuracy: 0.8804\n",
            "Epoch 9/20\n",
            "59/59 [==============================] - 1s 10ms/step - loss: 0.3152 - accuracy: 0.8852\n",
            "Epoch 10/20\n",
            "59/59 [==============================] - 1s 10ms/step - loss: 0.3117 - accuracy: 0.8867\n",
            "Epoch 11/20\n",
            "59/59 [==============================] - 1s 10ms/step - loss: 0.2978 - accuracy: 0.8919\n",
            "Epoch 12/20\n",
            "59/59 [==============================] - 1s 10ms/step - loss: 0.2846 - accuracy: 0.8963\n",
            "Epoch 13/20\n",
            "59/59 [==============================] - 1s 10ms/step - loss: 0.2779 - accuracy: 0.8974\n",
            "Epoch 14/20\n",
            "59/59 [==============================] - 1s 10ms/step - loss: 0.2653 - accuracy: 0.9038\n",
            "Epoch 15/20\n",
            "59/59 [==============================] - 1s 11ms/step - loss: 0.2572 - accuracy: 0.9064\n",
            "Epoch 16/20\n",
            "59/59 [==============================] - 1s 10ms/step - loss: 0.2513 - accuracy: 0.9081\n",
            "Epoch 17/20\n",
            "59/59 [==============================] - 1s 10ms/step - loss: 0.2456 - accuracy: 0.9108\n",
            "Epoch 18/20\n",
            "59/59 [==============================] - 1s 10ms/step - loss: 0.2371 - accuracy: 0.9128\n",
            "Epoch 19/20\n",
            "59/59 [==============================] - 1s 10ms/step - loss: 0.2330 - accuracy: 0.9144\n",
            "Epoch 20/20\n",
            "59/59 [==============================] - 1s 10ms/step - loss: 0.2250 - accuracy: 0.9174\n"
          ],
          "name": "stdout"
        }
      ]
    },
    {
      "cell_type": "code",
      "metadata": {
        "id": "gy4R-JzPOFrr",
        "colab": {
          "base_uri": "https://localhost:8080/",
          "height": 621
        },
        "outputId": "c61750fa-daca-4eec-9f57-630aed4fb110"
      },
      "source": [
        "plt.figure(figsize=(20,10))\n",
        "plt.subplot(1,2,1)\n",
        "plt.plot(trans_train_history.history['accuracy'])\n",
        "plt.title('model training accuracy on mnist')\n",
        "plt.ylabel('accuracy')\n",
        "plt.xlabel('epoch')\n",
        "plt.subplot(1,2,2)\n",
        "plt.plot(trans_train_history.history['loss'])\n",
        "plt.title('model training loss on mnist')\n",
        "plt.ylabel('loss')\n",
        "plt.xlabel('epoch')\n",
        "plt.show()"
      ],
      "execution_count": null,
      "outputs": [
        {
          "output_type": "display_data",
          "data": {
            "image/png": "[encoded data removed]",
            "text/plain": [
              "<Figure size 1440x720 with 2 Axes>"
            ]
          },
          "metadata": {
            "tags": [],
            "needs_background": "light"
          }
        }
      ]
    },
    {
      "cell_type": "code",
      "metadata": {
        "id": "MeHPulwQOJdN",
        "colab": {
          "base_uri": "https://localhost:8080/",
          "height": 52
        },
        "outputId": "95d6cf4e-c20f-45d4-c5ef-fc0b782488fa"
      },
      "source": [
        "transfer_Model.evaluate(x_test, y_test, batch_size = 1024,verbose = 2 )"
      ],
      "execution_count": null,
      "outputs": [
        {
          "output_type": "stream",
          "text": [
            "10/10 - 0s - loss: 0.2903 - accuracy: 0.8967\n"
          ],
          "name": "stdout"
        },
        {
          "output_type": "execute_result",
          "data": {
            "text/plain": [
              "[0.2902824282646179, 0.8967000246047974]"
            ]
          },
          "metadata": {
            "tags": []
          },
          "execution_count": 34
        }
      ]
    },
    {
      "cell_type": "markdown",
      "metadata": {
        "id": "jp-S6pL8dW1w"
      },
      "source": [
        "> After retraning the model on fashion Mnist data set the model achieves a **traning accuracy of ~91.7% and the testing accuracy is ~89.7%**. This produces a very low **generalization gap of 2%**. If we consider this as the measure of overfitting, then the model is well generalised for the unseen data as the test accuracy closely tracks the trainng accuracy. Also the model takes **11 epochs** to reach a level of 89% accuracy and then converges"
      ]
    },
    {
      "cell_type": "code",
      "metadata": {
        "id": "i5GFryUBOYAj",
        "colab": {
          "base_uri": "https://localhost:8080/",
          "height": 727
        },
        "outputId": "c760cd9e-d3bd-4e37-9a79-0dfe1209531a"
      },
      "source": [
        "fashion_mnist_model =  MyModel(10)\n",
        "fashion_mnist_model.compile(loss='sparse_categorical_crossentropy', optimizer=keras.optimizers.Adam(),metrics=['accuracy'])\n",
        "\n",
        "fashion_mnist_train_history = fashion_mnist_model.fit(x_train,y_train,\n",
        "                epochs=20,\n",
        "                batch_size=1024,\n",
        "                shuffle=True, verbose=1)"
      ],
      "execution_count": null,
      "outputs": [
        {
          "output_type": "stream",
          "text": [
            "Epoch 1/20\n",
            "59/59 [==============================] - 1s 11ms/step - loss: 1.0374 - accuracy: 0.6317\n",
            "Epoch 2/20\n",
            "59/59 [==============================] - 1s 11ms/step - loss: 0.6065 - accuracy: 0.7652\n",
            "Epoch 3/20\n",
            "59/59 [==============================] - 1s 11ms/step - loss: 0.5251 - accuracy: 0.7997\n",
            "Epoch 4/20\n",
            "59/59 [==============================] - 1s 11ms/step - loss: 0.4679 - accuracy: 0.8282\n",
            "Epoch 5/20\n",
            "59/59 [==============================] - 1s 10ms/step - loss: 0.4301 - accuracy: 0.8438\n",
            "Epoch 6/20\n",
            "59/59 [==============================] - 1s 10ms/step - loss: 0.4044 - accuracy: 0.8550\n",
            "Epoch 7/20\n",
            "59/59 [==============================] - 1s 10ms/step - loss: 0.3826 - accuracy: 0.8611\n",
            "Epoch 8/20\n",
            "59/59 [==============================] - 1s 10ms/step - loss: 0.3637 - accuracy: 0.8685\n",
            "Epoch 9/20\n",
            "59/59 [==============================] - 1s 11ms/step - loss: 0.3505 - accuracy: 0.8730\n",
            "Epoch 10/20\n",
            "59/59 [==============================] - 1s 10ms/step - loss: 0.3417 - accuracy: 0.8767\n",
            "Epoch 11/20\n",
            "59/59 [==============================] - 1s 10ms/step - loss: 0.3290 - accuracy: 0.8813\n",
            "Epoch 12/20\n",
            "59/59 [==============================] - 1s 10ms/step - loss: 0.3190 - accuracy: 0.8843\n",
            "Epoch 13/20\n",
            "59/59 [==============================] - 1s 10ms/step - loss: 0.3132 - accuracy: 0.8871\n",
            "Epoch 14/20\n",
            "59/59 [==============================] - 1s 11ms/step - loss: 0.3025 - accuracy: 0.8912\n",
            "Epoch 15/20\n",
            "59/59 [==============================] - 1s 10ms/step - loss: 0.2953 - accuracy: 0.8939\n",
            "Epoch 16/20\n",
            "59/59 [==============================] - 1s 10ms/step - loss: 0.2908 - accuracy: 0.8946\n",
            "Epoch 17/20\n",
            "59/59 [==============================] - 1s 11ms/step - loss: 0.2774 - accuracy: 0.8997\n",
            "Epoch 18/20\n",
            "59/59 [==============================] - 1s 10ms/step - loss: 0.2732 - accuracy: 0.9012\n",
            "Epoch 19/20\n",
            "59/59 [==============================] - 1s 11ms/step - loss: 0.2654 - accuracy: 0.9038\n",
            "Epoch 20/20\n",
            "59/59 [==============================] - 1s 11ms/step - loss: 0.2601 - accuracy: 0.9046\n"
          ],
          "name": "stdout"
        }
      ]
    },
    {
      "cell_type": "code",
      "metadata": {
        "id": "hWdDwqtcOmVF",
        "colab": {
          "base_uri": "https://localhost:8080/",
          "height": 621
        },
        "outputId": "a856dd63-48cc-4c91-a714-20c0403a38f4"
      },
      "source": [
        "plt.figure(figsize=(20,10))\n",
        "plt.subplot(1,2,1)\n",
        "plt.plot(fashion_mnist_train_history.history['accuracy'])\n",
        "plt.title('model training accuracy on mnist')\n",
        "plt.ylabel('accuracy')\n",
        "plt.xlabel('epoch')\n",
        "plt.subplot(1,2,2)\n",
        "plt.plot(fashion_mnist_train_history.history['loss'])\n",
        "plt.title('model training loss on mnist')\n",
        "plt.ylabel('loss')\n",
        "plt.xlabel('epoch')\n",
        "plt.show()"
      ],
      "execution_count": null,
      "outputs": [
        {
          "output_type": "display_data",
          "data": {
            "image/png": "[encoded data removed]",
            "text/plain": [
              "<Figure size 1440x720 with 2 Axes>"
            ]
          },
          "metadata": {
            "tags": [],
            "needs_background": "light"
          }
        }
      ]
    },
    {
      "cell_type": "code",
      "metadata": {
        "id": "JzPa5EgZOrgc",
        "colab": {
          "base_uri": "https://localhost:8080/",
          "height": 52
        },
        "outputId": "0170afd3-2089-4119-e526-6b9c8a74dee8"
      },
      "source": [
        "fashion_mnist_model.evaluate(x_test, y_test, batch_size = 1024,verbose = 2 )"
      ],
      "execution_count": null,
      "outputs": [
        {
          "output_type": "stream",
          "text": [
            "10/10 - 0s - loss: 0.3088 - accuracy: 0.8875\n"
          ],
          "name": "stdout"
        },
        {
          "output_type": "execute_result",
          "data": {
            "text/plain": [
              "[0.3087849020957947, 0.887499988079071]"
            ]
          },
          "metadata": {
            "tags": []
          },
          "execution_count": 37
        }
      ]
    },
    {
      "cell_type": "markdown",
      "metadata": {
        "id": "FECegYBeeoCW"
      },
      "source": [
        "> The model trained only wth fashion mnist data is able to achive **test accuracy of ~88.7%**, which is less compared to previous case. Although in terms of overfitting both the models perform similarly but this model takes **14 epoch** to reach 89% training accuracy. So this model converges slow.  "
      ]
    },
    {
      "cell_type": "markdown",
      "metadata": {
        "id": "uqBWyfSHPpSs"
      },
      "source": [
        "\n",
        "\n",
        "---\n",
        "\n"
      ]
    },
    {
      "cell_type": "markdown",
      "metadata": {
        "id": "d_pNfX99fMBe"
      },
      "source": [
        "#### Will this behavior be same if we do it in reverse way?"
      ]
    },
    {
      "cell_type": "code",
      "metadata": {
        "id": "oUM8OubuPqj7",
        "colab": {
          "base_uri": "https://localhost:8080/",
          "height": 372
        },
        "outputId": "27a47948-5596-4cb3-a383-5dcd27c5a16b"
      },
      "source": [
        "fashion_model =  MyModel(10)\n",
        "fashion_model.compile(loss='sparse_categorical_crossentropy', optimizer=keras.optimizers.Adam(),metrics=['accuracy'])\n",
        "\n",
        "fashion_train_history = fashion_model.fit(x_train,y_train,\n",
        "                epochs=10,\n",
        "                batch_size=1024,\n",
        "                shuffle=True, verbose=1)"
      ],
      "execution_count": null,
      "outputs": [
        {
          "output_type": "stream",
          "text": [
            "Epoch 1/10\n",
            "59/59 [==============================] - 1s 10ms/step - loss: 1.1612 - accuracy: 0.5866\n",
            "Epoch 2/10\n",
            "59/59 [==============================] - 1s 10ms/step - loss: 0.6204 - accuracy: 0.7592\n",
            "Epoch 3/10\n",
            "59/59 [==============================] - 1s 11ms/step - loss: 0.5290 - accuracy: 0.7972\n",
            "Epoch 4/10\n",
            "59/59 [==============================] - 1s 11ms/step - loss: 0.4612 - accuracy: 0.8289\n",
            "Epoch 5/10\n",
            "59/59 [==============================] - 1s 11ms/step - loss: 0.4228 - accuracy: 0.8446\n",
            "Epoch 6/10\n",
            "59/59 [==============================] - 1s 10ms/step - loss: 0.3930 - accuracy: 0.8573\n",
            "Epoch 7/10\n",
            "59/59 [==============================] - 1s 10ms/step - loss: 0.3719 - accuracy: 0.8665\n",
            "Epoch 8/10\n",
            "59/59 [==============================] - 1s 11ms/step - loss: 0.3521 - accuracy: 0.8735\n",
            "Epoch 9/10\n",
            "59/59 [==============================] - 1s 10ms/step - loss: 0.3385 - accuracy: 0.8778\n",
            "Epoch 10/10\n",
            "59/59 [==============================] - 1s 10ms/step - loss: 0.3327 - accuracy: 0.8803\n"
          ],
          "name": "stdout"
        }
      ]
    },
    {
      "cell_type": "code",
      "metadata": {
        "id": "Y8vpp7dAP6c1",
        "colab": {
          "base_uri": "https://localhost:8080/",
          "height": 621
        },
        "outputId": "08d01672-fa75-441c-b88e-a66dd2002417"
      },
      "source": [
        "plt.figure(figsize=(20,10))\n",
        "plt.subplot(1,2,1)\n",
        "plt.plot(fashion_train_history.history['accuracy'])\n",
        "plt.title('model training accuracy on mnist')\n",
        "plt.ylabel('accuracy')\n",
        "plt.xlabel('epoch')\n",
        "plt.subplot(1,2,2)\n",
        "plt.plot(fashion_train_history.history['loss'])\n",
        "plt.title('model training loss on mnist')\n",
        "plt.ylabel('loss')\n",
        "plt.xlabel('epoch')\n",
        "plt.show()"
      ],
      "execution_count": null,
      "outputs": [
        {
          "output_type": "display_data",
          "data": {
            "image/png": "[encoded data removed]",
            "text/plain": [
              "<Figure size 1440x720 with 2 Axes>"
            ]
          },
          "metadata": {
            "tags": [],
            "needs_background": "light"
          }
        }
      ]
    },
    {
      "cell_type": "code",
      "metadata": {
        "id": "AibydZ8IP9fj",
        "colab": {
          "base_uri": "https://localhost:8080/",
          "height": 52
        },
        "outputId": "fcf5518c-2e14-425e-bea7-7136e136fdba"
      },
      "source": [
        "fashion_model.evaluate(x_test, y_test, batch_size = 1024,verbose = 2 )"
      ],
      "execution_count": null,
      "outputs": [
        {
          "output_type": "stream",
          "text": [
            "10/10 - 0s - loss: 0.3530 - accuracy: 0.8695\n"
          ],
          "name": "stdout"
        },
        {
          "output_type": "execute_result",
          "data": {
            "text/plain": [
              "[0.35304954648017883, 0.8694999814033508]"
            ]
          },
          "metadata": {
            "tags": []
          },
          "execution_count": 40
        }
      ]
    },
    {
      "cell_type": "code",
      "metadata": {
        "id": "CbDqINl2QFXL"
      },
      "source": [
        "transfer_mnist_Model = tf.keras.Sequential([\n",
        "\t            fashion_model\n",
        "              ])"
      ],
      "execution_count": null,
      "outputs": []
    },
    {
      "cell_type": "code",
      "metadata": {
        "id": "6Z13Oz4OQOZk",
        "colab": {
          "base_uri": "https://localhost:8080/",
          "height": 727
        },
        "outputId": "5138dbd1-f2f9-482a-cdcf-0864be595d8b"
      },
      "source": [
        "transfer_mnist_Model.compile(loss='sparse_categorical_crossentropy', optimizer=keras.optimizers.Adam(),metrics=['accuracy'])\n",
        "\n",
        "trans_mnist_train_history = transfer_mnist_Model.fit(train_images, train_labels,\n",
        "                epochs=20,\n",
        "                batch_size=1024,\n",
        "                shuffle=True, verbose=1)"
      ],
      "execution_count": null,
      "outputs": [
        {
          "output_type": "stream",
          "text": [
            "Epoch 1/20\n",
            "59/59 [==============================] - 1s 10ms/step - loss: 1.4062 - accuracy: 0.6094\n",
            "Epoch 2/20\n",
            "59/59 [==============================] - 1s 11ms/step - loss: 0.2426 - accuracy: 0.9255\n",
            "Epoch 3/20\n",
            "59/59 [==============================] - 1s 11ms/step - loss: 0.1567 - accuracy: 0.9512\n",
            "Epoch 4/20\n",
            "59/59 [==============================] - 1s 11ms/step - loss: 0.1235 - accuracy: 0.9622\n",
            "Epoch 5/20\n",
            "59/59 [==============================] - 1s 11ms/step - loss: 0.1064 - accuracy: 0.9669\n",
            "Epoch 6/20\n",
            "59/59 [==============================] - 1s 10ms/step - loss: 0.0921 - accuracy: 0.9713\n",
            "Epoch 7/20\n",
            "59/59 [==============================] - 1s 11ms/step - loss: 0.0803 - accuracy: 0.9752\n",
            "Epoch 8/20\n",
            "59/59 [==============================] - 1s 10ms/step - loss: 0.0707 - accuracy: 0.9777\n",
            "Epoch 9/20\n",
            "59/59 [==============================] - 1s 10ms/step - loss: 0.0649 - accuracy: 0.9801\n",
            "Epoch 10/20\n",
            "59/59 [==============================] - 1s 11ms/step - loss: 0.0583 - accuracy: 0.9816\n",
            "Epoch 11/20\n",
            "59/59 [==============================] - 1s 10ms/step - loss: 0.0530 - accuracy: 0.9832\n",
            "Epoch 12/20\n",
            "59/59 [==============================] - 1s 10ms/step - loss: 0.0468 - accuracy: 0.9851\n",
            "Epoch 13/20\n",
            "59/59 [==============================] - 1s 10ms/step - loss: 0.0425 - accuracy: 0.9869\n",
            "Epoch 14/20\n",
            "59/59 [==============================] - 1s 11ms/step - loss: 0.0404 - accuracy: 0.9876\n",
            "Epoch 15/20\n",
            "59/59 [==============================] - 1s 10ms/step - loss: 0.0382 - accuracy: 0.9879\n",
            "Epoch 16/20\n",
            "59/59 [==============================] - 1s 10ms/step - loss: 0.0370 - accuracy: 0.9883\n",
            "Epoch 17/20\n",
            "59/59 [==============================] - 1s 10ms/step - loss: 0.0328 - accuracy: 0.9898\n",
            "Epoch 18/20\n",
            "59/59 [==============================] - 1s 11ms/step - loss: 0.0285 - accuracy: 0.9914\n",
            "Epoch 19/20\n",
            "59/59 [==============================] - 1s 10ms/step - loss: 0.0290 - accuracy: 0.9906\n",
            "Epoch 20/20\n",
            "59/59 [==============================] - 1s 10ms/step - loss: 0.0253 - accuracy: 0.9921\n"
          ],
          "name": "stdout"
        }
      ]
    },
    {
      "cell_type": "code",
      "metadata": {
        "id": "imQhXt-9QV0r",
        "colab": {
          "base_uri": "https://localhost:8080/",
          "height": 621
        },
        "outputId": "2f6c0d26-e324-4fb7-d1a4-4d44d7b15b7f"
      },
      "source": [
        "plt.figure(figsize=(20,10))\n",
        "plt.subplot(1,2,1)\n",
        "plt.plot(trans_mnist_train_history.history['accuracy'])\n",
        "plt.title('model training accuracy on mnist')\n",
        "plt.ylabel('accuracy')\n",
        "plt.xlabel('epoch')\n",
        "plt.subplot(1,2,2)\n",
        "plt.plot(trans_mnist_train_history.history['loss'])\n",
        "plt.title('model training loss on mnist')\n",
        "plt.ylabel('loss')\n",
        "plt.xlabel('epoch')\n",
        "plt.show()"
      ],
      "execution_count": null,
      "outputs": [
        {
          "output_type": "display_data",
          "data": {
            "image/png": "[encoded data removed]",
            "text/plain": [
              "<Figure size 1440x720 with 2 Axes>"
            ]
          },
          "metadata": {
            "tags": [],
            "needs_background": "light"
          }
        }
      ]
    },
    {
      "cell_type": "code",
      "metadata": {
        "id": "psN5bzBZQavL",
        "colab": {
          "base_uri": "https://localhost:8080/",
          "height": 52
        },
        "outputId": "ecb3a22c-0a93-433e-a3f3-603380108e29"
      },
      "source": [
        "transfer_mnist_Model.evaluate(test_images, test_labels, batch_size = 1024,verbose = 2 )"
      ],
      "execution_count": null,
      "outputs": [
        {
          "output_type": "stream",
          "text": [
            "10/10 - 0s - loss: 0.0368 - accuracy: 0.9886\n"
          ],
          "name": "stdout"
        },
        {
          "output_type": "execute_result",
          "data": {
            "text/plain": [
              "[0.03680172562599182, 0.9886000156402588]"
            ]
          },
          "metadata": {
            "tags": []
          },
          "execution_count": 44
        }
      ]
    },
    {
      "cell_type": "markdown",
      "metadata": {
        "id": "yl_83TH1i3YP"
      },
      "source": [
        "> * Here the model is first trained with more complex fashion Mnist data. And then the same mode is trained with simpler mnist dataset.\n",
        "> * This model with transdfer learning achives 99.2% traning accuracy and  ~98.9% training accuracy.\n",
        "> * The generalization gap is very narrow ~0.3%\n",
        "> * Also the model converges very fast only after 2 epochs. "
      ]
    },
    {
      "cell_type": "code",
      "metadata": {
        "id": "TGKg8l_5Qmqk",
        "colab": {
          "base_uri": "https://localhost:8080/",
          "height": 727
        },
        "outputId": "1caaad88-7844-45a9-a2aa-d8f21d9444be"
      },
      "source": [
        "pure_mnist_model =  MyModel(10)\n",
        "pure_mnist_model.compile(loss='sparse_categorical_crossentropy', optimizer=keras.optimizers.Adam(),metrics=['accuracy'])\n",
        "\n",
        "pure_mnist_train_history = pure_mnist_model.fit(train_images, train_labels,\n",
        "                epochs=20,\n",
        "                batch_size=1024,\n",
        "                shuffle=True, verbose=1)"
      ],
      "execution_count": null,
      "outputs": [
        {
          "output_type": "stream",
          "text": [
            "Epoch 1/20\n",
            "59/59 [==============================] - 1s 11ms/step - loss: 0.8809 - accuracy: 0.7532\n",
            "Epoch 2/20\n",
            "59/59 [==============================] - 1s 11ms/step - loss: 0.1910 - accuracy: 0.9417\n",
            "Epoch 3/20\n",
            "59/59 [==============================] - 1s 11ms/step - loss: 0.1198 - accuracy: 0.9630\n",
            "Epoch 4/20\n",
            "59/59 [==============================] - 1s 10ms/step - loss: 0.0895 - accuracy: 0.9725\n",
            "Epoch 5/20\n",
            "59/59 [==============================] - 1s 10ms/step - loss: 0.0757 - accuracy: 0.9763\n",
            "Epoch 6/20\n",
            "59/59 [==============================] - 1s 10ms/step - loss: 0.0649 - accuracy: 0.9798\n",
            "Epoch 7/20\n",
            "59/59 [==============================] - 1s 10ms/step - loss: 0.0550 - accuracy: 0.9830\n",
            "Epoch 8/20\n",
            "59/59 [==============================] - 1s 10ms/step - loss: 0.0510 - accuracy: 0.9841\n",
            "Epoch 9/20\n",
            "59/59 [==============================] - 1s 10ms/step - loss: 0.0449 - accuracy: 0.9858\n",
            "Epoch 10/20\n",
            "59/59 [==============================] - 1s 10ms/step - loss: 0.0397 - accuracy: 0.9876\n",
            "Epoch 11/20\n",
            "59/59 [==============================] - 1s 10ms/step - loss: 0.0356 - accuracy: 0.9890\n",
            "Epoch 12/20\n",
            "59/59 [==============================] - 1s 10ms/step - loss: 0.0351 - accuracy: 0.9892\n",
            "Epoch 13/20\n",
            "59/59 [==============================] - 1s 10ms/step - loss: 0.0334 - accuracy: 0.9898\n",
            "Epoch 14/20\n",
            "59/59 [==============================] - 1s 10ms/step - loss: 0.0297 - accuracy: 0.9912\n",
            "Epoch 15/20\n",
            "59/59 [==============================] - 1s 10ms/step - loss: 0.0277 - accuracy: 0.9910\n",
            "Epoch 16/20\n",
            "59/59 [==============================] - 1s 10ms/step - loss: 0.0244 - accuracy: 0.9922\n",
            "Epoch 17/20\n",
            "59/59 [==============================] - 1s 11ms/step - loss: 0.0229 - accuracy: 0.9928\n",
            "Epoch 18/20\n",
            "59/59 [==============================] - 1s 11ms/step - loss: 0.0224 - accuracy: 0.9928\n",
            "Epoch 19/20\n",
            "59/59 [==============================] - 1s 11ms/step - loss: 0.0214 - accuracy: 0.9932\n",
            "Epoch 20/20\n",
            "59/59 [==============================] - 1s 11ms/step - loss: 0.0196 - accuracy: 0.9937\n"
          ],
          "name": "stdout"
        }
      ]
    },
    {
      "cell_type": "code",
      "metadata": {
        "id": "xHl0Laa-QyUM",
        "colab": {
          "base_uri": "https://localhost:8080/",
          "height": 621
        },
        "outputId": "3ed899fd-61d0-45d3-b689-d0f5fe18da33"
      },
      "source": [
        "plt.figure(figsize=(20,10))\n",
        "plt.subplot(1,2,1)\n",
        "plt.plot(pure_mnist_train_history.history['accuracy'])\n",
        "plt.title('model training accuracy on mnist')\n",
        "plt.ylabel('accuracy')\n",
        "plt.xlabel('epoch')\n",
        "plt.subplot(1,2,2)\n",
        "plt.plot(pure_mnist_train_history.history['loss'])\n",
        "plt.title('model training loss on mnist')\n",
        "plt.ylabel('loss')\n",
        "plt.xlabel('epoch')\n",
        "plt.show()"
      ],
      "execution_count": null,
      "outputs": [
        {
          "output_type": "display_data",
          "data": {
            "image/png": "[encoded data removed]",
            "text/plain": [
              "<Figure size 1440x720 with 2 Axes>"
            ]
          },
          "metadata": {
            "tags": [],
            "needs_background": "light"
          }
        }
      ]
    },
    {
      "cell_type": "code",
      "metadata": {
        "id": "rSzchXyEQ2_N",
        "colab": {
          "base_uri": "https://localhost:8080/",
          "height": 52
        },
        "outputId": "d7cd8ffb-082c-43f2-c7c9-94d3c8e1790c"
      },
      "source": [
        "pure_mnist_model.evaluate(test_images, test_labels, batch_size = 1024,verbose = 2 )"
      ],
      "execution_count": null,
      "outputs": [
        {
          "output_type": "stream",
          "text": [
            "10/10 - 0s - loss: 0.0347 - accuracy: 0.9898\n"
          ],
          "name": "stdout"
        },
        {
          "output_type": "execute_result",
          "data": {
            "text/plain": [
              "[0.03470283001661301, 0.989799976348877]"
            ]
          },
          "metadata": {
            "tags": []
          },
          "execution_count": 47
        }
      ]
    },
    {
      "cell_type": "markdown",
      "metadata": {
        "id": "rjVyFcsxjb_2"
      },
      "source": [
        "> * The model with same architecture when trained only with mnist data, achieves a training accuracy of ~99.4% and test accuracy of ~99%.\n",
        "> * This model also converges after 2 epochs.\n",
        "\n",
        "### conclusion\n",
        "\n",
        "> As the mnist data is very simple, both the model performs similarly. The model with transfer learning works at per with the model trained from scratch only with mnist data."
      ]
    },
    {
      "cell_type": "markdown",
      "metadata": {
        "id": "t4gHmr5lTkdN"
      },
      "source": [
        "\n",
        "\n",
        "---\n",
        "\n"
      ]
    },
    {
      "cell_type": "markdown",
      "metadata": {
        "id": "wUJBWRADTmPz"
      },
      "source": [
        "#### 3.3 Compare diffferent ways to do the transfer learning\n",
        "> Transfer learning is done with different strategies.\n",
        "You can for example investigate:\n",
        "\n",
        "* freezing all pre-trained layers (i.e. set trainable to False)\n",
        "* freezing only some bottom layers\n",
        "* replacing (or reinitializing) multiple top layers\n",
        "* replacing the source classification layer by multiple new ones for the target domain. \n",
        "This is particularly meaningful, if the target domain is more complex than the source domain.\n",
        "\n",
        "Do you observe any differences in the final result using different ways of going from target to source?"
      ]
    },
    {
      "cell_type": "markdown",
      "metadata": {
        "id": "lxfiDwlckLI6"
      },
      "source": [
        "> In this experiment we will perform training and tests of different models to find out which strategy works best .\n",
        "\n",
        "### Strategy 1:\n",
        "* We first train our model with source domain mnist data of 7 classes.\n",
        "* Then we freeze the pre trained model layers except the final classifier layer.\n",
        "* We change the classifier layer and retrain the model on target domain data.\n",
        "* Then we anlyze the training."
      ]
    },
    {
      "cell_type": "code",
      "metadata": {
        "id": "GKEDy-IKTkJQ",
        "colab": {
          "base_uri": "https://localhost:8080/",
          "height": 372
        },
        "outputId": "b8cbcd27-0c07-4281-b9e0-e689326ea1ad"
      },
      "source": [
        "base_Model = MyModel(7)\n",
        "base_Model.compile(loss='sparse_categorical_crossentropy', optimizer=keras.optimizers.Adam(),metrics=['accuracy'])\n",
        "\n",
        "history = base_Model.fit(source_train_images, source_train_labels,\n",
        "                epochs=10,\n",
        "                batch_size=1024,\n",
        "                shuffle=True, verbose=1)"
      ],
      "execution_count": null,
      "outputs": [
        {
          "output_type": "stream",
          "text": [
            "Epoch 1/10\n",
            "41/41 [==============================] - 0s 10ms/step - loss: 1.9436 - accuracy: 0.1593\n",
            "Epoch 2/10\n",
            "41/41 [==============================] - 0s 10ms/step - loss: 1.8047 - accuracy: 0.2583\n",
            "Epoch 3/10\n",
            "41/41 [==============================] - 0s 10ms/step - loss: 1.3771 - accuracy: 0.4582\n",
            "Epoch 4/10\n",
            "41/41 [==============================] - 0s 10ms/step - loss: 1.0450 - accuracy: 0.6502\n",
            "Epoch 5/10\n",
            "41/41 [==============================] - 0s 11ms/step - loss: 0.5838 - accuracy: 0.8081\n",
            "Epoch 6/10\n",
            "41/41 [==============================] - 0s 10ms/step - loss: 0.3853 - accuracy: 0.8739\n",
            "Epoch 7/10\n",
            "41/41 [==============================] - 0s 10ms/step - loss: 0.3122 - accuracy: 0.8996\n",
            "Epoch 8/10\n",
            "41/41 [==============================] - 0s 10ms/step - loss: 0.2706 - accuracy: 0.9150\n",
            "Epoch 9/10\n",
            "41/41 [==============================] - 0s 10ms/step - loss: 0.2349 - accuracy: 0.9259\n",
            "Epoch 10/10\n",
            "41/41 [==============================] - 0s 10ms/step - loss: 0.2104 - accuracy: 0.9349\n"
          ],
          "name": "stdout"
        }
      ]
    },
    {
      "cell_type": "code",
      "metadata": {
        "id": "PEs3kNqVU1Sj",
        "colab": {
          "base_uri": "https://localhost:8080/",
          "height": 34
        },
        "outputId": "c14d447f-2015-460c-b884-4149dd4a794f"
      },
      "source": [
        "base_Model._layers.pop()"
      ],
      "execution_count": null,
      "outputs": [
        {
          "output_type": "execute_result",
          "data": {
            "text/plain": [
              "<tensorflow.python.keras.layers.core.Dense at 0x7f338a16e9b0>"
            ]
          },
          "metadata": {
            "tags": []
          },
          "execution_count": 49
        }
      ]
    },
    {
      "cell_type": "code",
      "metadata": {
        "id": "8Z2LSZR4UrIc"
      },
      "source": [
        "Strategy1_Model = tf.keras.Sequential([\n",
        "\t            base_Model,\n",
        "\t            tf.keras.layers.Dense(units=3, activation=\"softmax\", name=\"classifier_target\")\n",
        "              ])"
      ],
      "execution_count": null,
      "outputs": []
    },
    {
      "cell_type": "code",
      "metadata": {
        "id": "GhYCaFROU-zl"
      },
      "source": [
        "for layer in Strategy1_Model.layers[:-1]:\n",
        "  layer.trainable = False"
      ],
      "execution_count": null,
      "outputs": []
    },
    {
      "cell_type": "code",
      "metadata": {
        "id": "iKN3_YXNUwTa",
        "colab": {
          "base_uri": "https://localhost:8080/",
          "height": 727
        },
        "outputId": "b72de379-1b33-4125-9d3d-770be8a64196"
      },
      "source": [
        "Strategy1_Model.compile(loss='sparse_categorical_crossentropy', optimizer=keras.optimizers.Adam(),metrics=['accuracy'])\n",
        "history = Strategy1_Model.fit(target_train_images, target_train_labels,\n",
        "                epochs=20,\n",
        "                batch_size=1024,\n",
        "                shuffle=True, verbose=1)"
      ],
      "execution_count": null,
      "outputs": [
        {
          "output_type": "stream",
          "text": [
            "Epoch 1/20\n",
            "18/18 [==============================] - 0s 5ms/step - loss: 1.0992 - accuracy: 0.2767\n",
            "Epoch 2/20\n",
            "18/18 [==============================] - 0s 5ms/step - loss: 1.0865 - accuracy: 0.2922\n",
            "Epoch 3/20\n",
            "18/18 [==============================] - 0s 5ms/step - loss: 1.0743 - accuracy: 0.3155\n",
            "Epoch 4/20\n",
            "18/18 [==============================] - 0s 5ms/step - loss: 1.0628 - accuracy: 0.3477\n",
            "Epoch 5/20\n",
            "18/18 [==============================] - 0s 5ms/step - loss: 1.0520 - accuracy: 0.3785\n",
            "Epoch 6/20\n",
            "18/18 [==============================] - 0s 5ms/step - loss: 1.0417 - accuracy: 0.3894\n",
            "Epoch 7/20\n",
            "18/18 [==============================] - 0s 5ms/step - loss: 1.0321 - accuracy: 0.3997\n",
            "Epoch 8/20\n",
            "18/18 [==============================] - 0s 6ms/step - loss: 1.0228 - accuracy: 0.5418\n",
            "Epoch 9/20\n",
            "18/18 [==============================] - 0s 6ms/step - loss: 1.0141 - accuracy: 0.5846\n",
            "Epoch 10/20\n",
            "18/18 [==============================] - 0s 5ms/step - loss: 1.0057 - accuracy: 0.5920\n",
            "Epoch 11/20\n",
            "18/18 [==============================] - 0s 5ms/step - loss: 0.9977 - accuracy: 0.6030\n",
            "Epoch 12/20\n",
            "18/18 [==============================] - 0s 5ms/step - loss: 0.9900 - accuracy: 0.6028\n",
            "Epoch 13/20\n",
            "18/18 [==============================] - 0s 5ms/step - loss: 0.9826 - accuracy: 0.6092\n",
            "Epoch 14/20\n",
            "18/18 [==============================] - 0s 5ms/step - loss: 0.9756 - accuracy: 0.6161\n",
            "Epoch 15/20\n",
            "18/18 [==============================] - 0s 5ms/step - loss: 0.9687 - accuracy: 0.6213\n",
            "Epoch 16/20\n",
            "18/18 [==============================] - 0s 5ms/step - loss: 0.9621 - accuracy: 0.6271\n",
            "Epoch 17/20\n",
            "18/18 [==============================] - 0s 5ms/step - loss: 0.9557 - accuracy: 0.6323\n",
            "Epoch 18/20\n",
            "18/18 [==============================] - 0s 5ms/step - loss: 0.9495 - accuracy: 0.6392\n",
            "Epoch 19/20\n",
            "18/18 [==============================] - 0s 5ms/step - loss: 0.9435 - accuracy: 0.6454\n",
            "Epoch 20/20\n",
            "18/18 [==============================] - 0s 5ms/step - loss: 0.9377 - accuracy: 0.6525\n"
          ],
          "name": "stdout"
        }
      ]
    },
    {
      "cell_type": "code",
      "metadata": {
        "id": "6Xly6XUUV6hk",
        "colab": {
          "base_uri": "https://localhost:8080/",
          "height": 52
        },
        "outputId": "6c021969-8aeb-44c9-e7d0-1ff28bd05706"
      },
      "source": [
        "Strategy1_Model.evaluate(target_test_images,target_test_labels,batch_size=1024,verbose=2)"
      ],
      "execution_count": null,
      "outputs": [
        {
          "output_type": "stream",
          "text": [
            "3/3 - 0s - loss: 0.9632 - accuracy: 0.5493\n"
          ],
          "name": "stdout"
        },
        {
          "output_type": "execute_result",
          "data": {
            "text/plain": [
              "[0.9632360935211182, 0.5493191480636597]"
            ]
          },
          "metadata": {
            "tags": []
          },
          "execution_count": 53
        }
      ]
    },
    {
      "cell_type": "markdown",
      "metadata": {
        "id": "GTO_Z6CNkyPO"
      },
      "source": [
        "#### Analysis:\n",
        "> Using this strategy, after retraining the model could only reach training accuracy of 65% whereas the testing accuracy remains as low as ~55%. That means the model is underfitted and also there is almost 10% generalization error gap.\n",
        "\n",
        "> So this strategy is not that effective.\n",
        "\n",
        "---"
      ]
    },
    {
      "cell_type": "markdown",
      "metadata": {
        "id": "08iv9305ED6X"
      },
      "source": [
        "### Strategy 2:\n",
        "* We first train our model with source domain mnist data of 7 classes.\n",
        "* Then we freeze only few bottom pre trained layers. (Here only fully connected layers.\n",
        "* We change the classifier layer and retrain the model on target domain data.\n",
        "Then we anlyze the training."
      ]
    },
    {
      "cell_type": "code",
      "metadata": {
        "id": "V1l_RDrIWLEM",
        "colab": {
          "base_uri": "https://localhost:8080/",
          "height": 34
        },
        "outputId": "80ddb11f-b7c7-4a18-9646-d111fe35b662"
      },
      "source": [
        "base_Model_2 = MyModel(7)\n",
        "base_Model_2.compile(loss='sparse_categorical_crossentropy', optimizer=keras.optimizers.Adam(),metrics=['accuracy'])\n",
        "\n",
        "history = base_Model_2.fit(source_train_images, source_train_labels,\n",
        "                epochs=10,\n",
        "                batch_size=1024,\n",
        "                shuffle=True, verbose=0)\n",
        "base_Model_2._layers.pop()"
      ],
      "execution_count": null,
      "outputs": [
        {
          "output_type": "execute_result",
          "data": {
            "text/plain": [
              "<tensorflow.python.keras.layers.core.Dense at 0x7f338c627f98>"
            ]
          },
          "metadata": {
            "tags": []
          },
          "execution_count": 54
        }
      ]
    },
    {
      "cell_type": "code",
      "metadata": {
        "id": "zmc-BBITWbyu"
      },
      "source": [
        "for layer in base_Model_2.layers[6:]:\n",
        "  layer.trainable = False"
      ],
      "execution_count": null,
      "outputs": []
    },
    {
      "cell_type": "code",
      "metadata": {
        "id": "qnXGTdJ5W_vl",
        "colab": {
          "base_uri": "https://localhost:8080/",
          "height": 727
        },
        "outputId": "df7e123c-8299-48d8-d062-482e0b4e368c"
      },
      "source": [
        "Strategy2_Model = tf.keras.Sequential([\n",
        "\t            base_Model_2,\n",
        "\t            tf.keras.layers.Dense(units=3, activation=\"softmax\", name=\"classifier_target\")\n",
        "              ])\n",
        "Strategy2_Model.compile(loss='sparse_categorical_crossentropy', optimizer=keras.optimizers.Adam(),metrics=['accuracy'])\n",
        "history = Strategy2_Model.fit(target_train_images, target_train_labels,\n",
        "                epochs=20,\n",
        "                batch_size=1024,\n",
        "                shuffle=True, verbose=1)"
      ],
      "execution_count": null,
      "outputs": [
        {
          "output_type": "stream",
          "text": [
            "Epoch 1/20\n",
            "18/18 [==============================] - 0s 10ms/step - loss: 1.0470 - accuracy: 0.5624\n",
            "Epoch 2/20\n",
            "18/18 [==============================] - 0s 10ms/step - loss: 0.9866 - accuracy: 0.6976\n",
            "Epoch 3/20\n",
            "18/18 [==============================] - 0s 10ms/step - loss: 0.9459 - accuracy: 0.7614\n",
            "Epoch 4/20\n",
            "18/18 [==============================] - 0s 10ms/step - loss: 0.9122 - accuracy: 0.7858\n",
            "Epoch 5/20\n",
            "18/18 [==============================] - 0s 10ms/step - loss: 0.8849 - accuracy: 0.8019\n",
            "Epoch 6/20\n",
            "18/18 [==============================] - 0s 10ms/step - loss: 0.8601 - accuracy: 0.8147\n",
            "Epoch 7/20\n",
            "18/18 [==============================] - 0s 10ms/step - loss: 0.8372 - accuracy: 0.8255\n",
            "Epoch 8/20\n",
            "18/18 [==============================] - 0s 10ms/step - loss: 0.8149 - accuracy: 0.8368\n",
            "Epoch 9/20\n",
            "18/18 [==============================] - 0s 10ms/step - loss: 0.7931 - accuracy: 0.8477\n",
            "Epoch 10/20\n",
            "18/18 [==============================] - 0s 10ms/step - loss: 0.7710 - accuracy: 0.8587\n",
            "Epoch 11/20\n",
            "18/18 [==============================] - 0s 10ms/step - loss: 0.7500 - accuracy: 0.8679\n",
            "Epoch 12/20\n",
            "18/18 [==============================] - 0s 10ms/step - loss: 0.7294 - accuracy: 0.8771\n",
            "Epoch 13/20\n",
            "18/18 [==============================] - 0s 10ms/step - loss: 0.7101 - accuracy: 0.8846\n",
            "Epoch 14/20\n",
            "18/18 [==============================] - 0s 10ms/step - loss: 0.6906 - accuracy: 0.8908\n",
            "Epoch 15/20\n",
            "18/18 [==============================] - 0s 10ms/step - loss: 0.6732 - accuracy: 0.8949\n",
            "Epoch 16/20\n",
            "18/18 [==============================] - 0s 10ms/step - loss: 0.6551 - accuracy: 0.9014\n",
            "Epoch 17/20\n",
            "18/18 [==============================] - 0s 10ms/step - loss: 0.6382 - accuracy: 0.9048\n",
            "Epoch 18/20\n",
            "18/18 [==============================] - 0s 10ms/step - loss: 0.6218 - accuracy: 0.9091\n",
            "Epoch 19/20\n",
            "18/18 [==============================] - 0s 10ms/step - loss: 0.6073 - accuracy: 0.9115\n",
            "Epoch 20/20\n",
            "18/18 [==============================] - 0s 10ms/step - loss: 0.5929 - accuracy: 0.9138\n"
          ],
          "name": "stdout"
        }
      ]
    },
    {
      "cell_type": "code",
      "metadata": {
        "id": "CEWafS8UXQuz",
        "colab": {
          "base_uri": "https://localhost:8080/",
          "height": 52
        },
        "outputId": "97cccc54-b940-4722-87a4-be647854ab93"
      },
      "source": [
        "Strategy2_Model.evaluate(target_test_images,target_test_labels,batch_size=1024,verbose=2)"
      ],
      "execution_count": null,
      "outputs": [
        {
          "output_type": "stream",
          "text": [
            "3/3 - 0s - loss: 0.6154 - accuracy: 0.8884\n"
          ],
          "name": "stdout"
        },
        {
          "output_type": "execute_result",
          "data": {
            "text/plain": [
              "[0.6154207587242126, 0.8884091377258301]"
            ]
          },
          "metadata": {
            "tags": []
          },
          "execution_count": 57
        }
      ]
    },
    {
      "cell_type": "markdown",
      "metadata": {
        "id": "jXRHF6DfEf5o"
      },
      "source": [
        "### Analysis:\n",
        "> After re-training the model could achieve ~91% training accuracy and 88.84% testing accuracy. In terms of overfitting this approach shows a generalization error margin of ~2.5%, which is not very bad. But considering that the dataset is not that complex. The overall accuracy is a bit low.\n",
        "\n",
        "---"
      ]
    },
    {
      "cell_type": "markdown",
      "metadata": {
        "id": "G8v6L0ZoFUvy"
      },
      "source": [
        "### Strategy 3:\n",
        "* We first train our model with source domain mnist data of 7 classes.\n",
        "* Then we remove the classification layer and instead we add few more dense layer at the bottom.\n",
        "* We also add the 3 neuron classifier layer and retrain the model on target domain data.\n",
        "Then we anlyze the training."
      ]
    },
    {
      "cell_type": "code",
      "metadata": {
        "id": "dA9Y5FaGYNWz",
        "colab": {
          "base_uri": "https://localhost:8080/",
          "height": 727
        },
        "outputId": "72958fbd-a952-4586-ab9b-c9f1eda25709"
      },
      "source": [
        "base_Model_3 = MyModel(7)\n",
        "base_Model_3.compile(loss='sparse_categorical_crossentropy', optimizer=keras.optimizers.Adam(),metrics=['accuracy'])\n",
        "\n",
        "history = base_Model_3.fit(source_train_images, source_train_labels,\n",
        "                epochs=10,\n",
        "                batch_size=1024,\n",
        "                shuffle=True, verbose=0)\n",
        "base_Model_3._layers.pop()\n",
        "Strategy3_Model = tf.keras.Sequential([\n",
        "\t            base_Model_3,\n",
        "\t            tf.keras.layers.Dense(units=32, activation=\"relu\"),\n",
        "              tf.keras.layers.Dense(units=32, activation=\"relu\"),\n",
        "              tf.keras.layers.Dense(units=3, activation=\"softmax\")\n",
        "              ])\n",
        "Strategy3_Model.compile(loss='sparse_categorical_crossentropy', optimizer=keras.optimizers.Adam(),metrics=['accuracy'])\n",
        "history = Strategy3_Model.fit(target_train_images, target_train_labels,\n",
        "                epochs=20,\n",
        "                batch_size=1024,\n",
        "                shuffle=True, verbose=1)"
      ],
      "execution_count": null,
      "outputs": [
        {
          "output_type": "stream",
          "text": [
            "Epoch 1/20\n",
            "18/18 [==============================] - 0s 11ms/step - loss: 1.0228 - accuracy: 0.5224\n",
            "Epoch 2/20\n",
            "18/18 [==============================] - 0s 10ms/step - loss: 0.9164 - accuracy: 0.6407\n",
            "Epoch 3/20\n",
            "18/18 [==============================] - 0s 10ms/step - loss: 0.8124 - accuracy: 0.6655\n",
            "Epoch 4/20\n",
            "18/18 [==============================] - 0s 10ms/step - loss: 0.7165 - accuracy: 0.7165\n",
            "Epoch 5/20\n",
            "18/18 [==============================] - 0s 10ms/step - loss: 0.6160 - accuracy: 0.7899\n",
            "Epoch 6/20\n",
            "18/18 [==============================] - 0s 11ms/step - loss: 0.5196 - accuracy: 0.8437\n",
            "Epoch 7/20\n",
            "18/18 [==============================] - 0s 10ms/step - loss: 0.4176 - accuracy: 0.8933\n",
            "Epoch 8/20\n",
            "18/18 [==============================] - 0s 10ms/step - loss: 0.3264 - accuracy: 0.9229\n",
            "Epoch 9/20\n",
            "18/18 [==============================] - 0s 10ms/step - loss: 0.2343 - accuracy: 0.9431\n",
            "Epoch 10/20\n",
            "18/18 [==============================] - 0s 10ms/step - loss: 0.1793 - accuracy: 0.9503\n",
            "Epoch 11/20\n",
            "18/18 [==============================] - 0s 11ms/step - loss: 0.1439 - accuracy: 0.9579\n",
            "Epoch 12/20\n",
            "18/18 [==============================] - 0s 10ms/step - loss: 0.1222 - accuracy: 0.9632\n",
            "Epoch 13/20\n",
            "18/18 [==============================] - 0s 10ms/step - loss: 0.1082 - accuracy: 0.9661\n",
            "Epoch 14/20\n",
            "18/18 [==============================] - 0s 11ms/step - loss: 0.0898 - accuracy: 0.9715\n",
            "Epoch 15/20\n",
            "18/18 [==============================] - 0s 10ms/step - loss: 0.0784 - accuracy: 0.9764\n",
            "Epoch 16/20\n",
            "18/18 [==============================] - 0s 11ms/step - loss: 0.0712 - accuracy: 0.9782\n",
            "Epoch 17/20\n",
            "18/18 [==============================] - 0s 10ms/step - loss: 0.0651 - accuracy: 0.9808\n",
            "Epoch 18/20\n",
            "18/18 [==============================] - 0s 11ms/step - loss: 0.0631 - accuracy: 0.9808\n",
            "Epoch 19/20\n",
            "18/18 [==============================] - 0s 11ms/step - loss: 0.0546 - accuracy: 0.9837\n",
            "Epoch 20/20\n",
            "18/18 [==============================] - 0s 10ms/step - loss: 0.0503 - accuracy: 0.9842\n"
          ],
          "name": "stdout"
        }
      ]
    },
    {
      "cell_type": "code",
      "metadata": {
        "id": "37neM7wUa6ed",
        "colab": {
          "base_uri": "https://localhost:8080/",
          "height": 52
        },
        "outputId": "55e0cf94-be7f-43b7-dd93-87c3f9c47791"
      },
      "source": [
        "Strategy3_Model.evaluate(target_test_images,target_test_labels,batch_size=1024,verbose=2)"
      ],
      "execution_count": null,
      "outputs": [
        {
          "output_type": "stream",
          "text": [
            "3/3 - 0s - loss: 0.6197 - accuracy: 0.9186\n"
          ],
          "name": "stdout"
        },
        {
          "output_type": "execute_result",
          "data": {
            "text/plain": [
              "[0.6197276711463928, 0.9186316728591919]"
            ]
          },
          "metadata": {
            "tags": []
          },
          "execution_count": 59
        }
      ]
    },
    {
      "cell_type": "markdown",
      "metadata": {
        "id": "KLjSJRpAFjpw"
      },
      "source": [
        "### Analysis:\n",
        "> With this approach the retrained model gains a training acuracy of ~98% whereas the testing accuracy increased to ~91.9%. Although there is a generalization gap of 6.5%, considering the number of training example available for the target traning data set, the strategy achieved the highest testing accuracy. \n",
        "\n",
        "> Also the retraining convergence is also fast. The traning process converges only after 10 epochs.\n",
        "\n",
        "-----"
      ]
    },
    {
      "cell_type": "markdown",
      "metadata": {
        "id": "2JcQeWL7GMk4"
      },
      "source": [
        "### Strategy 4:\n",
        "\n",
        "In this last approach, \n",
        "* We first train our model with source domain mnist data of 7 classes.\n",
        "* Then we reinitialize two of the top convolutional layers.\n",
        "* Keeping all other layers pre-trained we now just remove the classification layer.\n",
        "* We also add the 3 neuron classifier layer and retrain the model on target domain data.\n",
        "Then we anlyze the training."
      ]
    },
    {
      "cell_type": "code",
      "metadata": {
        "id": "j5uycdstg8rC",
        "colab": {
          "base_uri": "https://localhost:8080/",
          "height": 727
        },
        "outputId": "1a9f0c47-e62a-4538-e0b9-b8db89ed8dc9"
      },
      "source": [
        "base_Model_4 = MyModel(7)\n",
        "base_Model_4.compile(loss='sparse_categorical_crossentropy', optimizer=keras.optimizers.Adam(),metrics=['accuracy'])\n",
        "\n",
        "history = base_Model_4.fit(source_train_images, source_train_labels,\n",
        "                epochs=10,\n",
        "                batch_size=1024,\n",
        "                shuffle=True, verbose=0)\n",
        "base_Model_4._layers.pop()\n",
        "base_Model_4.layers[0].kernel = base_Model_4.layers[0].kernel_initializer(base_Model_4.layers[0].kernel.shape)\n",
        "base_Model_4.layers[2].kernel = base_Model_4.layers[2].kernel_initializer(base_Model_4.layers[2].kernel.shape)\n",
        "Strategy4_Model = tf.keras.Sequential([\n",
        "\t            base_Model_4,\n",
        "              tf.keras.layers.Dense(units=3, activation=\"softmax\")\n",
        "              ])\n",
        "Strategy4_Model.compile(loss='sparse_categorical_crossentropy', optimizer=keras.optimizers.Adam(),metrics=['accuracy'])\n",
        "history = Strategy4_Model.fit(target_train_images, target_train_labels,\n",
        "                epochs=20,\n",
        "                batch_size=1024,\n",
        "                shuffle=True, verbose=1)\n"
      ],
      "execution_count": null,
      "outputs": [
        {
          "output_type": "stream",
          "text": [
            "Epoch 1/20\n",
            "18/18 [==============================] - 0s 9ms/step - loss: 1.1036 - accuracy: 0.3417\n",
            "Epoch 2/20\n",
            "18/18 [==============================] - 0s 8ms/step - loss: 1.0985 - accuracy: 0.3468\n",
            "Epoch 3/20\n",
            "18/18 [==============================] - 0s 8ms/step - loss: 1.0987 - accuracy: 0.3403\n",
            "Epoch 4/20\n",
            "18/18 [==============================] - 0s 9ms/step - loss: 1.0986 - accuracy: 0.3416\n",
            "Epoch 5/20\n",
            "18/18 [==============================] - 0s 8ms/step - loss: 1.0984 - accuracy: 0.3363\n",
            "Epoch 6/20\n",
            "18/18 [==============================] - 0s 9ms/step - loss: 1.0981 - accuracy: 0.3428\n",
            "Epoch 7/20\n",
            "18/18 [==============================] - 0s 8ms/step - loss: 1.0978 - accuracy: 0.3463\n",
            "Epoch 8/20\n",
            "18/18 [==============================] - 0s 9ms/step - loss: 1.0976 - accuracy: 0.3476\n",
            "Epoch 9/20\n",
            "18/18 [==============================] - 0s 8ms/step - loss: 1.0976 - accuracy: 0.3652\n",
            "Epoch 10/20\n",
            "18/18 [==============================] - 0s 8ms/step - loss: 1.0972 - accuracy: 0.3474\n",
            "Epoch 11/20\n",
            "18/18 [==============================] - 0s 9ms/step - loss: 1.0969 - accuracy: 0.3482\n",
            "Epoch 12/20\n",
            "18/18 [==============================] - 0s 8ms/step - loss: 1.0971 - accuracy: 0.3410\n",
            "Epoch 13/20\n",
            "18/18 [==============================] - 0s 8ms/step - loss: 1.0956 - accuracy: 0.3618\n",
            "Epoch 14/20\n",
            "18/18 [==============================] - 0s 8ms/step - loss: 1.0949 - accuracy: 0.3415\n",
            "Epoch 15/20\n",
            "18/18 [==============================] - 0s 9ms/step - loss: 1.0930 - accuracy: 0.3838\n",
            "Epoch 16/20\n",
            "18/18 [==============================] - 0s 9ms/step - loss: 1.0911 - accuracy: 0.3875\n",
            "Epoch 17/20\n",
            "18/18 [==============================] - 0s 9ms/step - loss: 1.0860 - accuracy: 0.4831\n",
            "Epoch 18/20\n",
            "18/18 [==============================] - 0s 9ms/step - loss: 1.0780 - accuracy: 0.5081\n",
            "Epoch 19/20\n",
            "18/18 [==============================] - 0s 8ms/step - loss: 1.0633 - accuracy: 0.4984\n",
            "Epoch 20/20\n",
            "18/18 [==============================] - 0s 8ms/step - loss: 1.0368 - accuracy: 0.5768\n"
          ],
          "name": "stdout"
        }
      ]
    },
    {
      "cell_type": "code",
      "metadata": {
        "id": "bIPn0PTsh82D",
        "colab": {
          "base_uri": "https://localhost:8080/",
          "height": 52
        },
        "outputId": "f9db506b-2c91-49c7-b89e-b7ef8823631f"
      },
      "source": [
        "Strategy4_Model.evaluate(target_test_images,target_test_labels,batch_size=1024,verbose=2)"
      ],
      "execution_count": null,
      "outputs": [
        {
          "output_type": "stream",
          "text": [
            "3/3 - 0s - loss: 1.0796 - accuracy: 0.4075\n"
          ],
          "name": "stdout"
        },
        {
          "output_type": "execute_result",
          "data": {
            "text/plain": [
              "[1.0796091556549072, 0.4075058102607727]"
            ]
          },
          "metadata": {
            "tags": []
          },
          "execution_count": 63
        }
      ]
    },
    {
      "cell_type": "markdown",
      "metadata": {
        "id": "WBEJ2Dw3GoFK"
      },
      "source": [
        "### Analysis:\n",
        "> This strategy doesn't perform very well under this settings and performing the worst amost the four. The retrained model only achieved ~57.7% training accuracy and as low as 40.7% testing accuracy. That means after retraining of 20 epochs there is a generalization error of almost 17%. and the training process never converged even after 20 epochs.\n",
        "\n",
        "> This makes this strategy the worst for this domain shared mnist data settings.\n",
        "---"
      ]
    }
  ]
}