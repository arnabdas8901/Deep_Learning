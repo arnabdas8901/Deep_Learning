{
  "nbformat": 4,
  "nbformat_minor": 0,
  "metadata": {
    "colab": {
      "name": "HandWrittenDigitClassification_Lenet5.ipynb",
      "provenance": [],
      "collapsed_sections": [],
      "toc_visible": true,
      "authorship_tag": "ABX9TyO/ndegtaKan8NQexapQSb5",
      "include_colab_link": true
    },
    "kernelspec": {
      "name": "python3",
      "display_name": "Python 3"
    },
    "accelerator": "GPU"
  },
  "cells": [
    {
      "cell_type": "markdown",
      "metadata": {
        "id": "view-in-github",
        "colab_type": "text"
      },
      "source": [
        "<a href=\"https://colab.research.google.com/github/arnabdas2019ovgu/Deep_Leaning/blob/master/CNN/Keras/HandWrittenDigitRecog/HandWrittenDigitClassification_Lenet5.ipynb\" target=\"_parent\"><img src=\"https://colab.research.google.com/assets/colab-badge.svg\" alt=\"Open In Colab\"/></a>"
      ]
    },
    {
      "cell_type": "code",
      "metadata": {
        "id": "zZxIGtnQegYc",
        "colab_type": "code",
        "colab": {}
      },
      "source": [
        "import idx2numpy\n",
        "import numpy as np\n",
        "import keras\n",
        "from keras import layers\n",
        "from keras.layers import Input, Dense, Activation, ZeroPadding2D, BatchNormalization, Flatten, Conv2D\n",
        "from keras.layers import AveragePooling2D, MaxPooling2D, Dropout, GlobalMaxPooling2D, GlobalAveragePooling2D\n",
        "from keras.models import Model\n",
        "from keras.preprocessing import image\n",
        "from keras.utils import layer_utils\n",
        "from keras.utils.data_utils import get_file\n",
        "from keras.applications.imagenet_utils import preprocess_input\n",
        "import pydot\n",
        "from IPython.display import SVG\n",
        "from keras.utils.vis_utils import model_to_dot\n",
        "from keras.utils import plot_model\n",
        "\n",
        "import keras.backend as K\n",
        "K.set_image_data_format('channels_last')\n",
        "\n",
        "import scipy.misc\n",
        "import matplotlib.pyplot as plt\n",
        "from matplotlib.pyplot import imshow\n",
        "\n",
        "%matplotlib inline"
      ],
      "execution_count": 0,
      "outputs": []
    },
    {
      "cell_type": "code",
      "metadata": {
        "id": "x88aXMHAte4W",
        "colab_type": "code",
        "colab": {}
      },
      "source": [
        "# Loading data from idx files to numpy arrays.\n",
        "X_train = idx2numpy.convert_from_file('datasets/train-images.idx3-ubyte')\n",
        "Y_train = idx2numpy.convert_from_file('datasets/train-labels.idx1-ubyte')\n",
        "X_test =  idx2numpy.convert_from_file('datasets/t10k-images.idx3-ubyte')\n",
        "Y_test = idx2numpy.convert_from_file('datasets/t10k-labels.idx1-ubyte')\n",
        "\n",
        "# Normalize image vectors\n",
        "X_train = X_train/255.\n",
        "X_test = X_test/255.\n",
        "\n",
        "# Reshape\n",
        "X_train = X_train.reshape((X_train.shape[0],X_train.shape[1],X_train.shape[2],1))\n",
        "X_test = X_test.reshape((X_test.shape[0],X_test.shape[1],X_test.shape[2],1))\n",
        "Y_train = Y_train.T\n",
        "Y_test = Y_test.T\n",
        "Y_train = Y_train.reshape((Y_train.shape[0],1))\n",
        "Y_test = Y_test.reshape((Y_test.shape[0],1))"
      ],
      "execution_count": 0,
      "outputs": []
    },
    {
      "cell_type": "code",
      "metadata": {
        "id": "IawcIz2WxbBt",
        "colab_type": "code",
        "colab": {
          "base_uri": "https://localhost:8080/",
          "height": 119
        },
        "outputId": "ffc26939-246b-4fd7-ca9f-839478ba713b"
      },
      "source": [
        "print (\"number of training examples = \" + str(X_train.shape[0]))\n",
        "print (\"number of test examples = \" + str(X_test.shape[0]))\n",
        "print (\"X_train shape: \" + str(X_train.shape))\n",
        "print (\"Y_train shape: \" + str(Y_train.shape))\n",
        "print (\"X_test shape: \" + str(X_test.shape))\n",
        "print (\"Y_test shape: \" + str(Y_test.shape))"
      ],
      "execution_count": 92,
      "outputs": [
        {
          "output_type": "stream",
          "text": [
            "number of training examples = 60000\n",
            "number of test examples = 10000\n",
            "X_train shape: (60000, 28, 28, 1)\n",
            "Y_train shape: (60000, 1)\n",
            "X_test shape: (10000, 28, 28, 1)\n",
            "Y_test shape: (10000, 1)\n"
          ],
          "name": "stdout"
        }
      ]
    },
    {
      "cell_type": "code",
      "metadata": {
        "id": "odLYvBAKzSdS",
        "colab_type": "code",
        "colab": {}
      },
      "source": [
        "def DigitRecogModel(input_shape):\n",
        "   X_input = Input(input_shape)\n",
        "   X = ZeroPadding2D((2, 2))(X_input)\n",
        "\n",
        "   X = Conv2D(6, (5, 5), strides = (1, 1), name = 'conv0')(X)\n",
        "   X = BatchNormalization(axis = 3, name = 'bn0')(X)\n",
        "   X = Activation('relu')(X)\n",
        "   X = MaxPooling2D(pool_size=2, padding='valid')(X)\n",
        "\n",
        "   X = Conv2D(16, (5, 5), strides = (1, 1), name = 'conv1')(X)\n",
        "   X = MaxPooling2D(pool_size=2, padding='valid')(X)\n",
        "\n",
        "   X = Flatten()(X)\n",
        "   X = Dense(120, activation='relu', name='fc1')(X)\n",
        "   X = Dense(84, activation='relu', name='fc2')(X)\n",
        "   X = Dense(84, activation='relu', name='fc3')(X)\n",
        "   X = Dense(1, activation='relu', name='fc4')(X)\n",
        "\n",
        "   model = Model(inputs = X_input, outputs = X, name='DigitRecogModel_Lenet5')\n",
        "\n",
        "   return model\n"
      ],
      "execution_count": 0,
      "outputs": []
    },
    {
      "cell_type": "code",
      "metadata": {
        "id": "t_nFT_mu6Mss",
        "colab_type": "code",
        "colab": {}
      },
      "source": [
        "MyModel = DigitRecogModel(X_train.shape[1:])"
      ],
      "execution_count": 0,
      "outputs": []
    },
    {
      "cell_type": "code",
      "metadata": {
        "id": "xGz6rrGo6Yjw",
        "colab_type": "code",
        "colab": {}
      },
      "source": [
        "MyModel.compile(optimizer = \"adam\", loss = \"mean_squared_error\", metrics = [\"accuracy\"])"
      ],
      "execution_count": 0,
      "outputs": []
    },
    {
      "cell_type": "code",
      "metadata": {
        "id": "79y2ZNUE_G2V",
        "colab_type": "code",
        "colab": {
          "base_uri": "https://localhost:8080/",
          "height": 1000
        },
        "outputId": "42ce5e00-51df-4526-f0ba-43a58f7531aa"
      },
      "source": [
        "MyModel.fit(x = X_train, y = Y_train, epochs = 60, batch_size = 1000)"
      ],
      "execution_count": 106,
      "outputs": [
        {
          "output_type": "stream",
          "text": [
            "Epoch 1/60\n",
            "60000/60000 [==============================] - 2s 26us/step - loss: 4.7863 - acc: 0.2316\n",
            "Epoch 2/60\n",
            "60000/60000 [==============================] - 1s 12us/step - loss: 1.5252 - acc: 0.4451\n",
            "Epoch 3/60\n",
            "60000/60000 [==============================] - 1s 12us/step - loss: 0.9349 - acc: 0.5695\n",
            "Epoch 4/60\n",
            "60000/60000 [==============================] - 1s 12us/step - loss: 0.6981 - acc: 0.6474\n",
            "Epoch 5/60\n",
            "60000/60000 [==============================] - 1s 12us/step - loss: 0.5653 - acc: 0.7008\n",
            "Epoch 6/60\n",
            "60000/60000 [==============================] - 1s 12us/step - loss: 0.4750 - acc: 0.7440\n",
            "Epoch 7/60\n",
            "60000/60000 [==============================] - 1s 12us/step - loss: 0.4214 - acc: 0.7608\n",
            "Epoch 8/60\n",
            "60000/60000 [==============================] - 1s 12us/step - loss: 0.3717 - acc: 0.7888\n",
            "Epoch 9/60\n",
            "60000/60000 [==============================] - 1s 12us/step - loss: 0.3316 - acc: 0.8091\n",
            "Epoch 10/60\n",
            "60000/60000 [==============================] - 1s 12us/step - loss: 0.2845 - acc: 0.8399\n",
            "Epoch 11/60\n",
            "60000/60000 [==============================] - 1s 12us/step - loss: 0.2576 - acc: 0.8527\n",
            "Epoch 12/60\n",
            "60000/60000 [==============================] - 1s 12us/step - loss: 0.2417 - acc: 0.8571\n",
            "Epoch 13/60\n",
            "60000/60000 [==============================] - 1s 12us/step - loss: 0.2201 - acc: 0.8676\n",
            "Epoch 14/60\n",
            "60000/60000 [==============================] - 1s 12us/step - loss: 0.1976 - acc: 0.8827\n",
            "Epoch 15/60\n",
            "60000/60000 [==============================] - 1s 12us/step - loss: 0.1793 - acc: 0.8905\n",
            "Epoch 16/60\n",
            "60000/60000 [==============================] - 1s 12us/step - loss: 0.1738 - acc: 0.8929\n",
            "Epoch 17/60\n",
            "60000/60000 [==============================] - 1s 12us/step - loss: 0.1611 - acc: 0.9057\n",
            "Epoch 18/60\n",
            "60000/60000 [==============================] - 1s 12us/step - loss: 0.1452 - acc: 0.9100\n",
            "Epoch 19/60\n",
            "60000/60000 [==============================] - 1s 12us/step - loss: 0.1312 - acc: 0.9169\n",
            "Epoch 20/60\n",
            "60000/60000 [==============================] - 1s 12us/step - loss: 0.1200 - acc: 0.9233\n",
            "Epoch 21/60\n",
            "60000/60000 [==============================] - 1s 12us/step - loss: 0.1145 - acc: 0.9255\n",
            "Epoch 22/60\n",
            "60000/60000 [==============================] - 1s 12us/step - loss: 0.0994 - acc: 0.9375\n",
            "Epoch 23/60\n",
            "60000/60000 [==============================] - 1s 12us/step - loss: 0.1009 - acc: 0.9344\n",
            "Epoch 24/60\n",
            "60000/60000 [==============================] - 1s 12us/step - loss: 0.0982 - acc: 0.9376\n",
            "Epoch 25/60\n",
            "60000/60000 [==============================] - 1s 12us/step - loss: 0.0900 - acc: 0.9400\n",
            "Epoch 26/60\n",
            "60000/60000 [==============================] - 1s 12us/step - loss: 0.0864 - acc: 0.9423\n",
            "Epoch 27/60\n",
            "60000/60000 [==============================] - 1s 12us/step - loss: 0.0748 - acc: 0.9521\n",
            "Epoch 28/60\n",
            "60000/60000 [==============================] - 1s 12us/step - loss: 0.0718 - acc: 0.9537\n",
            "Epoch 29/60\n",
            "60000/60000 [==============================] - 1s 12us/step - loss: 0.0659 - acc: 0.9576\n",
            "Epoch 30/60\n",
            "60000/60000 [==============================] - 1s 12us/step - loss: 0.0625 - acc: 0.9605\n",
            "Epoch 31/60\n",
            "60000/60000 [==============================] - 1s 12us/step - loss: 0.0598 - acc: 0.9617\n",
            "Epoch 32/60\n",
            "60000/60000 [==============================] - 1s 12us/step - loss: 0.0617 - acc: 0.9606\n",
            "Epoch 33/60\n",
            "60000/60000 [==============================] - 1s 12us/step - loss: 0.0566 - acc: 0.9652\n",
            "Epoch 34/60\n",
            "60000/60000 [==============================] - 1s 12us/step - loss: 0.0542 - acc: 0.9666\n",
            "Epoch 35/60\n",
            "60000/60000 [==============================] - 1s 12us/step - loss: 0.0499 - acc: 0.9705\n",
            "Epoch 36/60\n",
            "60000/60000 [==============================] - 1s 12us/step - loss: 0.0511 - acc: 0.9704\n",
            "Epoch 37/60\n",
            "60000/60000 [==============================] - 1s 12us/step - loss: 0.0511 - acc: 0.9702\n",
            "Epoch 38/60\n",
            "60000/60000 [==============================] - 1s 12us/step - loss: 0.0490 - acc: 0.9720\n",
            "Epoch 39/60\n",
            "60000/60000 [==============================] - 1s 12us/step - loss: 0.0487 - acc: 0.9729\n",
            "Epoch 40/60\n",
            "60000/60000 [==============================] - 1s 12us/step - loss: 0.0453 - acc: 0.9741\n",
            "Epoch 41/60\n",
            "60000/60000 [==============================] - 1s 12us/step - loss: 0.0454 - acc: 0.9753\n",
            "Epoch 42/60\n",
            "60000/60000 [==============================] - 1s 12us/step - loss: 0.0403 - acc: 0.9790\n",
            "Epoch 43/60\n",
            "60000/60000 [==============================] - 1s 12us/step - loss: 0.0405 - acc: 0.9792\n",
            "Epoch 44/60\n",
            "60000/60000 [==============================] - 1s 12us/step - loss: 0.0391 - acc: 0.9807\n",
            "Epoch 45/60\n",
            "60000/60000 [==============================] - 1s 12us/step - loss: 0.0438 - acc: 0.9769\n",
            "Epoch 46/60\n",
            "60000/60000 [==============================] - 1s 12us/step - loss: 0.0385 - acc: 0.9805\n",
            "Epoch 47/60\n",
            "60000/60000 [==============================] - 1s 12us/step - loss: 0.0567 - acc: 0.9733\n",
            "Epoch 48/60\n",
            "60000/60000 [==============================] - 1s 12us/step - loss: 0.1045 - acc: 0.9476\n",
            "Epoch 49/60\n",
            "60000/60000 [==============================] - 1s 12us/step - loss: 0.0673 - acc: 0.9666\n",
            "Epoch 50/60\n",
            "60000/60000 [==============================] - 1s 12us/step - loss: 0.0616 - acc: 0.9681\n",
            "Epoch 51/60\n",
            "60000/60000 [==============================] - 1s 12us/step - loss: 0.0403 - acc: 0.9798\n",
            "Epoch 52/60\n",
            "60000/60000 [==============================] - 1s 12us/step - loss: 0.0333 - acc: 0.9836\n",
            "Epoch 53/60\n",
            "60000/60000 [==============================] - 1s 12us/step - loss: 0.0331 - acc: 0.9851\n",
            "Epoch 54/60\n",
            "60000/60000 [==============================] - 1s 12us/step - loss: 0.0304 - acc: 0.9876\n",
            "Epoch 55/60\n",
            "60000/60000 [==============================] - 1s 13us/step - loss: 0.0286 - acc: 0.9879\n",
            "Epoch 56/60\n",
            "60000/60000 [==============================] - 1s 12us/step - loss: 0.0285 - acc: 0.9886\n",
            "Epoch 57/60\n",
            "60000/60000 [==============================] - 1s 12us/step - loss: 0.0258 - acc: 0.9906\n",
            "Epoch 58/60\n",
            "60000/60000 [==============================] - 1s 12us/step - loss: 0.0264 - acc: 0.9901\n",
            "Epoch 59/60\n",
            "60000/60000 [==============================] - 1s 12us/step - loss: 0.0248 - acc: 0.9907\n",
            "Epoch 60/60\n",
            "60000/60000 [==============================] - 1s 12us/step - loss: 0.0241 - acc: 0.9915\n"
          ],
          "name": "stdout"
        },
        {
          "output_type": "execute_result",
          "data": {
            "text/plain": [
              "<keras.callbacks.History at 0x7f5bade21550>"
            ]
          },
          "metadata": {
            "tags": []
          },
          "execution_count": 106
        }
      ]
    },
    {
      "cell_type": "code",
      "metadata": {
        "id": "DJjN7bov_VLv",
        "colab_type": "code",
        "colab": {
          "base_uri": "https://localhost:8080/",
          "height": 85
        },
        "outputId": "f911aace-ff5c-41a7-f9f6-fb9567099989"
      },
      "source": [
        "preds = MyModel.evaluate(x = X_test, y = Y_test)\n",
        "\n",
        "print()\n",
        "print (\"Loss = \" + str(preds[0]))\n",
        "print (\"Test Accuracy = \" + str(preds[1]))"
      ],
      "execution_count": 107,
      "outputs": [
        {
          "output_type": "stream",
          "text": [
            "10000/10000 [==============================] - 1s 80us/step\n",
            "\n",
            "Loss = 0.18697115585058927\n",
            "Test Accuracy = 0.9644\n"
          ],
          "name": "stdout"
        }
      ]
    },
    {
      "cell_type": "code",
      "metadata": {
        "id": "Ie5bmJ0EADmu",
        "colab_type": "code",
        "colab": {
          "base_uri": "https://localhost:8080/",
          "height": 595
        },
        "outputId": "35cade36-e2e6-4ea9-aab2-27a1a8a9b6e0"
      },
      "source": [
        "MyModel.summary()"
      ],
      "execution_count": 108,
      "outputs": [
        {
          "output_type": "stream",
          "text": [
            "Model: \"DigitRecogModel_Lenet5\"\n",
            "_________________________________________________________________\n",
            "Layer (type)                 Output Shape              Param #   \n",
            "=================================================================\n",
            "input_13 (InputLayer)        (None, 28, 28, 1)         0         \n",
            "_________________________________________________________________\n",
            "zero_padding2d_13 (ZeroPaddi (None, 32, 32, 1)         0         \n",
            "_________________________________________________________________\n",
            "conv0 (Conv2D)               (None, 28, 28, 6)         156       \n",
            "_________________________________________________________________\n",
            "bn0 (BatchNormalization)     (None, 28, 28, 6)         24        \n",
            "_________________________________________________________________\n",
            "activation_14 (Activation)   (None, 28, 28, 6)         0         \n",
            "_________________________________________________________________\n",
            "max_pooling2d_23 (MaxPooling (None, 14, 14, 6)         0         \n",
            "_________________________________________________________________\n",
            "conv1 (Conv2D)               (None, 10, 10, 16)        2416      \n",
            "_________________________________________________________________\n",
            "max_pooling2d_24 (MaxPooling (None, 5, 5, 16)          0         \n",
            "_________________________________________________________________\n",
            "flatten_12 (Flatten)         (None, 400)               0         \n",
            "_________________________________________________________________\n",
            "fc1 (Dense)                  (None, 120)               48120     \n",
            "_________________________________________________________________\n",
            "fc2 (Dense)                  (None, 84)                10164     \n",
            "_________________________________________________________________\n",
            "fc3 (Dense)                  (None, 84)                7140      \n",
            "_________________________________________________________________\n",
            "fc4 (Dense)                  (None, 1)                 85        \n",
            "=================================================================\n",
            "Total params: 68,105\n",
            "Trainable params: 68,093\n",
            "Non-trainable params: 12\n",
            "_________________________________________________________________\n"
          ],
          "name": "stdout"
        }
      ]
    },
    {
      "cell_type": "code",
      "metadata": {
        "id": "V7lbbKLvAEXo",
        "colab_type": "code",
        "colab": {
          "base_uri": "https://localhost:8080/",
          "height": 1000
        },
        "outputId": "401b1279-676c-4a3b-f8eb-479bec710bf8"
      },
      "source": [
        "plot_model(MyModel, to_file='MyModel.png')\n",
        "SVG(model_to_dot(MyModel).create(prog='dot', format='svg'))"
      ],
      "execution_count": 109,
      "outputs": [
        {
          "output_type": "execute_result",
          "data": {
            "text/plain": [
              "<IPython.core.display.SVG object>"
            ],
            "image/svg+xml": "<svg height=\"1228pt\" viewBox=\"0.00 0.00 241.00 921.00\" width=\"321pt\" xmlns=\"http://www.w3.org/2000/svg\" xmlns:xlink=\"http://www.w3.org/1999/xlink\">\n<g class=\"graph\" id=\"graph0\" transform=\"scale(1.3333 1.3333) rotate(0) translate(4 917)\">\n<title>G</title>\n<polygon fill=\"#ffffff\" points=\"-4,4 -4,-917 237,-917 237,4 -4,4\" stroke=\"transparent\"/>\n<!-- 140031735428152 -->\n<g class=\"node\" id=\"node1\">\n<title>140031735428152</title>\n<polygon fill=\"none\" points=\"46.5,-876.5 46.5,-912.5 186.5,-912.5 186.5,-876.5 46.5,-876.5\" stroke=\"#000000\"/>\n<text fill=\"#000000\" font-family=\"Times,serif\" font-size=\"14.00\" text-anchor=\"middle\" x=\"116.5\" y=\"-890.8\">input_13: InputLayer</text>\n</g>\n<!-- 140031735428320 -->\n<g class=\"node\" id=\"node2\">\n<title>140031735428320</title>\n<polygon fill=\"none\" points=\"0,-803.5 0,-839.5 233,-839.5 233,-803.5 0,-803.5\" stroke=\"#000000\"/>\n<text fill=\"#000000\" font-family=\"Times,serif\" font-size=\"14.00\" text-anchor=\"middle\" x=\"116.5\" y=\"-817.8\">zero_padding2d_13: ZeroPadding2D</text>\n</g>\n<!-- 140031735428152&#45;&gt;140031735428320 -->\n<g class=\"edge\" id=\"edge1\">\n<title>140031735428152-&gt;140031735428320</title>\n<path d=\"M116.5,-876.4551C116.5,-868.3828 116.5,-858.6764 116.5,-849.6817\" fill=\"none\" stroke=\"#000000\"/>\n<polygon fill=\"#000000\" points=\"120.0001,-849.5903 116.5,-839.5904 113.0001,-849.5904 120.0001,-849.5903\" stroke=\"#000000\"/>\n</g>\n<!-- 140031735428432 -->\n<g class=\"node\" id=\"node3\">\n<title>140031735428432</title>\n<polygon fill=\"none\" points=\"61.5,-730.5 61.5,-766.5 171.5,-766.5 171.5,-730.5 61.5,-730.5\" stroke=\"#000000\"/>\n<text fill=\"#000000\" font-family=\"Times,serif\" font-size=\"14.00\" text-anchor=\"middle\" x=\"116.5\" y=\"-744.8\">conv0: Conv2D</text>\n</g>\n<!-- 140031735428320&#45;&gt;140031735428432 -->\n<g class=\"edge\" id=\"edge2\">\n<title>140031735428320-&gt;140031735428432</title>\n<path d=\"M116.5,-803.4551C116.5,-795.3828 116.5,-785.6764 116.5,-776.6817\" fill=\"none\" stroke=\"#000000\"/>\n<polygon fill=\"#000000\" points=\"120.0001,-776.5903 116.5,-766.5904 113.0001,-776.5904 120.0001,-776.5903\" stroke=\"#000000\"/>\n</g>\n<!-- 140031735432808 -->\n<g class=\"node\" id=\"node4\">\n<title>140031735432808</title>\n<polygon fill=\"none\" points=\"36,-657.5 36,-693.5 197,-693.5 197,-657.5 36,-657.5\" stroke=\"#000000\"/>\n<text fill=\"#000000\" font-family=\"Times,serif\" font-size=\"14.00\" text-anchor=\"middle\" x=\"116.5\" y=\"-671.8\">bn0: BatchNormalization</text>\n</g>\n<!-- 140031735428432&#45;&gt;140031735432808 -->\n<g class=\"edge\" id=\"edge3\">\n<title>140031735428432-&gt;140031735432808</title>\n<path d=\"M116.5,-730.4551C116.5,-722.3828 116.5,-712.6764 116.5,-703.6817\" fill=\"none\" stroke=\"#000000\"/>\n<polygon fill=\"#000000\" points=\"120.0001,-703.5903 116.5,-693.5904 113.0001,-703.5904 120.0001,-703.5903\" stroke=\"#000000\"/>\n</g>\n<!-- 140031735433200 -->\n<g class=\"node\" id=\"node5\">\n<title>140031735433200</title>\n<polygon fill=\"none\" points=\"36,-584.5 36,-620.5 197,-620.5 197,-584.5 36,-584.5\" stroke=\"#000000\"/>\n<text fill=\"#000000\" font-family=\"Times,serif\" font-size=\"14.00\" text-anchor=\"middle\" x=\"116.5\" y=\"-598.8\">activation_14: Activation</text>\n</g>\n<!-- 140031735432808&#45;&gt;140031735433200 -->\n<g class=\"edge\" id=\"edge4\">\n<title>140031735432808-&gt;140031735433200</title>\n<path d=\"M116.5,-657.4551C116.5,-649.3828 116.5,-639.6764 116.5,-630.6817\" fill=\"none\" stroke=\"#000000\"/>\n<polygon fill=\"#000000\" points=\"120.0001,-630.5903 116.5,-620.5904 113.0001,-630.5904 120.0001,-630.5903\" stroke=\"#000000\"/>\n</g>\n<!-- 140031735408288 -->\n<g class=\"node\" id=\"node6\">\n<title>140031735408288</title>\n<polygon fill=\"none\" points=\"2,-511.5 2,-547.5 231,-547.5 231,-511.5 2,-511.5\" stroke=\"#000000\"/>\n<text fill=\"#000000\" font-family=\"Times,serif\" font-size=\"14.00\" text-anchor=\"middle\" x=\"116.5\" y=\"-525.8\">max_pooling2d_23: MaxPooling2D</text>\n</g>\n<!-- 140031735433200&#45;&gt;140031735408288 -->\n<g class=\"edge\" id=\"edge5\">\n<title>140031735433200-&gt;140031735408288</title>\n<path d=\"M116.5,-584.4551C116.5,-576.3828 116.5,-566.6764 116.5,-557.6817\" fill=\"none\" stroke=\"#000000\"/>\n<polygon fill=\"#000000\" points=\"120.0001,-557.5903 116.5,-547.5904 113.0001,-557.5904 120.0001,-557.5903\" stroke=\"#000000\"/>\n</g>\n<!-- 140032543851464 -->\n<g class=\"node\" id=\"node7\">\n<title>140032543851464</title>\n<polygon fill=\"none\" points=\"61.5,-438.5 61.5,-474.5 171.5,-474.5 171.5,-438.5 61.5,-438.5\" stroke=\"#000000\"/>\n<text fill=\"#000000\" font-family=\"Times,serif\" font-size=\"14.00\" text-anchor=\"middle\" x=\"116.5\" y=\"-452.8\">conv1: Conv2D</text>\n</g>\n<!-- 140031735408288&#45;&gt;140032543851464 -->\n<g class=\"edge\" id=\"edge6\">\n<title>140031735408288-&gt;140032543851464</title>\n<path d=\"M116.5,-511.4551C116.5,-503.3828 116.5,-493.6764 116.5,-484.6817\" fill=\"none\" stroke=\"#000000\"/>\n<polygon fill=\"#000000\" points=\"120.0001,-484.5903 116.5,-474.5904 113.0001,-484.5904 120.0001,-484.5903\" stroke=\"#000000\"/>\n</g>\n<!-- 140031735659152 -->\n<g class=\"node\" id=\"node8\">\n<title>140031735659152</title>\n<polygon fill=\"none\" points=\"2,-365.5 2,-401.5 231,-401.5 231,-365.5 2,-365.5\" stroke=\"#000000\"/>\n<text fill=\"#000000\" font-family=\"Times,serif\" font-size=\"14.00\" text-anchor=\"middle\" x=\"116.5\" y=\"-379.8\">max_pooling2d_24: MaxPooling2D</text>\n</g>\n<!-- 140032543851464&#45;&gt;140031735659152 -->\n<g class=\"edge\" id=\"edge7\">\n<title>140032543851464-&gt;140031735659152</title>\n<path d=\"M116.5,-438.4551C116.5,-430.3828 116.5,-420.6764 116.5,-411.6817\" fill=\"none\" stroke=\"#000000\"/>\n<polygon fill=\"#000000\" points=\"120.0001,-411.5903 116.5,-401.5904 113.0001,-411.5904 120.0001,-411.5903\" stroke=\"#000000\"/>\n</g>\n<!-- 140031735670656 -->\n<g class=\"node\" id=\"node9\">\n<title>140031735670656</title>\n<polygon fill=\"none\" points=\"56,-292.5 56,-328.5 177,-328.5 177,-292.5 56,-292.5\" stroke=\"#000000\"/>\n<text fill=\"#000000\" font-family=\"Times,serif\" font-size=\"14.00\" text-anchor=\"middle\" x=\"116.5\" y=\"-306.8\">flatten_12: Flatten</text>\n</g>\n<!-- 140031735659152&#45;&gt;140031735670656 -->\n<g class=\"edge\" id=\"edge8\">\n<title>140031735659152-&gt;140031735670656</title>\n<path d=\"M116.5,-365.4551C116.5,-357.3828 116.5,-347.6764 116.5,-338.6817\" fill=\"none\" stroke=\"#000000\"/>\n<polygon fill=\"#000000\" points=\"120.0001,-338.5903 116.5,-328.5904 113.0001,-338.5904 120.0001,-338.5903\" stroke=\"#000000\"/>\n</g>\n<!-- 140031735669648 -->\n<g class=\"node\" id=\"node10\">\n<title>140031735669648</title>\n<polygon fill=\"none\" points=\"78,-219.5 78,-255.5 155,-255.5 155,-219.5 78,-219.5\" stroke=\"#000000\"/>\n<text fill=\"#000000\" font-family=\"Times,serif\" font-size=\"14.00\" text-anchor=\"middle\" x=\"116.5\" y=\"-233.8\">fc1: Dense</text>\n</g>\n<!-- 140031735670656&#45;&gt;140031735669648 -->\n<g class=\"edge\" id=\"edge9\">\n<title>140031735670656-&gt;140031735669648</title>\n<path d=\"M116.5,-292.4551C116.5,-284.3828 116.5,-274.6764 116.5,-265.6817\" fill=\"none\" stroke=\"#000000\"/>\n<polygon fill=\"#000000\" points=\"120.0001,-265.5903 116.5,-255.5904 113.0001,-265.5904 120.0001,-265.5903\" stroke=\"#000000\"/>\n</g>\n<!-- 140031735864400 -->\n<g class=\"node\" id=\"node11\">\n<title>140031735864400</title>\n<polygon fill=\"none\" points=\"78,-146.5 78,-182.5 155,-182.5 155,-146.5 78,-146.5\" stroke=\"#000000\"/>\n<text fill=\"#000000\" font-family=\"Times,serif\" font-size=\"14.00\" text-anchor=\"middle\" x=\"116.5\" y=\"-160.8\">fc2: Dense</text>\n</g>\n<!-- 140031735669648&#45;&gt;140031735864400 -->\n<g class=\"edge\" id=\"edge10\">\n<title>140031735669648-&gt;140031735864400</title>\n<path d=\"M116.5,-219.4551C116.5,-211.3828 116.5,-201.6764 116.5,-192.6817\" fill=\"none\" stroke=\"#000000\"/>\n<polygon fill=\"#000000\" points=\"120.0001,-192.5903 116.5,-182.5904 113.0001,-192.5904 120.0001,-192.5903\" stroke=\"#000000\"/>\n</g>\n<!-- 140031736166776 -->\n<g class=\"node\" id=\"node12\">\n<title>140031736166776</title>\n<polygon fill=\"none\" points=\"78,-73.5 78,-109.5 155,-109.5 155,-73.5 78,-73.5\" stroke=\"#000000\"/>\n<text fill=\"#000000\" font-family=\"Times,serif\" font-size=\"14.00\" text-anchor=\"middle\" x=\"116.5\" y=\"-87.8\">fc3: Dense</text>\n</g>\n<!-- 140031735864400&#45;&gt;140031736166776 -->\n<g class=\"edge\" id=\"edge11\">\n<title>140031735864400-&gt;140031736166776</title>\n<path d=\"M116.5,-146.4551C116.5,-138.3828 116.5,-128.6764 116.5,-119.6817\" fill=\"none\" stroke=\"#000000\"/>\n<polygon fill=\"#000000\" points=\"120.0001,-119.5903 116.5,-109.5904 113.0001,-119.5904 120.0001,-119.5903\" stroke=\"#000000\"/>\n</g>\n<!-- 140031736480040 -->\n<g class=\"node\" id=\"node13\">\n<title>140031736480040</title>\n<polygon fill=\"none\" points=\"78,-.5 78,-36.5 155,-36.5 155,-.5 78,-.5\" stroke=\"#000000\"/>\n<text fill=\"#000000\" font-family=\"Times,serif\" font-size=\"14.00\" text-anchor=\"middle\" x=\"116.5\" y=\"-14.8\">fc4: Dense</text>\n</g>\n<!-- 140031736166776&#45;&gt;140031736480040 -->\n<g class=\"edge\" id=\"edge12\">\n<title>140031736166776-&gt;140031736480040</title>\n<path d=\"M116.5,-73.4551C116.5,-65.3828 116.5,-55.6764 116.5,-46.6817\" fill=\"none\" stroke=\"#000000\"/>\n<polygon fill=\"#000000\" points=\"120.0001,-46.5903 116.5,-36.5904 113.0001,-46.5904 120.0001,-46.5903\" stroke=\"#000000\"/>\n</g>\n</g>\n</svg>"
          },
          "metadata": {
            "tags": []
          },
          "execution_count": 109
        }
      ]
    },
    {
      "cell_type": "code",
      "metadata": {
        "id": "qAwq0Wb6B9K9",
        "colab_type": "code",
        "colab": {
          "base_uri": "https://localhost:8080/",
          "height": 353
        },
        "outputId": "61875928-8aca-4190-fd60-9bf0f1d53c50"
      },
      "source": [
        "img_path = 'images/my_image.jpg'\n",
        "img = image.load_img(img_path, grayscale=True,target_size=(28, 28))\n",
        "x = image.img_to_array(img)\n",
        "x = np.expand_dims(x, axis=0)\n",
        "x = x/255.0\n",
        "print('Input image shape:', x.shape)\n",
        "imgplot = imshow(img)\n",
        "print(MyModel.predict(x))"
      ],
      "execution_count": 110,
      "outputs": [
        {
          "output_type": "stream",
          "text": [
            "/usr/local/lib/python3.6/dist-packages/keras_preprocessing/image/utils.py:104: UserWarning: grayscale is deprecated. Please use color_mode = \"grayscale\"\n",
            "  warnings.warn('grayscale is deprecated. Please use '\n"
          ],
          "name": "stderr"
        },
        {
          "output_type": "stream",
          "text": [
            "Input image shape: (1, 28, 28, 1)\n",
            "[[2.4515934]]\n"
          ],
          "name": "stdout"
        },
        {
          "output_type": "display_data",
          "data": {
            "image/png": "[encoded data removed]",
            "text/plain": [
              "<Figure size 432x288 with 1 Axes>"
            ]
          },
          "metadata": {
            "tags": []
          }
        }
      ]
    },
    {
      "cell_type": "code",
      "metadata": {
        "id": "x7Qsyi_QDL2i",
        "colab_type": "code",
        "colab": {}
      },
      "source": [
        ""
      ],
      "execution_count": 0,
      "outputs": []
    }
  ]
}